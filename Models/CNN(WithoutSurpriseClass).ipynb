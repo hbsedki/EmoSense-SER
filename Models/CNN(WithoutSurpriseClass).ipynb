{
  "cells": [
    {
      "cell_type": "markdown",
      "metadata": {
        "id": "O8fnEe5DRdLw",
        "papermill": {
          "duration": 0.035265,
          "end_time": "2022-08-07T15:49:16.185230",
          "exception": false,
          "start_time": "2022-08-07T15:49:16.149965",
          "status": "completed"
        },
        "tags": []
      },
      "source": [
        "# **Speech Emotion Recognition - (CNN)**"
      ]
    },
    {
      "cell_type": "markdown",
      "metadata": {
        "id": "ucfqF--ORdLx",
        "papermill": {
          "duration": 0.033948,
          "end_time": "2022-08-07T15:49:16.254308",
          "exception": false,
          "start_time": "2022-08-07T15:49:16.220360",
          "status": "completed"
        },
        "tags": []
      },
      "source": [
        "#  Importing\n"
      ]
    },
    {
      "cell_type": "code",
      "execution_count": 5,
      "metadata": {
        "_cell_guid": "79c7e3d0-c299-4dcb-8224-4455121ee9b0",
        "_uuid": "d629ff2d2480ee46fbb7e2d37f6b5fab8052498a",
        "execution": {
          "iopub.execute_input": "2022-08-07T15:49:28.842714Z",
          "iopub.status.busy": "2022-08-07T15:49:28.842192Z",
          "iopub.status.idle": "2022-08-07T15:49:35.105951Z",
          "shell.execute_reply": "2022-08-07T15:49:35.104913Z",
          "shell.execute_reply.started": "2022-07-12T15:35:53.387596Z"
        },
        "id": "4oxcVrleRdLy",
        "papermill": {
          "duration": 6.326901,
          "end_time": "2022-08-07T15:49:35.106104",
          "exception": false,
          "start_time": "2022-08-07T15:49:28.779203",
          "status": "completed"
        },
        "tags": []
      },
      "outputs": [],
      "source": [
        "import pandas as pd\n",
        "import numpy as np\n",
        "\n",
        "import os\n",
        "import sys\n",
        "import tensorflow as tf\n",
        "import librosa\n",
        "import librosa.display\n",
        "import seaborn as sns\n",
        "import matplotlib.pyplot as plt"
      ]
    },
    {
      "cell_type": "code",
      "execution_count": 6,
      "metadata": {
        "_cell_guid": "79c7e3d0-c299-4dcb-8224-4455121ee9b0",
        "_uuid": "d629ff2d2480ee46fbb7e2d37f6b5fab8052498a",
        "execution": {
          "iopub.execute_input": "2022-08-07T15:49:35.228784Z",
          "iopub.status.busy": "2022-08-07T15:49:35.228169Z",
          "iopub.status.idle": "2022-08-07T15:49:35.313939Z",
          "shell.execute_reply": "2022-08-07T15:49:35.313501Z",
          "shell.execute_reply.started": "2022-07-12T15:35:59.676746Z"
        },
        "id": "RHZ3_-qgRdLz",
        "papermill": {
          "duration": 0.150702,
          "end_time": "2022-08-07T15:49:35.314078",
          "exception": false,
          "start_time": "2022-08-07T15:49:35.163376",
          "status": "completed"
        },
        "tags": []
      },
      "outputs": [],
      "source": [
        "from sklearn.preprocessing import StandardScaler, OneHotEncoder\n",
        "from sklearn.metrics import confusion_matrix, classification_report\n",
        "from sklearn.model_selection import train_test_split\n",
        "\n",
        "# to play the audio files\n",
        "from IPython.display import Audio\n",
        "\n",
        "import keras\n",
        "from keras.callbacks import EarlyStopping\n",
        "from keras.callbacks import ReduceLROnPlateau\n",
        "from keras.models import Sequential\n",
        "from keras.layers import Dense, Conv1D, MaxPooling1D, Flatten, Dropout, BatchNormalization,LSTM\n",
        "from keras.utils import to_categorical\n",
        "from keras.callbacks import ModelCheckpoint\n",
        "\n",
        "import warnings\n",
        "if not sys.warnoptions:\n",
        "    warnings.simplefilter(\"ignore\")\n",
        "warnings.filterwarnings(\"ignore\", category=DeprecationWarning)"
      ]
    },
    {
      "cell_type": "markdown",
      "metadata": {
        "id": "UNc1F0uke34U"
      },
      "source": [
        "#Utalizing GPU for Feature Extraction and Model Training\n"
      ]
    },
    {
      "cell_type": "code",
      "execution_count": 2,
      "metadata": {
        "colab": {
          "base_uri": "https://localhost:8080/"
        },
        "id": "_w2A9fEfepj3",
        "outputId": "b5bbd6c6-c4f0-4f65-fc8b-8c652ece289f"
      },
      "outputs": [
        {
          "name": "stdout",
          "output_type": "stream",
          "text": [
            "GPU is available!\n"
          ]
        }
      ],
      "source": [
        "import torch\n",
        "# Check if GPU is available\n",
        "if torch.cuda.is_available():\n",
        "    print('GPU is available!')\n",
        "else:\n",
        "    print('GPU is not available.')"
      ]
    },
    {
      "cell_type": "code",
      "execution_count": 3,
      "metadata": {
        "id": "V101LP9ietck"
      },
      "outputs": [],
      "source": [
        "# Define a tensor (replace this with your actual tensor creation)\n",
        "tensor = torch.randn(3, 3)\n",
        "\n",
        "# Move tensors/models to GPU if available\n",
        "device = torch.device('cuda' if torch.cuda.is_available() else 'cpu')\n",
        "\n",
        "# Move tensor to GPU\n",
        "tensor = tensor.to(device)"
      ]
    },
    {
      "cell_type": "code",
      "execution_count": 32,
      "metadata": {
        "colab": {
          "base_uri": "https://localhost:8080/"
        },
        "execution": {
          "iopub.execute_input": "2022-08-07T16:32:06.590668Z",
          "iopub.status.busy": "2022-08-07T16:32:06.589834Z",
          "iopub.status.idle": "2022-08-07T16:32:30.974065Z",
          "shell.execute_reply": "2022-08-07T16:32:30.973571Z"
        },
        "id": "miO7AC3-RdL-",
        "outputId": "cf7f81e2-c7ec-4b65-a6cb-2cde3b518740",
        "papermill": {
          "duration": 24.56348,
          "end_time": "2022-08-07T16:32:30.974177",
          "exception": false,
          "start_time": "2022-08-07T16:32:06.410697",
          "status": "completed"
        },
        "tags": []
      },
      "outputs": [
        {
          "name": "stdout",
          "output_type": "stream",
          "text": [
            "(17476, 2377)\n"
          ]
        }
      ],
      "source": [
        "Features = pd.read_csv('features(withSurpriseClass).csv')\n",
        "print(Features.shape)"
      ]
    },
    {
      "cell_type": "code",
      "execution_count": 33,
      "metadata": {
        "colab": {
          "base_uri": "https://localhost:8080/"
        },
        "execution": {
          "iopub.execute_input": "2022-08-07T16:32:31.329320Z",
          "iopub.status.busy": "2022-08-07T16:32:31.328126Z",
          "iopub.status.idle": "2022-08-07T16:32:32.115622Z",
          "shell.execute_reply": "2022-08-07T16:32:32.115172Z"
        },
        "id": "yK8dPYYlRdL-",
        "outputId": "cbc4869d-c90a-4be3-85fe-15b71e74b125",
        "papermill": {
          "duration": 0.96909,
          "end_time": "2022-08-07T16:32:32.115721",
          "exception": false,
          "start_time": "2022-08-07T16:32:31.146631",
          "status": "completed"
        },
        "tags": []
      },
      "outputs": [
        {
          "name": "stdout",
          "output_type": "stream",
          "text": [
            "0         False\n",
            "1         False\n",
            "2         False\n",
            "3         False\n",
            "4         False\n",
            "          ...  \n",
            "2372      False\n",
            "2373      False\n",
            "2374      False\n",
            "2375      False\n",
            "labels    False\n",
            "Length: 2377, dtype: bool\n"
          ]
        },
        {
          "data": {
            "text/plain": [
              "(17476, 2377)"
            ]
          },
          "execution_count": 33,
          "metadata": {},
          "output_type": "execute_result"
        }
      ],
      "source": [
        "# Replace missing values in the Features DataFrame with 0,\n",
        "# then check if there are any NaN values remaining,\n",
        "Features = Features.fillna(0)\n",
        "print(Features.isna().any())\n",
        "Features.shape\n"
      ]
    },
    {
      "cell_type": "code",
      "execution_count": 34,
      "metadata": {
        "execution": {
          "iopub.execute_input": "2022-08-07T16:32:32.732860Z",
          "iopub.status.busy": "2022-08-07T16:32:32.731841Z",
          "iopub.status.idle": "2022-08-07T16:32:32.752184Z",
          "shell.execute_reply": "2022-08-07T16:32:32.751358Z"
        },
        "id": "sshwB_SeRdL-",
        "papermill": {
          "duration": 0.463355,
          "end_time": "2022-08-07T16:32:32.752293",
          "exception": false,
          "start_time": "2022-08-07T16:32:32.288938",
          "status": "completed"
        },
        "tags": []
      },
      "outputs": [],
      "source": [
        "# Extract features (X) and labels (Y) from the Features DataFrame:\n",
        "X = Features.iloc[:, :-1].values\n",
        "Y = Features['labels'].values\n"
      ]
    },
    {
      "cell_type": "code",
      "execution_count": 35,
      "metadata": {
        "colab": {
          "base_uri": "https://localhost:8080/"
        },
        "execution": {
          "iopub.execute_input": "2022-08-07T16:32:33.336466Z",
          "iopub.status.busy": "2022-08-07T16:32:33.335743Z",
          "iopub.status.idle": "2022-08-07T16:32:33.365864Z",
          "shell.execute_reply": "2022-08-07T16:32:33.366546Z"
        },
        "id": "RH9xdzPzRdL-",
        "outputId": "ad0ced97-d427-4ace-cac1-1ae028b5ed0b",
        "papermill": {
          "duration": 0.345296,
          "end_time": "2022-08-07T16:32:33.366677",
          "exception": false,
          "start_time": "2022-08-07T16:32:33.021381",
          "status": "completed"
        },
        "tags": []
      },
      "outputs": [
        {
          "data": {
            "text/plain": [
              "[array(['angry', 'disgust', 'fear', 'happy', 'neutral', 'sad'],\n",
              "       dtype=object)]"
            ]
          },
          "execution_count": 35,
          "metadata": {},
          "output_type": "execute_result"
        }
      ],
      "source": [
        "# Initialize a OneHotEncoder, encode the labels (Y), and convert to NumPy array.\n",
        "encoder = OneHotEncoder()\n",
        "Y = encoder.fit_transform(np.array(Y).reshape(-1, 1)).toarray()\n",
        "\n",
        "# Print the categories encoded by the encoder.\n",
        "encoder.categories_\n"
      ]
    },
    {
      "cell_type": "code",
      "execution_count": 36,
      "metadata": {
        "colab": {
          "base_uri": "https://localhost:8080/"
        },
        "execution": {
          "iopub.execute_input": "2022-08-07T16:32:33.758284Z",
          "iopub.status.busy": "2022-08-07T16:32:33.757463Z",
          "iopub.status.idle": "2022-08-07T16:32:35.883262Z",
          "shell.execute_reply": "2022-08-07T16:32:35.882567Z"
        },
        "id": "Vm1K2tRYRdL-",
        "outputId": "980e5e22-0e62-4e1c-c5f6-7738c1550670",
        "papermill": {
          "duration": 2.307744,
          "end_time": "2022-08-07T16:32:35.883370",
          "exception": false,
          "start_time": "2022-08-07T16:32:33.575626",
          "status": "completed"
        },
        "tags": []
      },
      "outputs": [
        {
          "data": {
            "text/plain": [
              "((14854, 2376), (14854, 6), (2622, 2376), (2622, 6))"
            ]
          },
          "execution_count": 36,
          "metadata": {},
          "output_type": "execute_result"
        }
      ],
      "source": [
        "# Split the dataset with a test size of 15%,\n",
        "# using stratified sampling based on Y to maintain class balance.\n",
        "x_train, x_test, y_train, y_test = train_test_split(X, Y, test_size=0.15, random_state=30, shuffle=True, stratify=Y)\n",
        "\n",
        "x_train.shape, y_train.shape, x_test.shape, y_test.shape\n"
      ]
    },
    {
      "cell_type": "code",
      "execution_count": 37,
      "metadata": {
        "colab": {
          "base_uri": "https://localhost:8080/"
        },
        "execution": {
          "iopub.execute_input": "2022-08-07T16:32:36.244435Z",
          "iopub.status.busy": "2022-08-07T16:32:36.243665Z",
          "iopub.status.idle": "2022-08-07T16:32:36.438881Z",
          "shell.execute_reply": "2022-08-07T16:32:36.438426Z"
        },
        "id": "7UhdVhsrRdL-",
        "outputId": "c1719117-896a-4742-cc85-d8afaa1dfce5",
        "papermill": {
          "duration": 0.379532,
          "end_time": "2022-08-07T16:32:36.439076",
          "exception": false,
          "start_time": "2022-08-07T16:32:36.059544",
          "status": "completed"
        },
        "tags": []
      },
      "outputs": [
        {
          "data": {
            "text/plain": [
              "((14854, 2376),\n",
              " (1966, 2376),\n",
              " (656, 2376),\n",
              " (14854, 2376),\n",
              " (1966, 2376),\n",
              " (656, 2376))"
            ]
          },
          "execution_count": 37,
          "metadata": {},
          "output_type": "execute_result"
        }
      ],
      "source": [
        "# Further split the testing set into validation and testing subsets,\n",
        "# with a validation size of 25% of the original testing set.\n",
        "x_test, x_val, y_test, y_val = train_test_split(x_test, y_test, random_state=30, test_size=0.25, shuffle=True, stratify=y_test)\n",
        "\n",
        "x_train.shape, x_test.shape, x_val.shape, x_train.shape, x_test.shape, x_val.shape\n"
      ]
    },
    {
      "cell_type": "code",
      "execution_count": 38,
      "metadata": {
        "colab": {
          "base_uri": "https://localhost:8080/"
        },
        "execution": {
          "iopub.execute_input": "2022-08-07T16:32:36.794259Z",
          "iopub.status.busy": "2022-08-07T16:32:36.793350Z",
          "iopub.status.idle": "2022-08-07T16:32:40.005419Z",
          "shell.execute_reply": "2022-08-07T16:32:40.004482Z"
        },
        "id": "q2l4megvRdL-",
        "outputId": "e57ad244-8cbf-4e12-d7b4-93679f8f94e6",
        "papermill": {
          "duration": 3.393407,
          "end_time": "2022-08-07T16:32:40.005543",
          "exception": false,
          "start_time": "2022-08-07T16:32:36.612136",
          "status": "completed"
        },
        "tags": []
      },
      "outputs": [
        {
          "data": {
            "text/plain": [
              "((14854, 2376), (14854, 6), (1966, 2376), (1966, 6))"
            ]
          },
          "execution_count": 38,
          "metadata": {},
          "output_type": "execute_result"
        }
      ],
      "source": [
        "#  sklearn's Standard scaler\n",
        "scaler = StandardScaler()\n",
        "\n",
        "x_train = scaler.fit_transform(x_train)\n",
        "x_val=scaler.transform(x_val)\n",
        "x_test = scaler.transform(x_test)\n",
        "\n",
        "x_train.shape, y_train.shape, x_test.shape, y_test.shape"
      ]
    },
    {
      "cell_type": "code",
      "execution_count": 39,
      "metadata": {
        "colab": {
          "base_uri": "https://localhost:8080/"
        },
        "execution": {
          "iopub.execute_input": "2022-08-07T16:32:40.368671Z",
          "iopub.status.busy": "2022-08-07T16:32:40.367909Z",
          "iopub.status.idle": "2022-08-07T16:32:40.371201Z",
          "shell.execute_reply": "2022-08-07T16:32:40.371584Z"
        },
        "id": "7dRVO-hgRdL_",
        "outputId": "267d8747-0408-4812-9653-e71c849a0308",
        "papermill": {
          "duration": 0.185548,
          "end_time": "2022-08-07T16:32:40.371711",
          "exception": false,
          "start_time": "2022-08-07T16:32:40.186163",
          "status": "completed"
        },
        "tags": []
      },
      "outputs": [
        {
          "data": {
            "text/plain": [
              "((14854, 2376, 1), (14854, 6), (1966, 2376, 1), (1966, 6))"
            ]
          },
          "execution_count": 39,
          "metadata": {},
          "output_type": "execute_result"
        }
      ],
      "source": [
        "# Expand the dimensions of the training, testing, and validation sets along the third axis.\n",
        "x_train = np.expand_dims(x_train, axis=2)\n",
        "x_test = np.expand_dims(x_test, axis=2)\n",
        "x_val = np.expand_dims(x_val, axis=2)\n",
        "\n",
        "x_train.shape, y_train.shape, x_test.shape, y_test.shape\n"
      ]
    },
    {
      "cell_type": "code",
      "execution_count": 40,
      "metadata": {
        "execution": {
          "iopub.execute_input": "2022-08-07T16:32:40.728051Z",
          "iopub.status.busy": "2022-08-07T16:32:40.727520Z",
          "iopub.status.idle": "2022-08-07T16:32:43.047593Z",
          "shell.execute_reply": "2022-08-07T16:32:43.046774Z"
        },
        "id": "0q4uiVC-RdL_",
        "papermill": {
          "duration": 2.501573,
          "end_time": "2022-08-07T16:32:43.047708",
          "exception": false,
          "start_time": "2022-08-07T16:32:40.546135",
          "status": "completed"
        },
        "tags": []
      },
      "outputs": [],
      "source": [
        "optimizer = keras.optimizers.Adam(learning_rate=0.0005)"
      ]
    },
    {
      "cell_type": "code",
      "execution_count": 41,
      "metadata": {
        "colab": {
          "base_uri": "https://localhost:8080/"
        },
        "execution": {
          "iopub.execute_input": "2022-08-07T16:32:43.415251Z",
          "iopub.status.busy": "2022-08-07T16:32:43.414352Z",
          "iopub.status.idle": "2022-08-07T16:32:43.771539Z",
          "shell.execute_reply": "2022-08-07T16:32:43.770541Z"
        },
        "id": "eT3I8sTSRdL_",
        "outputId": "ed35d1ec-e847-422b-d269-a3aded4740e1",
        "papermill": {
          "duration": 0.548143,
          "end_time": "2022-08-07T16:32:43.771701",
          "exception": false,
          "start_time": "2022-08-07T16:32:43.223558",
          "status": "completed"
        },
        "tags": []
      },
      "outputs": [
        {
          "name": "stdout",
          "output_type": "stream",
          "text": [
            "Model: \"sequential\"\n",
            "_________________________________________________________________\n",
            " Layer (type)                Output Shape              Param #   \n",
            "=================================================================\n",
            " conv1d (Conv1D)             (None, 2374, 256)         1024      \n",
            "                                                                 \n",
            " batch_normalization (Batch  (None, 2374, 256)         1024      \n",
            " Normalization)                                                  \n",
            "                                                                 \n",
            " max_pooling1d (MaxPooling1  (None, 1187, 256)         0         \n",
            " D)                                                              \n",
            "                                                                 \n",
            " conv1d_1 (Conv1D)           (None, 1185, 256)         196864    \n",
            "                                                                 \n",
            " batch_normalization_1 (Bat  (None, 1185, 256)         1024      \n",
            " chNormalization)                                                \n",
            "                                                                 \n",
            " max_pooling1d_1 (MaxPoolin  (None, 592, 256)          0         \n",
            " g1D)                                                            \n",
            "                                                                 \n",
            " conv1d_2 (Conv1D)           (None, 590, 128)          98432     \n",
            "                                                                 \n",
            " batch_normalization_2 (Bat  (None, 590, 128)          512       \n",
            " chNormalization)                                                \n",
            "                                                                 \n",
            " max_pooling1d_2 (MaxPoolin  (None, 295, 128)          0         \n",
            " g1D)                                                            \n",
            "                                                                 \n",
            " dropout (Dropout)           (None, 295, 128)          0         \n",
            "                                                                 \n",
            " conv1d_3 (Conv1D)           (None, 293, 64)           24640     \n",
            "                                                                 \n",
            " batch_normalization_3 (Bat  (None, 293, 64)           256       \n",
            " chNormalization)                                                \n",
            "                                                                 \n",
            " max_pooling1d_3 (MaxPoolin  (None, 146, 64)           0         \n",
            " g1D)                                                            \n",
            "                                                                 \n",
            " flatten (Flatten)           (None, 9344)              0         \n",
            "                                                                 \n",
            " dense (Dense)               (None, 32)                299040    \n",
            "                                                                 \n",
            " batch_normalization_4 (Bat  (None, 32)                128       \n",
            " chNormalization)                                                \n",
            "                                                                 \n",
            " dropout_1 (Dropout)         (None, 32)                0         \n",
            "                                                                 \n",
            " dense_1 (Dense)             (None, 6)                 198       \n",
            "                                                                 \n",
            "=================================================================\n",
            "Total params: 623142 (2.38 MB)\n",
            "Trainable params: 621670 (2.37 MB)\n",
            "Non-trainable params: 1472 (5.75 KB)\n",
            "_________________________________________________________________\n"
          ]
        }
      ],
      "source": [
        "from keras.models import Sequential\n",
        "from keras.layers import Conv1D, MaxPooling1D, Flatten, Dense, Dropout, BatchNormalization\n",
        "\n",
        "# Define your model\n",
        "model = Sequential([\n",
        "    Conv1D(256, 3, activation='relu', input_shape=(2376, 1)),\n",
        "    BatchNormalization(),\n",
        "    MaxPooling1D(2),\n",
        "    Conv1D(256, 3, activation='relu'),\n",
        "    BatchNormalization(),\n",
        "    MaxPooling1D(2),\n",
        "    Conv1D(128, 3, activation='relu'),\n",
        "    BatchNormalization(),\n",
        "    MaxPooling1D(2),\n",
        "    Dropout(0.5),\n",
        "    Conv1D(64, 3, activation='relu'),\n",
        "    BatchNormalization(),\n",
        "    MaxPooling1D(2),\n",
        "    Flatten(),\n",
        "    Dense(32, activation='relu'),\n",
        "    BatchNormalization(),\n",
        "    Dropout(0.5),\n",
        "    Dense(6, activation='softmax')  # Change the output units to 6\n",
        "])\n",
        "\n",
        "# Compile the model\n",
        "model.compile(optimizer='adam', loss='categorical_crossentropy', metrics=['accuracy'])\n",
        "\n",
        "# Print model summary\n",
        "model.summary()\n"
      ]
    },
    {
      "cell_type": "code",
      "execution_count": 42,
      "metadata": {
        "execution": {
          "iopub.execute_input": "2022-08-07T16:32:44.347904Z",
          "iopub.status.busy": "2022-08-07T16:32:44.347078Z",
          "iopub.status.idle": "2022-08-07T16:32:44.349277Z",
          "shell.execute_reply": "2022-08-07T16:32:44.348603Z"
        },
        "id": "4_WlXqiMRdL_",
        "papermill": {
          "duration": 0.31686,
          "end_time": "2022-08-07T16:32:44.349422",
          "exception": false,
          "start_time": "2022-08-07T16:32:44.032562",
          "status": "completed"
        },
        "tags": []
      },
      "outputs": [],
      "source": [
        "#Add callbacks function\n",
        "learning_rate_reduction = ReduceLROnPlateau(monitor='val_acc',\n",
        "                                            patience=3,\n",
        "                                            verbose=1,\n",
        "                                            factor=0.5,\n",
        "                                            min_lr=0.00001)\n",
        "callbacks=[learning_rate_reduction]"
      ]
    },
    {
      "cell_type": "code",
      "execution_count": 43,
      "metadata": {
        "colab": {
          "base_uri": "https://localhost:8080/"
        },
        "execution": {
          "iopub.execute_input": "2022-08-07T16:32:44.754573Z",
          "iopub.status.busy": "2022-08-07T16:32:44.753814Z",
          "iopub.status.idle": "2022-08-07T17:37:12.924277Z",
          "shell.execute_reply": "2022-08-07T17:37:12.923766Z"
        },
        "id": "-CT2QyKNRdL_",
        "outputId": "1db56b27-242a-46b7-e0ee-e79506c09c4b",
        "papermill": {
          "duration": 3868.356595,
          "end_time": "2022-08-07T17:37:12.924393",
          "exception": false,
          "start_time": "2022-08-07T16:32:44.567798",
          "status": "completed"
        },
        "tags": []
      },
      "outputs": [
        {
          "name": "stdout",
          "output_type": "stream",
          "text": [
            "Epoch 1/200\n",
            "465/465 [==============================] - ETA: 0s - loss: 1.8771 - accuracy: 0.2952"
          ]
        },
        {
          "name": "stderr",
          "output_type": "stream",
          "text": [
            "WARNING:tensorflow:Learning rate reduction is conditioned on metric `val_acc` which is not available. Available metrics are: loss,accuracy,val_loss,val_accuracy,lr\n"
          ]
        },
        {
          "name": "stdout",
          "output_type": "stream",
          "text": [
            "\b\b\b\b\b\b\b\b\b\b\b\b\b\b\b\b\b\b\b\b\b\b\b\b\b\b\b\b\b\b\b\b\b\b\b\b\b\b\b\b\b\b\b\b\b\b\b\b\b\b\b\b\b\b\b\b\b\b\b\b\b\b\b\b\b\b\b\b\b\b\b\b\b\b\b\b\b\b\b\b\b\b\b\b\r465/465 [==============================] - 39s 58ms/step - loss: 1.8771 - accuracy: 0.2952 - val_loss: 1.6378 - val_accuracy: 0.2820 - lr: 0.0010\n",
            "Epoch 2/200\n",
            "464/465 [============================>.] - ETA: 0s - loss: 1.5310 - accuracy: 0.3765"
          ]
        },
        {
          "name": "stderr",
          "output_type": "stream",
          "text": [
            "WARNING:tensorflow:Learning rate reduction is conditioned on metric `val_acc` which is not available. Available metrics are: loss,accuracy,val_loss,val_accuracy,lr\n"
          ]
        },
        {
          "name": "stdout",
          "output_type": "stream",
          "text": [
            "\b\b\b\b\b\b\b\b\b\b\b\b\b\b\b\b\b\b\b\b\b\b\b\b\b\b\b\b\b\b\b\b\b\b\b\b\b\b\b\b\b\b\b\b\b\b\b\b\b\b\b\b\b\b\b\b\b\b\b\b\b\b\b\b\b\b\b\b\b\b\b\b\b\b\b\b\b\b\b\b\b\b\b\b\r465/465 [==============================] - 27s 59ms/step - loss: 1.5309 - accuracy: 0.3766 - val_loss: 1.4404 - val_accuracy: 0.4070 - lr: 0.0010\n",
            "Epoch 3/200\n",
            "464/465 [============================>.] - ETA: 0s - loss: 1.4354 - accuracy: 0.4215"
          ]
        },
        {
          "name": "stderr",
          "output_type": "stream",
          "text": [
            "WARNING:tensorflow:Learning rate reduction is conditioned on metric `val_acc` which is not available. Available metrics are: loss,accuracy,val_loss,val_accuracy,lr\n"
          ]
        },
        {
          "name": "stdout",
          "output_type": "stream",
          "text": [
            "\b\b\b\b\b\b\b\b\b\b\b\b\b\b\b\b\b\b\b\b\b\b\b\b\b\b\b\b\b\b\b\b\b\b\b\b\b\b\b\b\b\b\b\b\b\b\b\b\b\b\b\b\b\b\b\b\b\b\b\b\b\b\b\b\b\b\b\b\b\b\b\b\b\b\b\b\b\b\b\b\b\b\b\b\r465/465 [==============================] - 26s 57ms/step - loss: 1.4354 - accuracy: 0.4216 - val_loss: 1.4338 - val_accuracy: 0.3857 - lr: 0.0010\n",
            "Epoch 4/200\n",
            "464/465 [============================>.] - ETA: 0s - loss: 1.3874 - accuracy: 0.4454"
          ]
        },
        {
          "name": "stderr",
          "output_type": "stream",
          "text": [
            "WARNING:tensorflow:Learning rate reduction is conditioned on metric `val_acc` which is not available. Available metrics are: loss,accuracy,val_loss,val_accuracy,lr\n"
          ]
        },
        {
          "name": "stdout",
          "output_type": "stream",
          "text": [
            "\b\b\b\b\b\b\b\b\b\b\b\b\b\b\b\b\b\b\b\b\b\b\b\b\b\b\b\b\b\b\b\b\b\b\b\b\b\b\b\b\b\b\b\b\b\b\b\b\b\b\b\b\b\b\b\b\b\b\b\b\b\b\b\b\b\b\b\b\b\b\b\b\b\b\b\b\b\b\b\b\b\b\b\b\r465/465 [==============================] - 26s 56ms/step - loss: 1.3875 - accuracy: 0.4455 - val_loss: 1.3314 - val_accuracy: 0.4588 - lr: 0.0010\n",
            "Epoch 5/200\n",
            "464/465 [============================>.] - ETA: 0s - loss: 1.3529 - accuracy: 0.4631"
          ]
        },
        {
          "name": "stderr",
          "output_type": "stream",
          "text": [
            "WARNING:tensorflow:Learning rate reduction is conditioned on metric `val_acc` which is not available. Available metrics are: loss,accuracy,val_loss,val_accuracy,lr\n"
          ]
        },
        {
          "name": "stdout",
          "output_type": "stream",
          "text": [
            "\b\b\b\b\b\b\b\b\b\b\b\b\b\b\b\b\b\b\b\b\b\b\b\b\b\b\b\b\b\b\b\b\b\b\b\b\b\b\b\b\b\b\b\b\b\b\b\b\b\b\b\b\b\b\b\b\b\b\b\b\b\b\b\b\b\b\b\b\b\b\b\b\b\b\b\b\b\b\b\b\b\b\b\b\r465/465 [==============================] - 27s 57ms/step - loss: 1.3527 - accuracy: 0.4631 - val_loss: 1.3902 - val_accuracy: 0.4329 - lr: 0.0010\n",
            "Epoch 6/200\n",
            "464/465 [============================>.] - ETA: 0s - loss: 1.3032 - accuracy: 0.4878"
          ]
        },
        {
          "name": "stderr",
          "output_type": "stream",
          "text": [
            "WARNING:tensorflow:Learning rate reduction is conditioned on metric `val_acc` which is not available. Available metrics are: loss,accuracy,val_loss,val_accuracy,lr\n"
          ]
        },
        {
          "name": "stdout",
          "output_type": "stream",
          "text": [
            "\b\b\b\b\b\b\b\b\b\b\b\b\b\b\b\b\b\b\b\b\b\b\b\b\b\b\b\b\b\b\b\b\b\b\b\b\b\b\b\b\b\b\b\b\b\b\b\b\b\b\b\b\b\b\b\b\b\b\b\b\b\b\b\b\b\b\b\b\b\b\b\b\b\b\b\b\b\b\b\b\b\b\b\b\r465/465 [==============================] - 26s 56ms/step - loss: 1.3031 - accuracy: 0.4878 - val_loss: 1.5168 - val_accuracy: 0.4924 - lr: 0.0010\n",
            "Epoch 7/200\n",
            "464/465 [============================>.] - ETA: 0s - loss: 1.2679 - accuracy: 0.5090"
          ]
        },
        {
          "name": "stderr",
          "output_type": "stream",
          "text": [
            "WARNING:tensorflow:Learning rate reduction is conditioned on metric `val_acc` which is not available. Available metrics are: loss,accuracy,val_loss,val_accuracy,lr\n"
          ]
        },
        {
          "name": "stdout",
          "output_type": "stream",
          "text": [
            "\b\b\b\b\b\b\b\b\b\b\b\b\b\b\b\b\b\b\b\b\b\b\b\b\b\b\b\b\b\b\b\b\b\b\b\b\b\b\b\b\b\b\b\b\b\b\b\b\b\b\b\b\b\b\b\b\b\b\b\b\b\b\b\b\b\b\b\b\b\b\b\b\b\b\b\b\b\b\b\b\b\b\b\b\r465/465 [==============================] - 27s 57ms/step - loss: 1.2679 - accuracy: 0.5090 - val_loss: 1.2384 - val_accuracy: 0.5122 - lr: 0.0010\n",
            "Epoch 8/200\n",
            "464/465 [============================>.] - ETA: 0s - loss: 1.2359 - accuracy: 0.5209"
          ]
        },
        {
          "name": "stderr",
          "output_type": "stream",
          "text": [
            "WARNING:tensorflow:Learning rate reduction is conditioned on metric `val_acc` which is not available. Available metrics are: loss,accuracy,val_loss,val_accuracy,lr\n"
          ]
        },
        {
          "name": "stdout",
          "output_type": "stream",
          "text": [
            "\b\b\b\b\b\b\b\b\b\b\b\b\b\b\b\b\b\b\b\b\b\b\b\b\b\b\b\b\b\b\b\b\b\b\b\b\b\b\b\b\b\b\b\b\b\b\b\b\b\b\b\b\b\b\b\b\b\b\b\b\b\b\b\b\b\b\b\b\b\b\b\b\b\b\b\b\b\b\b\b\b\b\b\b\r465/465 [==============================] - 26s 56ms/step - loss: 1.2360 - accuracy: 0.5208 - val_loss: 1.2819 - val_accuracy: 0.5030 - lr: 0.0010\n",
            "Epoch 9/200\n",
            "464/465 [============================>.] - ETA: 0s - loss: 1.1928 - accuracy: 0.5423"
          ]
        },
        {
          "name": "stderr",
          "output_type": "stream",
          "text": [
            "WARNING:tensorflow:Learning rate reduction is conditioned on metric `val_acc` which is not available. Available metrics are: loss,accuracy,val_loss,val_accuracy,lr\n"
          ]
        },
        {
          "name": "stdout",
          "output_type": "stream",
          "text": [
            "\b\b\b\b\b\b\b\b\b\b\b\b\b\b\b\b\b\b\b\b\b\b\b\b\b\b\b\b\b\b\b\b\b\b\b\b\b\b\b\b\b\b\b\b\b\b\b\b\b\b\b\b\b\b\b\b\b\b\b\b\b\b\b\b\b\b\b\b\b\b\b\b\b\b\b\b\b\b\b\b\b\b\b\b\r465/465 [==============================] - 27s 57ms/step - loss: 1.1929 - accuracy: 0.5421 - val_loss: 1.3275 - val_accuracy: 0.4604 - lr: 0.0010\n",
            "Epoch 10/200\n",
            "464/465 [============================>.] - ETA: 0s - loss: 1.1441 - accuracy: 0.5643"
          ]
        },
        {
          "name": "stderr",
          "output_type": "stream",
          "text": [
            "WARNING:tensorflow:Learning rate reduction is conditioned on metric `val_acc` which is not available. Available metrics are: loss,accuracy,val_loss,val_accuracy,lr\n"
          ]
        },
        {
          "name": "stdout",
          "output_type": "stream",
          "text": [
            "\b\b\b\b\b\b\b\b\b\b\b\b\b\b\b\b\b\b\b\b\b\b\b\b\b\b\b\b\b\b\b\b\b\b\b\b\b\b\b\b\b\b\b\b\b\b\b\b\b\b\b\b\b\b\b\b\b\b\b\b\b\b\b\b\b\b\b\b\b\b\b\b\b\b\b\b\b\b\b\b\b\b\b\b\r465/465 [==============================] - 27s 57ms/step - loss: 1.1442 - accuracy: 0.5642 - val_loss: 1.1897 - val_accuracy: 0.5290 - lr: 0.0010\n",
            "Epoch 11/200\n",
            "464/465 [============================>.] - ETA: 0s - loss: 1.1058 - accuracy: 0.5758"
          ]
        },
        {
          "name": "stderr",
          "output_type": "stream",
          "text": [
            "WARNING:tensorflow:Learning rate reduction is conditioned on metric `val_acc` which is not available. Available metrics are: loss,accuracy,val_loss,val_accuracy,lr\n"
          ]
        },
        {
          "name": "stdout",
          "output_type": "stream",
          "text": [
            "\b\b\b\b\b\b\b\b\b\b\b\b\b\b\b\b\b\b\b\b\b\b\b\b\b\b\b\b\b\b\b\b\b\b\b\b\b\b\b\b\b\b\b\b\b\b\b\b\b\b\b\b\b\b\b\b\b\b\b\b\b\b\b\b\b\b\b\b\b\b\b\b\b\b\b\b\b\b\b\b\b\b\b\b\r465/465 [==============================] - 27s 57ms/step - loss: 1.1057 - accuracy: 0.5758 - val_loss: 1.1788 - val_accuracy: 0.5396 - lr: 0.0010\n",
            "Epoch 12/200\n",
            "464/465 [============================>.] - ETA: 0s - loss: 1.0605 - accuracy: 0.6026"
          ]
        },
        {
          "name": "stderr",
          "output_type": "stream",
          "text": [
            "WARNING:tensorflow:Learning rate reduction is conditioned on metric `val_acc` which is not available. Available metrics are: loss,accuracy,val_loss,val_accuracy,lr\n"
          ]
        },
        {
          "name": "stdout",
          "output_type": "stream",
          "text": [
            "\b\b\b\b\b\b\b\b\b\b\b\b\b\b\b\b\b\b\b\b\b\b\b\b\b\b\b\b\b\b\b\b\b\b\b\b\b\b\b\b\b\b\b\b\b\b\b\b\b\b\b\b\b\b\b\b\b\b\b\b\b\b\b\b\b\b\b\b\b\b\b\b\b\b\b\b\b\b\b\b\b\b\b\b\r465/465 [==============================] - 26s 57ms/step - loss: 1.0611 - accuracy: 0.6025 - val_loss: 1.1843 - val_accuracy: 0.5412 - lr: 0.0010\n",
            "Epoch 13/200\n",
            "464/465 [============================>.] - ETA: 0s - loss: 1.0168 - accuracy: 0.6155"
          ]
        },
        {
          "name": "stderr",
          "output_type": "stream",
          "text": [
            "WARNING:tensorflow:Learning rate reduction is conditioned on metric `val_acc` which is not available. Available metrics are: loss,accuracy,val_loss,val_accuracy,lr\n"
          ]
        },
        {
          "name": "stdout",
          "output_type": "stream",
          "text": [
            "\b\b\b\b\b\b\b\b\b\b\b\b\b\b\b\b\b\b\b\b\b\b\b\b\b\b\b\b\b\b\b\b\b\b\b\b\b\b\b\b\b\b\b\b\b\b\b\b\b\b\b\b\b\b\b\b\b\b\b\b\b\b\b\b\b\b\b\b\b\b\b\b\b\b\b\b\b\b\b\b\b\b\b\b\r465/465 [==============================] - 27s 57ms/step - loss: 1.0169 - accuracy: 0.6155 - val_loss: 1.1897 - val_accuracy: 0.5168 - lr: 0.0010\n",
            "Epoch 14/200\n",
            "464/465 [============================>.] - ETA: 0s - loss: 0.9766 - accuracy: 0.6342"
          ]
        },
        {
          "name": "stderr",
          "output_type": "stream",
          "text": [
            "WARNING:tensorflow:Learning rate reduction is conditioned on metric `val_acc` which is not available. Available metrics are: loss,accuracy,val_loss,val_accuracy,lr\n"
          ]
        },
        {
          "name": "stdout",
          "output_type": "stream",
          "text": [
            "\b\b\b\b\b\b\b\b\b\b\b\b\b\b\b\b\b\b\b\b\b\b\b\b\b\b\b\b\b\b\b\b\b\b\b\b\b\b\b\b\b\b\b\b\b\b\b\b\b\b\b\b\b\b\b\b\b\b\b\b\b\b\b\b\b\b\b\b\b\b\b\b\b\b\b\b\b\b\b\b\b\b\b\b\r465/465 [==============================] - 26s 57ms/step - loss: 0.9767 - accuracy: 0.6342 - val_loss: 1.0806 - val_accuracy: 0.5945 - lr: 0.0010\n",
            "Epoch 15/200\n",
            "464/465 [============================>.] - ETA: 0s - loss: 0.9419 - accuracy: 0.6496"
          ]
        },
        {
          "name": "stderr",
          "output_type": "stream",
          "text": [
            "WARNING:tensorflow:Learning rate reduction is conditioned on metric `val_acc` which is not available. Available metrics are: loss,accuracy,val_loss,val_accuracy,lr\n"
          ]
        },
        {
          "name": "stdout",
          "output_type": "stream",
          "text": [
            "\b\b\b\b\b\b\b\b\b\b\b\b\b\b\b\b\b\b\b\b\b\b\b\b\b\b\b\b\b\b\b\b\b\b\b\b\b\b\b\b\b\b\b\b\b\b\b\b\b\b\b\b\b\b\b\b\b\b\b\b\b\b\b\b\b\b\b\b\b\b\b\b\b\b\b\b\b\b\b\b\b\b\b\b\r465/465 [==============================] - 27s 57ms/step - loss: 0.9422 - accuracy: 0.6496 - val_loss: 1.1536 - val_accuracy: 0.5777 - lr: 0.0010\n",
            "Epoch 16/200\n",
            "464/465 [============================>.] - ETA: 0s - loss: 0.8981 - accuracy: 0.6653"
          ]
        },
        {
          "name": "stderr",
          "output_type": "stream",
          "text": [
            "WARNING:tensorflow:Learning rate reduction is conditioned on metric `val_acc` which is not available. Available metrics are: loss,accuracy,val_loss,val_accuracy,lr\n"
          ]
        },
        {
          "name": "stdout",
          "output_type": "stream",
          "text": [
            "\b\b\b\b\b\b\b\b\b\b\b\b\b\b\b\b\b\b\b\b\b\b\b\b\b\b\b\b\b\b\b\b\b\b\b\b\b\b\b\b\b\b\b\b\b\b\b\b\b\b\b\b\b\b\b\b\b\b\b\b\b\b\b\b\b\b\b\b\b\b\b\b\b\b\b\b\b\b\b\b\b\b\b\b\r465/465 [==============================] - 26s 57ms/step - loss: 0.8980 - accuracy: 0.6653 - val_loss: 1.1334 - val_accuracy: 0.5534 - lr: 0.0010\n",
            "Epoch 17/200\n",
            "464/465 [============================>.] - ETA: 0s - loss: 0.8643 - accuracy: 0.6800"
          ]
        },
        {
          "name": "stderr",
          "output_type": "stream",
          "text": [
            "WARNING:tensorflow:Learning rate reduction is conditioned on metric `val_acc` which is not available. Available metrics are: loss,accuracy,val_loss,val_accuracy,lr\n"
          ]
        },
        {
          "name": "stdout",
          "output_type": "stream",
          "text": [
            "\b\b\b\b\b\b\b\b\b\b\b\b\b\b\b\b\b\b\b\b\b\b\b\b\b\b\b\b\b\b\b\b\b\b\b\b\b\b\b\b\b\b\b\b\b\b\b\b\b\b\b\b\b\b\b\b\b\b\b\b\b\b\b\b\b\b\b\b\b\b\b\b\b\b\b\b\b\b\b\b\b\b\b\b\r465/465 [==============================] - 27s 58ms/step - loss: 0.8645 - accuracy: 0.6800 - val_loss: 1.1320 - val_accuracy: 0.5777 - lr: 0.0010\n",
            "Epoch 18/200\n",
            "464/465 [============================>.] - ETA: 0s - loss: 0.8329 - accuracy: 0.6913"
          ]
        },
        {
          "name": "stderr",
          "output_type": "stream",
          "text": [
            "WARNING:tensorflow:Learning rate reduction is conditioned on metric `val_acc` which is not available. Available metrics are: loss,accuracy,val_loss,val_accuracy,lr\n"
          ]
        },
        {
          "name": "stdout",
          "output_type": "stream",
          "text": [
            "\b\b\b\b\b\b\b\b\b\b\b\b\b\b\b\b\b\b\b\b\b\b\b\b\b\b\b\b\b\b\b\b\b\b\b\b\b\b\b\b\b\b\b\b\b\b\b\b\b\b\b\b\b\b\b\b\b\b\b\b\b\b\b\b\b\b\b\b\b\b\b\b\b\b\b\b\b\b\b\b\b\b\b\b\r465/465 [==============================] - 27s 57ms/step - loss: 0.8329 - accuracy: 0.6913 - val_loss: 1.0564 - val_accuracy: 0.5884 - lr: 0.0010\n",
            "Epoch 19/200\n",
            "464/465 [============================>.] - ETA: 0s - loss: 0.7925 - accuracy: 0.7047"
          ]
        },
        {
          "name": "stderr",
          "output_type": "stream",
          "text": [
            "WARNING:tensorflow:Learning rate reduction is conditioned on metric `val_acc` which is not available. Available metrics are: loss,accuracy,val_loss,val_accuracy,lr\n"
          ]
        },
        {
          "name": "stdout",
          "output_type": "stream",
          "text": [
            "\b\b\b\b\b\b\b\b\b\b\b\b\b\b\b\b\b\b\b\b\b\b\b\b\b\b\b\b\b\b\b\b\b\b\b\b\b\b\b\b\b\b\b\b\b\b\b\b\b\b\b\b\b\b\b\b\b\b\b\b\b\b\b\b\b\b\b\b\b\b\b\b\b\b\b\b\b\b\b\b\b\b\b\b\r465/465 [==============================] - 26s 57ms/step - loss: 0.7929 - accuracy: 0.7046 - val_loss: 0.9741 - val_accuracy: 0.6387 - lr: 0.0010\n",
            "Epoch 20/200\n",
            "464/465 [============================>.] - ETA: 0s - loss: 0.7644 - accuracy: 0.7194"
          ]
        },
        {
          "name": "stderr",
          "output_type": "stream",
          "text": [
            "WARNING:tensorflow:Learning rate reduction is conditioned on metric `val_acc` which is not available. Available metrics are: loss,accuracy,val_loss,val_accuracy,lr\n"
          ]
        },
        {
          "name": "stdout",
          "output_type": "stream",
          "text": [
            "\b\b\b\b\b\b\b\b\b\b\b\b\b\b\b\b\b\b\b\b\b\b\b\b\b\b\b\b\b\b\b\b\b\b\b\b\b\b\b\b\b\b\b\b\b\b\b\b\b\b\b\b\b\b\b\b\b\b\b\b\b\b\b\b\b\b\b\b\b\b\b\b\b\b\b\b\b\b\b\b\b\b\b\b\r465/465 [==============================] - 27s 58ms/step - loss: 0.7646 - accuracy: 0.7193 - val_loss: 0.9967 - val_accuracy: 0.6250 - lr: 0.0010\n",
            "Epoch 21/200\n",
            "464/465 [============================>.] - ETA: 0s - loss: 0.7387 - accuracy: 0.7261"
          ]
        },
        {
          "name": "stderr",
          "output_type": "stream",
          "text": [
            "WARNING:tensorflow:Learning rate reduction is conditioned on metric `val_acc` which is not available. Available metrics are: loss,accuracy,val_loss,val_accuracy,lr\n"
          ]
        },
        {
          "name": "stdout",
          "output_type": "stream",
          "text": [
            "\b\b\b\b\b\b\b\b\b\b\b\b\b\b\b\b\b\b\b\b\b\b\b\b\b\b\b\b\b\b\b\b\b\b\b\b\b\b\b\b\b\b\b\b\b\b\b\b\b\b\b\b\b\b\b\b\b\b\b\b\b\b\b\b\b\b\b\b\b\b\b\b\b\b\b\b\b\b\b\b\b\b\b\b\r465/465 [==============================] - 26s 57ms/step - loss: 0.7389 - accuracy: 0.7260 - val_loss: 0.9993 - val_accuracy: 0.6387 - lr: 0.0010\n",
            "Epoch 22/200\n",
            "464/465 [============================>.] - ETA: 0s - loss: 0.7165 - accuracy: 0.7382"
          ]
        },
        {
          "name": "stderr",
          "output_type": "stream",
          "text": [
            "WARNING:tensorflow:Learning rate reduction is conditioned on metric `val_acc` which is not available. Available metrics are: loss,accuracy,val_loss,val_accuracy,lr\n"
          ]
        },
        {
          "name": "stdout",
          "output_type": "stream",
          "text": [
            "\b\b\b\b\b\b\b\b\b\b\b\b\b\b\b\b\b\b\b\b\b\b\b\b\b\b\b\b\b\b\b\b\b\b\b\b\b\b\b\b\b\b\b\b\b\b\b\b\b\b\b\b\b\b\b\b\b\b\b\b\b\b\b\b\b\b\b\b\b\b\b\b\b\b\b\b\b\b\b\b\b\b\b\b\r465/465 [==============================] - 27s 58ms/step - loss: 0.7166 - accuracy: 0.7382 - val_loss: 1.0195 - val_accuracy: 0.6204 - lr: 0.0010\n",
            "Epoch 23/200\n",
            "464/465 [============================>.] - ETA: 0s - loss: 0.6869 - accuracy: 0.7473"
          ]
        },
        {
          "name": "stderr",
          "output_type": "stream",
          "text": [
            "WARNING:tensorflow:Learning rate reduction is conditioned on metric `val_acc` which is not available. Available metrics are: loss,accuracy,val_loss,val_accuracy,lr\n"
          ]
        },
        {
          "name": "stdout",
          "output_type": "stream",
          "text": [
            "\b\b\b\b\b\b\b\b\b\b\b\b\b\b\b\b\b\b\b\b\b\b\b\b\b\b\b\b\b\b\b\b\b\b\b\b\b\b\b\b\b\b\b\b\b\b\b\b\b\b\b\b\b\b\b\b\b\b\b\b\b\b\b\b\b\b\b\b\b\b\b\b\b\b\b\b\b\b\b\b\b\b\b\b\r465/465 [==============================] - 26s 57ms/step - loss: 0.6870 - accuracy: 0.7471 - val_loss: 1.0155 - val_accuracy: 0.6494 - lr: 0.0010\n",
            "Epoch 24/200\n",
            "464/465 [============================>.] - ETA: 0s - loss: 0.6578 - accuracy: 0.7588"
          ]
        },
        {
          "name": "stderr",
          "output_type": "stream",
          "text": [
            "WARNING:tensorflow:Learning rate reduction is conditioned on metric `val_acc` which is not available. Available metrics are: loss,accuracy,val_loss,val_accuracy,lr\n"
          ]
        },
        {
          "name": "stdout",
          "output_type": "stream",
          "text": [
            "\b\b\b\b\b\b\b\b\b\b\b\b\b\b\b\b\b\b\b\b\b\b\b\b\b\b\b\b\b\b\b\b\b\b\b\b\b\b\b\b\b\b\b\b\b\b\b\b\b\b\b\b\b\b\b\b\b\b\b\b\b\b\b\b\b\b\b\b\b\b\b\b\b\b\b\b\b\b\b\b\b\b\b\b\r465/465 [==============================] - 27s 58ms/step - loss: 0.6584 - accuracy: 0.7587 - val_loss: 0.9405 - val_accuracy: 0.6662 - lr: 0.0010\n",
            "Epoch 25/200\n",
            "464/465 [============================>.] - ETA: 0s - loss: 0.6385 - accuracy: 0.7639"
          ]
        },
        {
          "name": "stderr",
          "output_type": "stream",
          "text": [
            "WARNING:tensorflow:Learning rate reduction is conditioned on metric `val_acc` which is not available. Available metrics are: loss,accuracy,val_loss,val_accuracy,lr\n"
          ]
        },
        {
          "name": "stdout",
          "output_type": "stream",
          "text": [
            "\b\b\b\b\b\b\b\b\b\b\b\b\b\b\b\b\b\b\b\b\b\b\b\b\b\b\b\b\b\b\b\b\b\b\b\b\b\b\b\b\b\b\b\b\b\b\b\b\b\b\b\b\b\b\b\b\b\b\b\b\b\b\b\b\b\b\b\b\b\b\b\b\b\b\b\b\b\b\b\b\b\b\b\b\r465/465 [==============================] - 26s 57ms/step - loss: 0.6383 - accuracy: 0.7640 - val_loss: 0.9182 - val_accuracy: 0.6646 - lr: 0.0010\n",
            "Epoch 26/200\n",
            "464/465 [============================>.] - ETA: 0s - loss: 0.6252 - accuracy: 0.7711"
          ]
        },
        {
          "name": "stderr",
          "output_type": "stream",
          "text": [
            "WARNING:tensorflow:Learning rate reduction is conditioned on metric `val_acc` which is not available. Available metrics are: loss,accuracy,val_loss,val_accuracy,lr\n"
          ]
        },
        {
          "name": "stdout",
          "output_type": "stream",
          "text": [
            "\b\b\b\b\b\b\b\b\b\b\b\b\b\b\b\b\b\b\b\b\b\b\b\b\b\b\b\b\b\b\b\b\b\b\b\b\b\b\b\b\b\b\b\b\b\b\b\b\b\b\b\b\b\b\b\b\b\b\b\b\b\b\b\b\b\b\b\b\b\b\b\b\b\b\b\b\b\b\b\b\b\b\b\b\r465/465 [==============================] - 27s 57ms/step - loss: 0.6251 - accuracy: 0.7712 - val_loss: 0.9152 - val_accuracy: 0.6784 - lr: 0.0010\n",
            "Epoch 27/200\n",
            "464/465 [============================>.] - ETA: 0s - loss: 0.5945 - accuracy: 0.7792"
          ]
        },
        {
          "name": "stderr",
          "output_type": "stream",
          "text": [
            "WARNING:tensorflow:Learning rate reduction is conditioned on metric `val_acc` which is not available. Available metrics are: loss,accuracy,val_loss,val_accuracy,lr\n"
          ]
        },
        {
          "name": "stdout",
          "output_type": "stream",
          "text": [
            "\b\b\b\b\b\b\b\b\b\b\b\b\b\b\b\b\b\b\b\b\b\b\b\b\b\b\b\b\b\b\b\b\b\b\b\b\b\b\b\b\b\b\b\b\b\b\b\b\b\b\b\b\b\b\b\b\b\b\b\b\b\b\b\b\b\b\b\b\b\b\b\b\b\b\b\b\b\b\b\b\b\b\b\b\r465/465 [==============================] - 27s 57ms/step - loss: 0.5945 - accuracy: 0.7792 - val_loss: 0.9155 - val_accuracy: 0.6662 - lr: 0.0010\n",
            "Epoch 28/200\n",
            "464/465 [============================>.] - ETA: 0s - loss: 0.5803 - accuracy: 0.7885"
          ]
        },
        {
          "name": "stderr",
          "output_type": "stream",
          "text": [
            "WARNING:tensorflow:Learning rate reduction is conditioned on metric `val_acc` which is not available. Available metrics are: loss,accuracy,val_loss,val_accuracy,lr\n"
          ]
        },
        {
          "name": "stdout",
          "output_type": "stream",
          "text": [
            "\b\b\b\b\b\b\b\b\b\b\b\b\b\b\b\b\b\b\b\b\b\b\b\b\b\b\b\b\b\b\b\b\b\b\b\b\b\b\b\b\b\b\b\b\b\b\b\b\b\b\b\b\b\b\b\b\b\b\b\b\b\b\b\b\b\b\b\b\b\b\b\b\b\b\b\b\b\b\b\b\b\b\b\b\r465/465 [==============================] - 26s 57ms/step - loss: 0.5804 - accuracy: 0.7885 - val_loss: 0.9104 - val_accuracy: 0.6768 - lr: 0.0010\n",
            "Epoch 29/200\n",
            "464/465 [============================>.] - ETA: 0s - loss: 0.5826 - accuracy: 0.7860"
          ]
        },
        {
          "name": "stderr",
          "output_type": "stream",
          "text": [
            "WARNING:tensorflow:Learning rate reduction is conditioned on metric `val_acc` which is not available. Available metrics are: loss,accuracy,val_loss,val_accuracy,lr\n"
          ]
        },
        {
          "name": "stdout",
          "output_type": "stream",
          "text": [
            "\b\b\b\b\b\b\b\b\b\b\b\b\b\b\b\b\b\b\b\b\b\b\b\b\b\b\b\b\b\b\b\b\b\b\b\b\b\b\b\b\b\b\b\b\b\b\b\b\b\b\b\b\b\b\b\b\b\b\b\b\b\b\b\b\b\b\b\b\b\b\b\b\b\b\b\b\b\b\b\b\b\b\b\b\r465/465 [==============================] - 27s 58ms/step - loss: 0.5827 - accuracy: 0.7858 - val_loss: 0.8853 - val_accuracy: 0.6982 - lr: 0.0010\n",
            "Epoch 30/200\n",
            "464/465 [============================>.] - ETA: 0s - loss: 0.5474 - accuracy: 0.7983"
          ]
        },
        {
          "name": "stderr",
          "output_type": "stream",
          "text": [
            "WARNING:tensorflow:Learning rate reduction is conditioned on metric `val_acc` which is not available. Available metrics are: loss,accuracy,val_loss,val_accuracy,lr\n"
          ]
        },
        {
          "name": "stdout",
          "output_type": "stream",
          "text": [
            "\b\b\b\b\b\b\b\b\b\b\b\b\b\b\b\b\b\b\b\b\b\b\b\b\b\b\b\b\b\b\b\b\b\b\b\b\b\b\b\b\b\b\b\b\b\b\b\b\b\b\b\b\b\b\b\b\b\b\b\b\b\b\b\b\b\b\b\b\b\b\b\b\b\b\b\b\b\b\b\b\b\b\b\b\r465/465 [==============================] - 26s 56ms/step - loss: 0.5481 - accuracy: 0.7982 - val_loss: 0.9462 - val_accuracy: 0.6784 - lr: 0.0010\n",
            "Epoch 31/200\n",
            "464/465 [============================>.] - ETA: 0s - loss: 0.5479 - accuracy: 0.8023"
          ]
        },
        {
          "name": "stderr",
          "output_type": "stream",
          "text": [
            "WARNING:tensorflow:Learning rate reduction is conditioned on metric `val_acc` which is not available. Available metrics are: loss,accuracy,val_loss,val_accuracy,lr\n"
          ]
        },
        {
          "name": "stdout",
          "output_type": "stream",
          "text": [
            "\b\b\b\b\b\b\b\b\b\b\b\b\b\b\b\b\b\b\b\b\b\b\b\b\b\b\b\b\b\b\b\b\b\b\b\b\b\b\b\b\b\b\b\b\b\b\b\b\b\b\b\b\b\b\b\b\b\b\b\b\b\b\b\b\b\b\b\b\b\b\b\b\b\b\b\b\b\b\b\b\b\b\b\b\r465/465 [==============================] - 26s 57ms/step - loss: 0.5482 - accuracy: 0.8021 - val_loss: 0.9177 - val_accuracy: 0.6860 - lr: 0.0010\n",
            "Epoch 32/200\n",
            "464/465 [============================>.] - ETA: 0s - loss: 0.5299 - accuracy: 0.8070"
          ]
        },
        {
          "name": "stderr",
          "output_type": "stream",
          "text": [
            "WARNING:tensorflow:Learning rate reduction is conditioned on metric `val_acc` which is not available. Available metrics are: loss,accuracy,val_loss,val_accuracy,lr\n"
          ]
        },
        {
          "name": "stdout",
          "output_type": "stream",
          "text": [
            "\b\b\b\b\b\b\b\b\b\b\b\b\b\b\b\b\b\b\b\b\b\b\b\b\b\b\b\b\b\b\b\b\b\b\b\b\b\b\b\b\b\b\b\b\b\b\b\b\b\b\b\b\b\b\b\b\b\b\b\b\b\b\b\b\b\b\b\b\b\b\b\b\b\b\b\b\b\b\b\b\b\b\b\b\r465/465 [==============================] - 27s 57ms/step - loss: 0.5298 - accuracy: 0.8071 - val_loss: 0.9291 - val_accuracy: 0.6799 - lr: 0.0010\n",
            "Epoch 33/200\n",
            "464/465 [============================>.] - ETA: 0s - loss: 0.5107 - accuracy: 0.8161"
          ]
        },
        {
          "name": "stderr",
          "output_type": "stream",
          "text": [
            "WARNING:tensorflow:Learning rate reduction is conditioned on metric `val_acc` which is not available. Available metrics are: loss,accuracy,val_loss,val_accuracy,lr\n"
          ]
        },
        {
          "name": "stdout",
          "output_type": "stream",
          "text": [
            "\b\b\b\b\b\b\b\b\b\b\b\b\b\b\b\b\b\b\b\b\b\b\b\b\b\b\b\b\b\b\b\b\b\b\b\b\b\b\b\b\b\b\b\b\b\b\b\b\b\b\b\b\b\b\b\b\b\b\b\b\b\b\b\b\b\b\b\b\b\b\b\b\b\b\b\b\b\b\b\b\b\b\b\b\r465/465 [==============================] - 26s 57ms/step - loss: 0.5106 - accuracy: 0.8162 - val_loss: 0.9327 - val_accuracy: 0.6829 - lr: 0.0010\n",
            "Epoch 34/200\n",
            "464/465 [============================>.] - ETA: 0s - loss: 0.4975 - accuracy: 0.8236"
          ]
        },
        {
          "name": "stderr",
          "output_type": "stream",
          "text": [
            "WARNING:tensorflow:Learning rate reduction is conditioned on metric `val_acc` which is not available. Available metrics are: loss,accuracy,val_loss,val_accuracy,lr\n"
          ]
        },
        {
          "name": "stdout",
          "output_type": "stream",
          "text": [
            "\b\b\b\b\b\b\b\b\b\b\b\b\b\b\b\b\b\b\b\b\b\b\b\b\b\b\b\b\b\b\b\b\b\b\b\b\b\b\b\b\b\b\b\b\b\b\b\b\b\b\b\b\b\b\b\b\b\b\b\b\b\b\b\b\b\b\b\b\b\b\b\b\b\b\b\b\b\b\b\b\b\b\b\b\r465/465 [==============================] - 26s 56ms/step - loss: 0.4978 - accuracy: 0.8235 - val_loss: 0.8447 - val_accuracy: 0.7149 - lr: 0.0010\n",
            "Epoch 35/200\n",
            "464/465 [============================>.] - ETA: 0s - loss: 0.4981 - accuracy: 0.8176"
          ]
        },
        {
          "name": "stderr",
          "output_type": "stream",
          "text": [
            "WARNING:tensorflow:Learning rate reduction is conditioned on metric `val_acc` which is not available. Available metrics are: loss,accuracy,val_loss,val_accuracy,lr\n"
          ]
        },
        {
          "name": "stdout",
          "output_type": "stream",
          "text": [
            "\b\b\b\b\b\b\b\b\b\b\b\b\b\b\b\b\b\b\b\b\b\b\b\b\b\b\b\b\b\b\b\b\b\b\b\b\b\b\b\b\b\b\b\b\b\b\b\b\b\b\b\b\b\b\b\b\b\b\b\b\b\b\b\b\b\b\b\b\b\b\b\b\b\b\b\b\b\b\b\b\b\b\b\b\r465/465 [==============================] - 27s 57ms/step - loss: 0.4981 - accuracy: 0.8175 - val_loss: 0.8606 - val_accuracy: 0.7134 - lr: 0.0010\n",
            "Epoch 36/200\n",
            "464/465 [============================>.] - ETA: 0s - loss: 0.4782 - accuracy: 0.8233"
          ]
        },
        {
          "name": "stderr",
          "output_type": "stream",
          "text": [
            "WARNING:tensorflow:Learning rate reduction is conditioned on metric `val_acc` which is not available. Available metrics are: loss,accuracy,val_loss,val_accuracy,lr\n"
          ]
        },
        {
          "name": "stdout",
          "output_type": "stream",
          "text": [
            "\b\b\b\b\b\b\b\b\b\b\b\b\b\b\b\b\b\b\b\b\b\b\b\b\b\b\b\b\b\b\b\b\b\b\b\b\b\b\b\b\b\b\b\b\b\b\b\b\b\b\b\b\b\b\b\b\b\b\b\b\b\b\b\b\b\b\b\b\b\b\b\b\b\b\b\b\b\b\b\b\b\b\b\b\r465/465 [==============================] - 26s 57ms/step - loss: 0.4787 - accuracy: 0.8231 - val_loss: 0.8940 - val_accuracy: 0.7210 - lr: 0.0010\n",
            "Epoch 37/200\n",
            "464/465 [============================>.] - ETA: 0s - loss: 0.4601 - accuracy: 0.8275"
          ]
        },
        {
          "name": "stderr",
          "output_type": "stream",
          "text": [
            "WARNING:tensorflow:Learning rate reduction is conditioned on metric `val_acc` which is not available. Available metrics are: loss,accuracy,val_loss,val_accuracy,lr\n"
          ]
        },
        {
          "name": "stdout",
          "output_type": "stream",
          "text": [
            "\b\b\b\b\b\b\b\b\b\b\b\b\b\b\b\b\b\b\b\b\b\b\b\b\b\b\b\b\b\b\b\b\b\b\b\b\b\b\b\b\b\b\b\b\b\b\b\b\b\b\b\b\b\b\b\b\b\b\b\b\b\b\b\b\b\b\b\b\b\b\b\b\b\b\b\b\b\b\b\b\b\b\b\b\r465/465 [==============================] - 27s 57ms/step - loss: 0.4604 - accuracy: 0.8275 - val_loss: 0.9447 - val_accuracy: 0.6951 - lr: 0.0010\n",
            "Epoch 38/200\n",
            "464/465 [============================>.] - ETA: 0s - loss: 0.4734 - accuracy: 0.8303"
          ]
        },
        {
          "name": "stderr",
          "output_type": "stream",
          "text": [
            "WARNING:tensorflow:Learning rate reduction is conditioned on metric `val_acc` which is not available. Available metrics are: loss,accuracy,val_loss,val_accuracy,lr\n"
          ]
        },
        {
          "name": "stdout",
          "output_type": "stream",
          "text": [
            "\b\b\b\b\b\b\b\b\b\b\b\b\b\b\b\b\b\b\b\b\b\b\b\b\b\b\b\b\b\b\b\b\b\b\b\b\b\b\b\b\b\b\b\b\b\b\b\b\b\b\b\b\b\b\b\b\b\b\b\b\b\b\b\b\b\b\b\b\b\b\b\b\b\b\b\b\b\b\b\b\b\b\b\b\r465/465 [==============================] - 26s 56ms/step - loss: 0.4735 - accuracy: 0.8302 - val_loss: 0.8949 - val_accuracy: 0.7119 - lr: 0.0010\n",
            "Epoch 39/200\n",
            "464/465 [============================>.] - ETA: 0s - loss: 0.4516 - accuracy: 0.8378"
          ]
        },
        {
          "name": "stderr",
          "output_type": "stream",
          "text": [
            "WARNING:tensorflow:Learning rate reduction is conditioned on metric `val_acc` which is not available. Available metrics are: loss,accuracy,val_loss,val_accuracy,lr\n"
          ]
        },
        {
          "name": "stdout",
          "output_type": "stream",
          "text": [
            "\b\b\b\b\b\b\b\b\b\b\b\b\b\b\b\b\b\b\b\b\b\b\b\b\b\b\b\b\b\b\b\b\b\b\b\b\b\b\b\b\b\b\b\b\b\b\b\b\b\b\b\b\b\b\b\b\b\b\b\b\b\b\b\b\b\b\b\b\b\b\b\b\b\b\b\b\b\b\b\b\b\b\b\b\r465/465 [==============================] - 27s 57ms/step - loss: 0.4515 - accuracy: 0.8378 - val_loss: 0.8888 - val_accuracy: 0.7332 - lr: 0.0010\n",
            "Epoch 40/200\n",
            "464/465 [============================>.] - ETA: 0s - loss: 0.4338 - accuracy: 0.8435"
          ]
        },
        {
          "name": "stderr",
          "output_type": "stream",
          "text": [
            "WARNING:tensorflow:Learning rate reduction is conditioned on metric `val_acc` which is not available. Available metrics are: loss,accuracy,val_loss,val_accuracy,lr\n"
          ]
        },
        {
          "name": "stdout",
          "output_type": "stream",
          "text": [
            "\b\b\b\b\b\b\b\b\b\b\b\b\b\b\b\b\b\b\b\b\b\b\b\b\b\b\b\b\b\b\b\b\b\b\b\b\b\b\b\b\b\b\b\b\b\b\b\b\b\b\b\b\b\b\b\b\b\b\b\b\b\b\b\b\b\b\b\b\b\b\b\b\b\b\b\b\b\b\b\b\b\b\b\b\r465/465 [==============================] - 27s 58ms/step - loss: 0.4344 - accuracy: 0.8434 - val_loss: 0.8233 - val_accuracy: 0.7424 - lr: 0.0010\n",
            "Epoch 41/200\n",
            "464/465 [============================>.] - ETA: 0s - loss: 0.4272 - accuracy: 0.8438"
          ]
        },
        {
          "name": "stderr",
          "output_type": "stream",
          "text": [
            "WARNING:tensorflow:Learning rate reduction is conditioned on metric `val_acc` which is not available. Available metrics are: loss,accuracy,val_loss,val_accuracy,lr\n"
          ]
        },
        {
          "name": "stdout",
          "output_type": "stream",
          "text": [
            "\b\b\b\b\b\b\b\b\b\b\b\b\b\b\b\b\b\b\b\b\b\b\b\b\b\b\b\b\b\b\b\b\b\b\b\b\b\b\b\b\b\b\b\b\b\b\b\b\b\b\b\b\b\b\b\b\b\b\b\b\b\b\b\b\b\b\b\b\b\b\b\b\b\b\b\b\b\b\b\b\b\b\b\b\r465/465 [==============================] - 26s 56ms/step - loss: 0.4279 - accuracy: 0.8437 - val_loss: 0.8281 - val_accuracy: 0.7256 - lr: 0.0010\n",
            "Epoch 42/200\n",
            "464/465 [============================>.] - ETA: 0s - loss: 0.4298 - accuracy: 0.8460"
          ]
        },
        {
          "name": "stderr",
          "output_type": "stream",
          "text": [
            "WARNING:tensorflow:Learning rate reduction is conditioned on metric `val_acc` which is not available. Available metrics are: loss,accuracy,val_loss,val_accuracy,lr\n"
          ]
        },
        {
          "name": "stdout",
          "output_type": "stream",
          "text": [
            "\b\b\b\b\b\b\b\b\b\b\b\b\b\b\b\b\b\b\b\b\b\b\b\b\b\b\b\b\b\b\b\b\b\b\b\b\b\b\b\b\b\b\b\b\b\b\b\b\b\b\b\b\b\b\b\b\b\b\b\b\b\b\b\b\b\b\b\b\b\b\b\b\b\b\b\b\b\b\b\b\b\b\b\b\r465/465 [==============================] - 26s 57ms/step - loss: 0.4300 - accuracy: 0.8459 - val_loss: 0.8652 - val_accuracy: 0.7241 - lr: 0.0010\n",
            "Epoch 43/200\n",
            "464/465 [============================>.] - ETA: 0s - loss: 0.4205 - accuracy: 0.8477"
          ]
        },
        {
          "name": "stderr",
          "output_type": "stream",
          "text": [
            "WARNING:tensorflow:Learning rate reduction is conditioned on metric `val_acc` which is not available. Available metrics are: loss,accuracy,val_loss,val_accuracy,lr\n"
          ]
        },
        {
          "name": "stdout",
          "output_type": "stream",
          "text": [
            "\b\b\b\b\b\b\b\b\b\b\b\b\b\b\b\b\b\b\b\b\b\b\b\b\b\b\b\b\b\b\b\b\b\b\b\b\b\b\b\b\b\b\b\b\b\b\b\b\b\b\b\b\b\b\b\b\b\b\b\b\b\b\b\b\b\b\b\b\b\b\b\b\b\b\b\b\b\b\b\b\b\b\b\b\r465/465 [==============================] - 26s 56ms/step - loss: 0.4209 - accuracy: 0.8475 - val_loss: 0.8489 - val_accuracy: 0.7287 - lr: 0.0010\n",
            "Epoch 44/200\n",
            "464/465 [============================>.] - ETA: 0s - loss: 0.4114 - accuracy: 0.8541"
          ]
        },
        {
          "name": "stderr",
          "output_type": "stream",
          "text": [
            "WARNING:tensorflow:Learning rate reduction is conditioned on metric `val_acc` which is not available. Available metrics are: loss,accuracy,val_loss,val_accuracy,lr\n"
          ]
        },
        {
          "name": "stdout",
          "output_type": "stream",
          "text": [
            "\b\b\b\b\b\b\b\b\b\b\b\b\b\b\b\b\b\b\b\b\b\b\b\b\b\b\b\b\b\b\b\b\b\b\b\b\b\b\b\b\b\b\b\b\b\b\b\b\b\b\b\b\b\b\b\b\b\b\b\b\b\b\b\b\b\b\b\b\b\b\b\b\b\b\b\b\b\b\b\b\b\b\b\b\r465/465 [==============================] - 26s 57ms/step - loss: 0.4114 - accuracy: 0.8541 - val_loss: 0.8255 - val_accuracy: 0.7271 - lr: 0.0010\n",
            "Epoch 45/200\n",
            "464/465 [============================>.] - ETA: 0s - loss: 0.4004 - accuracy: 0.8549"
          ]
        },
        {
          "name": "stderr",
          "output_type": "stream",
          "text": [
            "WARNING:tensorflow:Learning rate reduction is conditioned on metric `val_acc` which is not available. Available metrics are: loss,accuracy,val_loss,val_accuracy,lr\n"
          ]
        },
        {
          "name": "stdout",
          "output_type": "stream",
          "text": [
            "\b\b\b\b\b\b\b\b\b\b\b\b\b\b\b\b\b\b\b\b\b\b\b\b\b\b\b\b\b\b\b\b\b\b\b\b\b\b\b\b\b\b\b\b\b\b\b\b\b\b\b\b\b\b\b\b\b\b\b\b\b\b\b\b\b\b\b\b\b\b\b\b\b\b\b\b\b\b\b\b\b\b\b\b\r465/465 [==============================] - 26s 56ms/step - loss: 0.4003 - accuracy: 0.8549 - val_loss: 0.8616 - val_accuracy: 0.7226 - lr: 0.0010\n",
            "Epoch 46/200\n",
            "464/465 [============================>.] - ETA: 0s - loss: 0.3986 - accuracy: 0.8576"
          ]
        },
        {
          "name": "stderr",
          "output_type": "stream",
          "text": [
            "WARNING:tensorflow:Learning rate reduction is conditioned on metric `val_acc` which is not available. Available metrics are: loss,accuracy,val_loss,val_accuracy,lr\n"
          ]
        },
        {
          "name": "stdout",
          "output_type": "stream",
          "text": [
            "\b\b\b\b\b\b\b\b\b\b\b\b\b\b\b\b\b\b\b\b\b\b\b\b\b\b\b\b\b\b\b\b\b\b\b\b\b\b\b\b\b\b\b\b\b\b\b\b\b\b\b\b\b\b\b\b\b\b\b\b\b\b\b\b\b\b\b\b\b\b\b\b\b\b\b\b\b\b\b\b\b\b\b\b\r465/465 [==============================] - 27s 57ms/step - loss: 0.3987 - accuracy: 0.8576 - val_loss: 0.8606 - val_accuracy: 0.7439 - lr: 0.0010\n",
            "Epoch 47/200\n",
            "464/465 [============================>.] - ETA: 0s - loss: 0.3908 - accuracy: 0.8609"
          ]
        },
        {
          "name": "stderr",
          "output_type": "stream",
          "text": [
            "WARNING:tensorflow:Learning rate reduction is conditioned on metric `val_acc` which is not available. Available metrics are: loss,accuracy,val_loss,val_accuracy,lr\n"
          ]
        },
        {
          "name": "stdout",
          "output_type": "stream",
          "text": [
            "\b\b\b\b\b\b\b\b\b\b\b\b\b\b\b\b\b\b\b\b\b\b\b\b\b\b\b\b\b\b\b\b\b\b\b\b\b\b\b\b\b\b\b\b\b\b\b\b\b\b\b\b\b\b\b\b\b\b\b\b\b\b\b\b\b\b\b\b\b\b\b\b\b\b\b\b\b\b\b\b\b\b\b\b\r465/465 [==============================] - 26s 56ms/step - loss: 0.3908 - accuracy: 0.8608 - val_loss: 0.8004 - val_accuracy: 0.7485 - lr: 0.0010\n",
            "Epoch 48/200\n",
            "464/465 [============================>.] - ETA: 0s - loss: 0.3753 - accuracy: 0.8640"
          ]
        },
        {
          "name": "stderr",
          "output_type": "stream",
          "text": [
            "WARNING:tensorflow:Learning rate reduction is conditioned on metric `val_acc` which is not available. Available metrics are: loss,accuracy,val_loss,val_accuracy,lr\n"
          ]
        },
        {
          "name": "stdout",
          "output_type": "stream",
          "text": [
            "\b\b\b\b\b\b\b\b\b\b\b\b\b\b\b\b\b\b\b\b\b\b\b\b\b\b\b\b\b\b\b\b\b\b\b\b\b\b\b\b\b\b\b\b\b\b\b\b\b\b\b\b\b\b\b\b\b\b\b\b\b\b\b\b\b\b\b\b\b\b\b\b\b\b\b\b\b\b\b\b\b\b\b\b\r465/465 [==============================] - 27s 57ms/step - loss: 0.3753 - accuracy: 0.8640 - val_loss: 0.8433 - val_accuracy: 0.7195 - lr: 0.0010\n",
            "Epoch 49/200\n",
            "464/465 [============================>.] - ETA: 0s - loss: 0.3748 - accuracy: 0.8603"
          ]
        },
        {
          "name": "stderr",
          "output_type": "stream",
          "text": [
            "WARNING:tensorflow:Learning rate reduction is conditioned on metric `val_acc` which is not available. Available metrics are: loss,accuracy,val_loss,val_accuracy,lr\n"
          ]
        },
        {
          "name": "stdout",
          "output_type": "stream",
          "text": [
            "\b\b\b\b\b\b\b\b\b\b\b\b\b\b\b\b\b\b\b\b\b\b\b\b\b\b\b\b\b\b\b\b\b\b\b\b\b\b\b\b\b\b\b\b\b\b\b\b\b\b\b\b\b\b\b\b\b\b\b\b\b\b\b\b\b\b\b\b\b\b\b\b\b\b\b\b\b\b\b\b\b\b\b\b\r465/465 [==============================] - 27s 58ms/step - loss: 0.3756 - accuracy: 0.8601 - val_loss: 0.8927 - val_accuracy: 0.7317 - lr: 0.0010\n",
            "Epoch 50/200\n",
            "464/465 [============================>.] - ETA: 0s - loss: 0.4771 - accuracy: 0.8278"
          ]
        },
        {
          "name": "stderr",
          "output_type": "stream",
          "text": [
            "WARNING:tensorflow:Learning rate reduction is conditioned on metric `val_acc` which is not available. Available metrics are: loss,accuracy,val_loss,val_accuracy,lr\n"
          ]
        },
        {
          "name": "stdout",
          "output_type": "stream",
          "text": [
            "\b\b\b\b\b\b\b\b\b\b\b\b\b\b\b\b\b\b\b\b\b\b\b\b\b\b\b\b\b\b\b\b\b\b\b\b\b\b\b\b\b\b\b\b\b\b\b\b\b\b\b\b\b\b\b\b\b\b\b\b\b\b\b\b\b\b\b\b\b\b\b\b\b\b\b\b\b\b\b\b\b\b\b\b\r465/465 [==============================] - 26s 56ms/step - loss: 0.4772 - accuracy: 0.8277 - val_loss: 0.8492 - val_accuracy: 0.7332 - lr: 0.0010\n",
            "Epoch 51/200\n",
            "464/465 [============================>.] - ETA: 0s - loss: 0.3839 - accuracy: 0.8609"
          ]
        },
        {
          "name": "stderr",
          "output_type": "stream",
          "text": [
            "WARNING:tensorflow:Learning rate reduction is conditioned on metric `val_acc` which is not available. Available metrics are: loss,accuracy,val_loss,val_accuracy,lr\n"
          ]
        },
        {
          "name": "stdout",
          "output_type": "stream",
          "text": [
            "\b\b\b\b\b\b\b\b\b\b\b\b\b\b\b\b\b\b\b\b\b\b\b\b\b\b\b\b\b\b\b\b\b\b\b\b\b\b\b\b\b\b\b\b\b\b\b\b\b\b\b\b\b\b\b\b\b\b\b\b\b\b\b\b\b\b\b\b\b\b\b\b\b\b\b\b\b\b\b\b\b\b\b\b\r465/465 [==============================] - 26s 57ms/step - loss: 0.3838 - accuracy: 0.8610 - val_loss: 0.8078 - val_accuracy: 0.7470 - lr: 0.0010\n",
            "Epoch 52/200\n",
            "464/465 [============================>.] - ETA: 0s - loss: 0.3581 - accuracy: 0.8682"
          ]
        },
        {
          "name": "stderr",
          "output_type": "stream",
          "text": [
            "WARNING:tensorflow:Learning rate reduction is conditioned on metric `val_acc` which is not available. Available metrics are: loss,accuracy,val_loss,val_accuracy,lr\n"
          ]
        },
        {
          "name": "stdout",
          "output_type": "stream",
          "text": [
            "\b\b\b\b\b\b\b\b\b\b\b\b\b\b\b\b\b\b\b\b\b\b\b\b\b\b\b\b\b\b\b\b\b\b\b\b\b\b\b\b\b\b\b\b\b\b\b\b\b\b\b\b\b\b\b\b\b\b\b\b\b\b\b\b\b\b\b\b\b\b\b\b\b\b\b\b\b\b\b\b\b\b\b\b\r465/465 [==============================] - 26s 57ms/step - loss: 0.3582 - accuracy: 0.8681 - val_loss: 0.8173 - val_accuracy: 0.7500 - lr: 0.0010\n",
            "Epoch 53/200\n",
            "464/465 [============================>.] - ETA: 0s - loss: 0.3569 - accuracy: 0.8732"
          ]
        },
        {
          "name": "stderr",
          "output_type": "stream",
          "text": [
            "WARNING:tensorflow:Learning rate reduction is conditioned on metric `val_acc` which is not available. Available metrics are: loss,accuracy,val_loss,val_accuracy,lr\n"
          ]
        },
        {
          "name": "stdout",
          "output_type": "stream",
          "text": [
            "\b\b\b\b\b\b\b\b\b\b\b\b\b\b\b\b\b\b\b\b\b\b\b\b\b\b\b\b\b\b\b\b\b\b\b\b\b\b\b\b\b\b\b\b\b\b\b\b\b\b\b\b\b\b\b\b\b\b\b\b\b\b\b\b\b\b\b\b\b\b\b\b\b\b\b\b\b\b\b\b\b\b\b\b\r465/465 [==============================] - 26s 56ms/step - loss: 0.3570 - accuracy: 0.8732 - val_loss: 0.8178 - val_accuracy: 0.7561 - lr: 0.0010\n",
            "Epoch 54/200\n",
            "464/465 [============================>.] - ETA: 0s - loss: 0.3505 - accuracy: 0.8740"
          ]
        },
        {
          "name": "stderr",
          "output_type": "stream",
          "text": [
            "WARNING:tensorflow:Learning rate reduction is conditioned on metric `val_acc` which is not available. Available metrics are: loss,accuracy,val_loss,val_accuracy,lr\n"
          ]
        },
        {
          "name": "stdout",
          "output_type": "stream",
          "text": [
            "\b\b\b\b\b\b\b\b\b\b\b\b\b\b\b\b\b\b\b\b\b\b\b\b\b\b\b\b\b\b\b\b\b\b\b\b\b\b\b\b\b\b\b\b\b\b\b\b\b\b\b\b\b\b\b\b\b\b\b\b\b\b\b\b\b\b\b\b\b\b\b\b\b\b\b\b\b\b\b\b\b\b\b\b\r465/465 [==============================] - 27s 57ms/step - loss: 0.3509 - accuracy: 0.8739 - val_loss: 0.8113 - val_accuracy: 0.7561 - lr: 0.0010\n",
            "Epoch 55/200\n",
            "464/465 [============================>.] - ETA: 0s - loss: 0.3258 - accuracy: 0.8866"
          ]
        },
        {
          "name": "stderr",
          "output_type": "stream",
          "text": [
            "WARNING:tensorflow:Learning rate reduction is conditioned on metric `val_acc` which is not available. Available metrics are: loss,accuracy,val_loss,val_accuracy,lr\n"
          ]
        },
        {
          "name": "stdout",
          "output_type": "stream",
          "text": [
            "\b\b\b\b\b\b\b\b\b\b\b\b\b\b\b\b\b\b\b\b\b\b\b\b\b\b\b\b\b\b\b\b\b\b\b\b\b\b\b\b\b\b\b\b\b\b\b\b\b\b\b\b\b\b\b\b\b\b\b\b\b\b\b\b\b\b\b\b\b\b\b\b\b\b\b\b\b\b\b\b\b\b\b\b\r465/465 [==============================] - 27s 57ms/step - loss: 0.3263 - accuracy: 0.8866 - val_loss: 0.8380 - val_accuracy: 0.7454 - lr: 0.0010\n",
            "Epoch 56/200\n",
            "464/465 [============================>.] - ETA: 0s - loss: 0.3418 - accuracy: 0.8739"
          ]
        },
        {
          "name": "stderr",
          "output_type": "stream",
          "text": [
            "WARNING:tensorflow:Learning rate reduction is conditioned on metric `val_acc` which is not available. Available metrics are: loss,accuracy,val_loss,val_accuracy,lr\n"
          ]
        },
        {
          "name": "stdout",
          "output_type": "stream",
          "text": [
            "\b\b\b\b\b\b\b\b\b\b\b\b\b\b\b\b\b\b\b\b\b\b\b\b\b\b\b\b\b\b\b\b\b\b\b\b\b\b\b\b\b\b\b\b\b\b\b\b\b\b\b\b\b\b\b\b\b\b\b\b\b\b\b\b\b\b\b\b\b\b\b\b\b\b\b\b\b\b\b\b\b\b\b\b\r465/465 [==============================] - 27s 57ms/step - loss: 0.3423 - accuracy: 0.8738 - val_loss: 0.8480 - val_accuracy: 0.7576 - lr: 0.0010\n",
            "Epoch 57/200\n",
            "464/465 [============================>.] - ETA: 0s - loss: 0.3546 - accuracy: 0.8758"
          ]
        },
        {
          "name": "stderr",
          "output_type": "stream",
          "text": [
            "WARNING:tensorflow:Learning rate reduction is conditioned on metric `val_acc` which is not available. Available metrics are: loss,accuracy,val_loss,val_accuracy,lr\n"
          ]
        },
        {
          "name": "stdout",
          "output_type": "stream",
          "text": [
            "\b\b\b\b\b\b\b\b\b\b\b\b\b\b\b\b\b\b\b\b\b\b\b\b\b\b\b\b\b\b\b\b\b\b\b\b\b\b\b\b\b\b\b\b\b\b\b\b\b\b\b\b\b\b\b\b\b\b\b\b\b\b\b\b\b\b\b\b\b\b\b\b\b\b\b\b\b\b\b\b\b\b\b\b\r465/465 [==============================] - 26s 57ms/step - loss: 0.3549 - accuracy: 0.8757 - val_loss: 0.8550 - val_accuracy: 0.7561 - lr: 0.0010\n",
            "Epoch 58/200\n",
            "464/465 [============================>.] - ETA: 0s - loss: 0.3436 - accuracy: 0.8770"
          ]
        },
        {
          "name": "stderr",
          "output_type": "stream",
          "text": [
            "WARNING:tensorflow:Learning rate reduction is conditioned on metric `val_acc` which is not available. Available metrics are: loss,accuracy,val_loss,val_accuracy,lr\n"
          ]
        },
        {
          "name": "stdout",
          "output_type": "stream",
          "text": [
            "\b\b\b\b\b\b\b\b\b\b\b\b\b\b\b\b\b\b\b\b\b\b\b\b\b\b\b\b\b\b\b\b\b\b\b\b\b\b\b\b\b\b\b\b\b\b\b\b\b\b\b\b\b\b\b\b\b\b\b\b\b\b\b\b\b\b\b\b\b\b\b\b\b\b\b\b\b\b\b\b\b\b\b\b\r465/465 [==============================] - 27s 57ms/step - loss: 0.3438 - accuracy: 0.8769 - val_loss: 0.7688 - val_accuracy: 0.7820 - lr: 0.0010\n",
            "Epoch 59/200\n",
            "464/465 [============================>.] - ETA: 0s - loss: 0.3217 - accuracy: 0.8850"
          ]
        },
        {
          "name": "stderr",
          "output_type": "stream",
          "text": [
            "WARNING:tensorflow:Learning rate reduction is conditioned on metric `val_acc` which is not available. Available metrics are: loss,accuracy,val_loss,val_accuracy,lr\n"
          ]
        },
        {
          "name": "stdout",
          "output_type": "stream",
          "text": [
            "\b\b\b\b\b\b\b\b\b\b\b\b\b\b\b\b\b\b\b\b\b\b\b\b\b\b\b\b\b\b\b\b\b\b\b\b\b\b\b\b\b\b\b\b\b\b\b\b\b\b\b\b\b\b\b\b\b\b\b\b\b\b\b\b\b\b\b\b\b\b\b\b\b\b\b\b\b\b\b\b\b\b\b\b\r465/465 [==============================] - 26s 57ms/step - loss: 0.3225 - accuracy: 0.8849 - val_loss: 0.7722 - val_accuracy: 0.7683 - lr: 0.0010\n",
            "Epoch 60/200\n",
            "464/465 [============================>.] - ETA: 0s - loss: 0.3317 - accuracy: 0.8807"
          ]
        },
        {
          "name": "stderr",
          "output_type": "stream",
          "text": [
            "WARNING:tensorflow:Learning rate reduction is conditioned on metric `val_acc` which is not available. Available metrics are: loss,accuracy,val_loss,val_accuracy,lr\n"
          ]
        },
        {
          "name": "stdout",
          "output_type": "stream",
          "text": [
            "\b\b\b\b\b\b\b\b\b\b\b\b\b\b\b\b\b\b\b\b\b\b\b\b\b\b\b\b\b\b\b\b\b\b\b\b\b\b\b\b\b\b\b\b\b\b\b\b\b\b\b\b\b\b\b\b\b\b\b\b\b\b\b\b\b\b\b\b\b\b\b\b\b\b\b\b\b\b\b\b\b\b\b\b\r465/465 [==============================] - 26s 57ms/step - loss: 0.3318 - accuracy: 0.8806 - val_loss: 0.7959 - val_accuracy: 0.7561 - lr: 0.0010\n",
            "Epoch 61/200\n",
            "464/465 [============================>.] - ETA: 0s - loss: 0.3246 - accuracy: 0.8848"
          ]
        },
        {
          "name": "stderr",
          "output_type": "stream",
          "text": [
            "WARNING:tensorflow:Learning rate reduction is conditioned on metric `val_acc` which is not available. Available metrics are: loss,accuracy,val_loss,val_accuracy,lr\n"
          ]
        },
        {
          "name": "stdout",
          "output_type": "stream",
          "text": [
            "\b\b\b\b\b\b\b\b\b\b\b\b\b\b\b\b\b\b\b\b\b\b\b\b\b\b\b\b\b\b\b\b\b\b\b\b\b\b\b\b\b\b\b\b\b\b\b\b\b\b\b\b\b\b\b\b\b\b\b\b\b\b\b\b\b\b\b\b\b\b\b\b\b\b\b\b\b\b\b\b\b\b\b\b\r465/465 [==============================] - 26s 57ms/step - loss: 0.3245 - accuracy: 0.8847 - val_loss: 0.8565 - val_accuracy: 0.7485 - lr: 0.0010\n",
            "Epoch 62/200\n",
            "464/465 [============================>.] - ETA: 0s - loss: 0.3182 - accuracy: 0.8872"
          ]
        },
        {
          "name": "stderr",
          "output_type": "stream",
          "text": [
            "WARNING:tensorflow:Learning rate reduction is conditioned on metric `val_acc` which is not available. Available metrics are: loss,accuracy,val_loss,val_accuracy,lr\n"
          ]
        },
        {
          "name": "stdout",
          "output_type": "stream",
          "text": [
            "\b\b\b\b\b\b\b\b\b\b\b\b\b\b\b\b\b\b\b\b\b\b\b\b\b\b\b\b\b\b\b\b\b\b\b\b\b\b\b\b\b\b\b\b\b\b\b\b\b\b\b\b\b\b\b\b\b\b\b\b\b\b\b\b\b\b\b\b\b\b\b\b\b\b\b\b\b\b\b\b\b\b\b\b\r465/465 [==============================] - 27s 58ms/step - loss: 0.3184 - accuracy: 0.8871 - val_loss: 0.7753 - val_accuracy: 0.7698 - lr: 0.0010\n",
            "Epoch 63/200\n",
            "464/465 [============================>.] - ETA: 0s - loss: 0.3245 - accuracy: 0.8854"
          ]
        },
        {
          "name": "stderr",
          "output_type": "stream",
          "text": [
            "WARNING:tensorflow:Learning rate reduction is conditioned on metric `val_acc` which is not available. Available metrics are: loss,accuracy,val_loss,val_accuracy,lr\n"
          ]
        },
        {
          "name": "stdout",
          "output_type": "stream",
          "text": [
            "\b\b\b\b\b\b\b\b\b\b\b\b\b\b\b\b\b\b\b\b\b\b\b\b\b\b\b\b\b\b\b\b\b\b\b\b\b\b\b\b\b\b\b\b\b\b\b\b\b\b\b\b\b\b\b\b\b\b\b\b\b\b\b\b\b\b\b\b\b\b\b\b\b\b\b\b\b\b\b\b\b\b\b\b\r465/465 [==============================] - 27s 58ms/step - loss: 0.3249 - accuracy: 0.8854 - val_loss: 0.7703 - val_accuracy: 0.7698 - lr: 0.0010\n",
            "Epoch 64/200\n",
            "464/465 [============================>.] - ETA: 0s - loss: 0.3105 - accuracy: 0.8887"
          ]
        },
        {
          "name": "stderr",
          "output_type": "stream",
          "text": [
            "WARNING:tensorflow:Learning rate reduction is conditioned on metric `val_acc` which is not available. Available metrics are: loss,accuracy,val_loss,val_accuracy,lr\n"
          ]
        },
        {
          "name": "stdout",
          "output_type": "stream",
          "text": [
            "\b\b\b\b\b\b\b\b\b\b\b\b\b\b\b\b\b\b\b\b\b\b\b\b\b\b\b\b\b\b\b\b\b\b\b\b\b\b\b\b\b\b\b\b\b\b\b\b\b\b\b\b\b\b\b\b\b\b\b\b\b\b\b\b\b\b\b\b\b\b\b\b\b\b\b\b\b\b\b\b\b\b\b\b\r465/465 [==============================] - 27s 58ms/step - loss: 0.3104 - accuracy: 0.8887 - val_loss: 0.8036 - val_accuracy: 0.7851 - lr: 0.0010\n",
            "Epoch 65/200\n",
            "464/465 [============================>.] - ETA: 0s - loss: 0.3069 - accuracy: 0.8905"
          ]
        },
        {
          "name": "stderr",
          "output_type": "stream",
          "text": [
            "WARNING:tensorflow:Learning rate reduction is conditioned on metric `val_acc` which is not available. Available metrics are: loss,accuracy,val_loss,val_accuracy,lr\n"
          ]
        },
        {
          "name": "stdout",
          "output_type": "stream",
          "text": [
            "\b\b\b\b\b\b\b\b\b\b\b\b\b\b\b\b\b\b\b\b\b\b\b\b\b\b\b\b\b\b\b\b\b\b\b\b\b\b\b\b\b\b\b\b\b\b\b\b\b\b\b\b\b\b\b\b\b\b\b\b\b\b\b\b\b\b\b\b\b\b\b\b\b\b\b\b\b\b\b\b\b\b\b\b\r465/465 [==============================] - 27s 57ms/step - loss: 0.3072 - accuracy: 0.8904 - val_loss: 0.7880 - val_accuracy: 0.7713 - lr: 0.0010\n",
            "Epoch 66/200\n",
            "464/465 [============================>.] - ETA: 0s - loss: 0.3122 - accuracy: 0.8887"
          ]
        },
        {
          "name": "stderr",
          "output_type": "stream",
          "text": [
            "WARNING:tensorflow:Learning rate reduction is conditioned on metric `val_acc` which is not available. Available metrics are: loss,accuracy,val_loss,val_accuracy,lr\n"
          ]
        },
        {
          "name": "stdout",
          "output_type": "stream",
          "text": [
            "\b\b\b\b\b\b\b\b\b\b\b\b\b\b\b\b\b\b\b\b\b\b\b\b\b\b\b\b\b\b\b\b\b\b\b\b\b\b\b\b\b\b\b\b\b\b\b\b\b\b\b\b\b\b\b\b\b\b\b\b\b\b\b\b\b\b\b\b\b\b\b\b\b\b\b\b\b\b\b\b\b\b\b\b\r465/465 [==============================] - 27s 57ms/step - loss: 0.3125 - accuracy: 0.8885 - val_loss: 0.7886 - val_accuracy: 0.7805 - lr: 0.0010\n",
            "Epoch 67/200\n",
            "464/465 [============================>.] - ETA: 0s - loss: 0.3135 - accuracy: 0.8881"
          ]
        },
        {
          "name": "stderr",
          "output_type": "stream",
          "text": [
            "WARNING:tensorflow:Learning rate reduction is conditioned on metric `val_acc` which is not available. Available metrics are: loss,accuracy,val_loss,val_accuracy,lr\n"
          ]
        },
        {
          "name": "stdout",
          "output_type": "stream",
          "text": [
            "\b\b\b\b\b\b\b\b\b\b\b\b\b\b\b\b\b\b\b\b\b\b\b\b\b\b\b\b\b\b\b\b\b\b\b\b\b\b\b\b\b\b\b\b\b\b\b\b\b\b\b\b\b\b\b\b\b\b\b\b\b\b\b\b\b\b\b\b\b\b\b\b\b\b\b\b\b\b\b\b\b\b\b\b\r465/465 [==============================] - 26s 57ms/step - loss: 0.3152 - accuracy: 0.8879 - val_loss: 0.8093 - val_accuracy: 0.7668 - lr: 0.0010\n",
            "Epoch 68/200\n",
            "464/465 [============================>.] - ETA: 0s - loss: 0.3064 - accuracy: 0.8904"
          ]
        },
        {
          "name": "stderr",
          "output_type": "stream",
          "text": [
            "WARNING:tensorflow:Learning rate reduction is conditioned on metric `val_acc` which is not available. Available metrics are: loss,accuracy,val_loss,val_accuracy,lr\n"
          ]
        },
        {
          "name": "stdout",
          "output_type": "stream",
          "text": [
            "\b\b\b\b\b\b\b\b\b\b\b\b\b\b\b\b\b\b\b\b\b\b\b\b\b\b\b\b\b\b\b\b\b\b\b\b\b\b\b\b\b\b\b\b\b\b\b\b\b\b\b\b\b\b\b\b\b\b\b\b\b\b\b\b\b\b\b\b\b\b\b\b\b\b\b\b\b\b\b\b\b\b\b\b\r465/465 [==============================] - 27s 57ms/step - loss: 0.3063 - accuracy: 0.8903 - val_loss: 0.8040 - val_accuracy: 0.7591 - lr: 0.0010\n",
            "Epoch 69/200\n",
            "464/465 [============================>.] - ETA: 0s - loss: 0.2909 - accuracy: 0.8961"
          ]
        },
        {
          "name": "stderr",
          "output_type": "stream",
          "text": [
            "WARNING:tensorflow:Learning rate reduction is conditioned on metric `val_acc` which is not available. Available metrics are: loss,accuracy,val_loss,val_accuracy,lr\n"
          ]
        },
        {
          "name": "stdout",
          "output_type": "stream",
          "text": [
            "\b\b\b\b\b\b\b\b\b\b\b\b\b\b\b\b\b\b\b\b\b\b\b\b\b\b\b\b\b\b\b\b\b\b\b\b\b\b\b\b\b\b\b\b\b\b\b\b\b\b\b\b\b\b\b\b\b\b\b\b\b\b\b\b\b\b\b\b\b\b\b\b\b\b\b\b\b\b\b\b\b\b\b\b\r465/465 [==============================] - 27s 57ms/step - loss: 0.2909 - accuracy: 0.8961 - val_loss: 0.7467 - val_accuracy: 0.8049 - lr: 0.0010\n",
            "Epoch 70/200\n",
            "464/465 [============================>.] - ETA: 0s - loss: 0.2863 - accuracy: 0.8984"
          ]
        },
        {
          "name": "stderr",
          "output_type": "stream",
          "text": [
            "WARNING:tensorflow:Learning rate reduction is conditioned on metric `val_acc` which is not available. Available metrics are: loss,accuracy,val_loss,val_accuracy,lr\n"
          ]
        },
        {
          "name": "stdout",
          "output_type": "stream",
          "text": [
            "\b\b\b\b\b\b\b\b\b\b\b\b\b\b\b\b\b\b\b\b\b\b\b\b\b\b\b\b\b\b\b\b\b\b\b\b\b\b\b\b\b\b\b\b\b\b\b\b\b\b\b\b\b\b\b\b\b\b\b\b\b\b\b\b\b\b\b\b\b\b\b\b\b\b\b\b\b\b\b\b\b\b\b\b\r465/465 [==============================] - 27s 57ms/step - loss: 0.2868 - accuracy: 0.8981 - val_loss: 0.8220 - val_accuracy: 0.7637 - lr: 0.0010\n",
            "Epoch 71/200\n",
            "464/465 [============================>.] - ETA: 0s - loss: 0.3074 - accuracy: 0.8918"
          ]
        },
        {
          "name": "stderr",
          "output_type": "stream",
          "text": [
            "WARNING:tensorflow:Learning rate reduction is conditioned on metric `val_acc` which is not available. Available metrics are: loss,accuracy,val_loss,val_accuracy,lr\n"
          ]
        },
        {
          "name": "stdout",
          "output_type": "stream",
          "text": [
            "\b\b\b\b\b\b\b\b\b\b\b\b\b\b\b\b\b\b\b\b\b\b\b\b\b\b\b\b\b\b\b\b\b\b\b\b\b\b\b\b\b\b\b\b\b\b\b\b\b\b\b\b\b\b\b\b\b\b\b\b\b\b\b\b\b\b\b\b\b\b\b\b\b\b\b\b\b\b\b\b\b\b\b\b\r465/465 [==============================] - 27s 57ms/step - loss: 0.3080 - accuracy: 0.8917 - val_loss: 0.8275 - val_accuracy: 0.7790 - lr: 0.0010\n",
            "Epoch 72/200\n",
            "464/465 [============================>.] - ETA: 0s - loss: 0.3054 - accuracy: 0.8915"
          ]
        },
        {
          "name": "stderr",
          "output_type": "stream",
          "text": [
            "WARNING:tensorflow:Learning rate reduction is conditioned on metric `val_acc` which is not available. Available metrics are: loss,accuracy,val_loss,val_accuracy,lr\n"
          ]
        },
        {
          "name": "stdout",
          "output_type": "stream",
          "text": [
            "\b\b\b\b\b\b\b\b\b\b\b\b\b\b\b\b\b\b\b\b\b\b\b\b\b\b\b\b\b\b\b\b\b\b\b\b\b\b\b\b\b\b\b\b\b\b\b\b\b\b\b\b\b\b\b\b\b\b\b\b\b\b\b\b\b\b\b\b\b\b\b\b\b\b\b\b\b\b\b\b\b\b\b\b\r465/465 [==============================] - 26s 57ms/step - loss: 0.3053 - accuracy: 0.8915 - val_loss: 0.7974 - val_accuracy: 0.7805 - lr: 0.0010\n",
            "Epoch 73/200\n",
            "464/465 [============================>.] - ETA: 0s - loss: 0.2826 - accuracy: 0.8983"
          ]
        },
        {
          "name": "stderr",
          "output_type": "stream",
          "text": [
            "WARNING:tensorflow:Learning rate reduction is conditioned on metric `val_acc` which is not available. Available metrics are: loss,accuracy,val_loss,val_accuracy,lr\n"
          ]
        },
        {
          "name": "stdout",
          "output_type": "stream",
          "text": [
            "\b\b\b\b\b\b\b\b\b\b\b\b\b\b\b\b\b\b\b\b\b\b\b\b\b\b\b\b\b\b\b\b\b\b\b\b\b\b\b\b\b\b\b\b\b\b\b\b\b\b\b\b\b\b\b\b\b\b\b\b\b\b\b\b\b\b\b\b\b\b\b\b\b\b\b\b\b\b\b\b\b\b\b\b\r465/465 [==============================] - 26s 57ms/step - loss: 0.2826 - accuracy: 0.8983 - val_loss: 0.8157 - val_accuracy: 0.7744 - lr: 0.0010\n",
            "Epoch 74/200\n",
            "464/465 [============================>.] - ETA: 0s - loss: 0.2798 - accuracy: 0.9018"
          ]
        },
        {
          "name": "stderr",
          "output_type": "stream",
          "text": [
            "WARNING:tensorflow:Learning rate reduction is conditioned on metric `val_acc` which is not available. Available metrics are: loss,accuracy,val_loss,val_accuracy,lr\n"
          ]
        },
        {
          "name": "stdout",
          "output_type": "stream",
          "text": [
            "\b\b\b\b\b\b\b\b\b\b\b\b\b\b\b\b\b\b\b\b\b\b\b\b\b\b\b\b\b\b\b\b\b\b\b\b\b\b\b\b\b\b\b\b\b\b\b\b\b\b\b\b\b\b\b\b\b\b\b\b\b\b\b\b\b\b\b\b\b\b\b\b\b\b\b\b\b\b\b\b\b\b\b\b\r465/465 [==============================] - 26s 57ms/step - loss: 0.2800 - accuracy: 0.9018 - val_loss: 0.7994 - val_accuracy: 0.7866 - lr: 0.0010\n",
            "Epoch 75/200\n",
            "464/465 [============================>.] - ETA: 0s - loss: 0.2875 - accuracy: 0.8982"
          ]
        },
        {
          "name": "stderr",
          "output_type": "stream",
          "text": [
            "WARNING:tensorflow:Learning rate reduction is conditioned on metric `val_acc` which is not available. Available metrics are: loss,accuracy,val_loss,val_accuracy,lr\n"
          ]
        },
        {
          "name": "stdout",
          "output_type": "stream",
          "text": [
            "\b\b\b\b\b\b\b\b\b\b\b\b\b\b\b\b\b\b\b\b\b\b\b\b\b\b\b\b\b\b\b\b\b\b\b\b\b\b\b\b\b\b\b\b\b\b\b\b\b\b\b\b\b\b\b\b\b\b\b\b\b\b\b\b\b\b\b\b\b\b\b\b\b\b\b\b\b\b\b\b\b\b\b\b\r465/465 [==============================] - 26s 57ms/step - loss: 0.2876 - accuracy: 0.8981 - val_loss: 0.7959 - val_accuracy: 0.7637 - lr: 0.0010\n",
            "Epoch 76/200\n",
            "464/465 [============================>.] - ETA: 0s - loss: 0.2850 - accuracy: 0.8978"
          ]
        },
        {
          "name": "stderr",
          "output_type": "stream",
          "text": [
            "WARNING:tensorflow:Learning rate reduction is conditioned on metric `val_acc` which is not available. Available metrics are: loss,accuracy,val_loss,val_accuracy,lr\n"
          ]
        },
        {
          "name": "stdout",
          "output_type": "stream",
          "text": [
            "\b\b\b\b\b\b\b\b\b\b\b\b\b\b\b\b\b\b\b\b\b\b\b\b\b\b\b\b\b\b\b\b\b\b\b\b\b\b\b\b\b\b\b\b\b\b\b\b\b\b\b\b\b\b\b\b\b\b\b\b\b\b\b\b\b\b\b\b\b\b\b\b\b\b\b\b\b\b\b\b\b\b\b\b\r465/465 [==============================] - 27s 57ms/step - loss: 0.2859 - accuracy: 0.8977 - val_loss: 0.7776 - val_accuracy: 0.7851 - lr: 0.0010\n",
            "Epoch 77/200\n",
            "464/465 [============================>.] - ETA: 0s - loss: 0.2862 - accuracy: 0.8972"
          ]
        },
        {
          "name": "stderr",
          "output_type": "stream",
          "text": [
            "WARNING:tensorflow:Learning rate reduction is conditioned on metric `val_acc` which is not available. Available metrics are: loss,accuracy,val_loss,val_accuracy,lr\n"
          ]
        },
        {
          "name": "stdout",
          "output_type": "stream",
          "text": [
            "\b\b\b\b\b\b\b\b\b\b\b\b\b\b\b\b\b\b\b\b\b\b\b\b\b\b\b\b\b\b\b\b\b\b\b\b\b\b\b\b\b\b\b\b\b\b\b\b\b\b\b\b\b\b\b\b\b\b\b\b\b\b\b\b\b\b\b\b\b\b\b\b\b\b\b\b\b\b\b\b\b\b\b\b\r465/465 [==============================] - 27s 57ms/step - loss: 0.2862 - accuracy: 0.8972 - val_loss: 0.7559 - val_accuracy: 0.7866 - lr: 0.0010\n",
            "Epoch 78/200\n",
            "464/465 [============================>.] - ETA: 0s - loss: 0.2648 - accuracy: 0.9044"
          ]
        },
        {
          "name": "stderr",
          "output_type": "stream",
          "text": [
            "WARNING:tensorflow:Learning rate reduction is conditioned on metric `val_acc` which is not available. Available metrics are: loss,accuracy,val_loss,val_accuracy,lr\n"
          ]
        },
        {
          "name": "stdout",
          "output_type": "stream",
          "text": [
            "\b\b\b\b\b\b\b\b\b\b\b\b\b\b\b\b\b\b\b\b\b\b\b\b\b\b\b\b\b\b\b\b\b\b\b\b\b\b\b\b\b\b\b\b\b\b\b\b\b\b\b\b\b\b\b\b\b\b\b\b\b\b\b\b\b\b\b\b\b\b\b\b\b\b\b\b\b\b\b\b\b\b\b\b\r465/465 [==============================] - 26s 57ms/step - loss: 0.2652 - accuracy: 0.9043 - val_loss: 0.7792 - val_accuracy: 0.7790 - lr: 0.0010\n",
            "Epoch 79/200\n",
            "464/465 [============================>.] - ETA: 0s - loss: 0.2794 - accuracy: 0.9002"
          ]
        },
        {
          "name": "stderr",
          "output_type": "stream",
          "text": [
            "WARNING:tensorflow:Learning rate reduction is conditioned on metric `val_acc` which is not available. Available metrics are: loss,accuracy,val_loss,val_accuracy,lr\n"
          ]
        },
        {
          "name": "stdout",
          "output_type": "stream",
          "text": [
            "\b\b\b\b\b\b\b\b\b\b\b\b\b\b\b\b\b\b\b\b\b\b\b\b\b\b\b\b\b\b\b\b\b\b\b\b\b\b\b\b\b\b\b\b\b\b\b\b\b\b\b\b\b\b\b\b\b\b\b\b\b\b\b\b\b\b\b\b\b\b\b\b\b\b\b\b\b\b\b\b\b\b\b\b\r465/465 [==============================] - 26s 56ms/step - loss: 0.2794 - accuracy: 0.9002 - val_loss: 0.7780 - val_accuracy: 0.7988 - lr: 0.0010\n",
            "Epoch 80/200\n",
            "464/465 [============================>.] - ETA: 0s - loss: 0.2750 - accuracy: 0.9041"
          ]
        },
        {
          "name": "stderr",
          "output_type": "stream",
          "text": [
            "WARNING:tensorflow:Learning rate reduction is conditioned on metric `val_acc` which is not available. Available metrics are: loss,accuracy,val_loss,val_accuracy,lr\n"
          ]
        },
        {
          "name": "stdout",
          "output_type": "stream",
          "text": [
            "\b\b\b\b\b\b\b\b\b\b\b\b\b\b\b\b\b\b\b\b\b\b\b\b\b\b\b\b\b\b\b\b\b\b\b\b\b\b\b\b\b\b\b\b\b\b\b\b\b\b\b\b\b\b\b\b\b\b\b\b\b\b\b\b\b\b\b\b\b\b\b\b\b\b\b\b\b\b\b\b\b\b\b\b\r465/465 [==============================] - 27s 57ms/step - loss: 0.2756 - accuracy: 0.9039 - val_loss: 0.7628 - val_accuracy: 0.8034 - lr: 0.0010\n",
            "Epoch 81/200\n",
            "464/465 [============================>.] - ETA: 0s - loss: 0.2720 - accuracy: 0.9035"
          ]
        },
        {
          "name": "stderr",
          "output_type": "stream",
          "text": [
            "WARNING:tensorflow:Learning rate reduction is conditioned on metric `val_acc` which is not available. Available metrics are: loss,accuracy,val_loss,val_accuracy,lr\n"
          ]
        },
        {
          "name": "stdout",
          "output_type": "stream",
          "text": [
            "\b\b\b\b\b\b\b\b\b\b\b\b\b\b\b\b\b\b\b\b\b\b\b\b\b\b\b\b\b\b\b\b\b\b\b\b\b\b\b\b\b\b\b\b\b\b\b\b\b\b\b\b\b\b\b\b\b\b\b\b\b\b\b\b\b\b\b\b\b\b\b\b\b\b\b\b\b\b\b\b\b\b\b\b\r465/465 [==============================] - 26s 56ms/step - loss: 0.2729 - accuracy: 0.9033 - val_loss: 0.7974 - val_accuracy: 0.7851 - lr: 0.0010\n",
            "Epoch 82/200\n",
            "464/465 [============================>.] - ETA: 0s - loss: 0.2578 - accuracy: 0.9064"
          ]
        },
        {
          "name": "stderr",
          "output_type": "stream",
          "text": [
            "WARNING:tensorflow:Learning rate reduction is conditioned on metric `val_acc` which is not available. Available metrics are: loss,accuracy,val_loss,val_accuracy,lr\n"
          ]
        },
        {
          "name": "stdout",
          "output_type": "stream",
          "text": [
            "\b\b\b\b\b\b\b\b\b\b\b\b\b\b\b\b\b\b\b\b\b\b\b\b\b\b\b\b\b\b\b\b\b\b\b\b\b\b\b\b\b\b\b\b\b\b\b\b\b\b\b\b\b\b\b\b\b\b\b\b\b\b\b\b\b\b\b\b\b\b\b\b\b\b\b\b\b\b\b\b\b\b\b\b\r465/465 [==============================] - 27s 57ms/step - loss: 0.2577 - accuracy: 0.9064 - val_loss: 0.7942 - val_accuracy: 0.7820 - lr: 0.0010\n",
            "Epoch 83/200\n",
            "464/465 [============================>.] - ETA: 0s - loss: 0.2510 - accuracy: 0.9098"
          ]
        },
        {
          "name": "stderr",
          "output_type": "stream",
          "text": [
            "WARNING:tensorflow:Learning rate reduction is conditioned on metric `val_acc` which is not available. Available metrics are: loss,accuracy,val_loss,val_accuracy,lr\n"
          ]
        },
        {
          "name": "stdout",
          "output_type": "stream",
          "text": [
            "\b\b\b\b\b\b\b\b\b\b\b\b\b\b\b\b\b\b\b\b\b\b\b\b\b\b\b\b\b\b\b\b\b\b\b\b\b\b\b\b\b\b\b\b\b\b\b\b\b\b\b\b\b\b\b\b\b\b\b\b\b\b\b\b\b\b\b\b\b\b\b\b\b\b\b\b\b\b\b\b\b\b\b\b\r465/465 [==============================] - 27s 57ms/step - loss: 0.2511 - accuracy: 0.9097 - val_loss: 0.7866 - val_accuracy: 0.8003 - lr: 0.0010\n",
            "Epoch 84/200\n",
            "464/465 [============================>.] - ETA: 0s - loss: 0.2554 - accuracy: 0.9100"
          ]
        },
        {
          "name": "stderr",
          "output_type": "stream",
          "text": [
            "WARNING:tensorflow:Learning rate reduction is conditioned on metric `val_acc` which is not available. Available metrics are: loss,accuracy,val_loss,val_accuracy,lr\n"
          ]
        },
        {
          "name": "stdout",
          "output_type": "stream",
          "text": [
            "\b\b\b\b\b\b\b\b\b\b\b\b\b\b\b\b\b\b\b\b\b\b\b\b\b\b\b\b\b\b\b\b\b\b\b\b\b\b\b\b\b\b\b\b\b\b\b\b\b\b\b\b\b\b\b\b\b\b\b\b\b\b\b\b\b\b\b\b\b\b\b\b\b\b\b\b\b\b\b\b\b\b\b\b\r465/465 [==============================] - 26s 57ms/step - loss: 0.2554 - accuracy: 0.9101 - val_loss: 0.7573 - val_accuracy: 0.8049 - lr: 0.0010\n",
            "Epoch 85/200\n",
            "464/465 [============================>.] - ETA: 0s - loss: 0.2497 - accuracy: 0.9105"
          ]
        },
        {
          "name": "stderr",
          "output_type": "stream",
          "text": [
            "WARNING:tensorflow:Learning rate reduction is conditioned on metric `val_acc` which is not available. Available metrics are: loss,accuracy,val_loss,val_accuracy,lr\n"
          ]
        },
        {
          "name": "stdout",
          "output_type": "stream",
          "text": [
            "\b\b\b\b\b\b\b\b\b\b\b\b\b\b\b\b\b\b\b\b\b\b\b\b\b\b\b\b\b\b\b\b\b\b\b\b\b\b\b\b\b\b\b\b\b\b\b\b\b\b\b\b\b\b\b\b\b\b\b\b\b\b\b\b\b\b\b\b\b\b\b\b\b\b\b\b\b\b\b\b\b\b\b\b\r465/465 [==============================] - 27s 58ms/step - loss: 0.2499 - accuracy: 0.9105 - val_loss: 0.7591 - val_accuracy: 0.8079 - lr: 0.0010\n",
            "Epoch 86/200\n",
            "464/465 [============================>.] - ETA: 0s - loss: 0.2658 - accuracy: 0.9062"
          ]
        },
        {
          "name": "stderr",
          "output_type": "stream",
          "text": [
            "WARNING:tensorflow:Learning rate reduction is conditioned on metric `val_acc` which is not available. Available metrics are: loss,accuracy,val_loss,val_accuracy,lr\n"
          ]
        },
        {
          "name": "stdout",
          "output_type": "stream",
          "text": [
            "\b\b\b\b\b\b\b\b\b\b\b\b\b\b\b\b\b\b\b\b\b\b\b\b\b\b\b\b\b\b\b\b\b\b\b\b\b\b\b\b\b\b\b\b\b\b\b\b\b\b\b\b\b\b\b\b\b\b\b\b\b\b\b\b\b\b\b\b\b\b\b\b\b\b\b\b\b\b\b\b\b\b\b\b\r465/465 [==============================] - 26s 57ms/step - loss: 0.2659 - accuracy: 0.9061 - val_loss: 0.8092 - val_accuracy: 0.7881 - lr: 0.0010\n",
            "Epoch 87/200\n",
            "464/465 [============================>.] - ETA: 0s - loss: 0.2591 - accuracy: 0.9110"
          ]
        },
        {
          "name": "stderr",
          "output_type": "stream",
          "text": [
            "WARNING:tensorflow:Learning rate reduction is conditioned on metric `val_acc` which is not available. Available metrics are: loss,accuracy,val_loss,val_accuracy,lr\n"
          ]
        },
        {
          "name": "stdout",
          "output_type": "stream",
          "text": [
            "\b\b\b\b\b\b\b\b\b\b\b\b\b\b\b\b\b\b\b\b\b\b\b\b\b\b\b\b\b\b\b\b\b\b\b\b\b\b\b\b\b\b\b\b\b\b\b\b\b\b\b\b\b\b\b\b\b\b\b\b\b\b\b\b\b\b\b\b\b\b\b\b\b\b\b\b\b\b\b\b\b\b\b\b\r465/465 [==============================] - 27s 57ms/step - loss: 0.2601 - accuracy: 0.9108 - val_loss: 0.8067 - val_accuracy: 0.7820 - lr: 0.0010\n",
            "Epoch 88/200\n",
            "464/465 [============================>.] - ETA: 0s - loss: 0.2623 - accuracy: 0.9065"
          ]
        },
        {
          "name": "stderr",
          "output_type": "stream",
          "text": [
            "WARNING:tensorflow:Learning rate reduction is conditioned on metric `val_acc` which is not available. Available metrics are: loss,accuracy,val_loss,val_accuracy,lr\n"
          ]
        },
        {
          "name": "stdout",
          "output_type": "stream",
          "text": [
            "\b\b\b\b\b\b\b\b\b\b\b\b\b\b\b\b\b\b\b\b\b\b\b\b\b\b\b\b\b\b\b\b\b\b\b\b\b\b\b\b\b\b\b\b\b\b\b\b\b\b\b\b\b\b\b\b\b\b\b\b\b\b\b\b\b\b\b\b\b\b\b\b\b\b\b\b\b\b\b\b\b\b\b\b\r465/465 [==============================] - 26s 56ms/step - loss: 0.2624 - accuracy: 0.9064 - val_loss: 0.7727 - val_accuracy: 0.8110 - lr: 0.0010\n",
            "Epoch 89/200\n",
            "464/465 [============================>.] - ETA: 0s - loss: 0.2526 - accuracy: 0.9098"
          ]
        },
        {
          "name": "stderr",
          "output_type": "stream",
          "text": [
            "WARNING:tensorflow:Learning rate reduction is conditioned on metric `val_acc` which is not available. Available metrics are: loss,accuracy,val_loss,val_accuracy,lr\n"
          ]
        },
        {
          "name": "stdout",
          "output_type": "stream",
          "text": [
            "\b\b\b\b\b\b\b\b\b\b\b\b\b\b\b\b\b\b\b\b\b\b\b\b\b\b\b\b\b\b\b\b\b\b\b\b\b\b\b\b\b\b\b\b\b\b\b\b\b\b\b\b\b\b\b\b\b\b\b\b\b\b\b\b\b\b\b\b\b\b\b\b\b\b\b\b\b\b\b\b\b\b\b\b\r465/465 [==============================] - 27s 57ms/step - loss: 0.2528 - accuracy: 0.9098 - val_loss: 0.7509 - val_accuracy: 0.7927 - lr: 0.0010\n",
            "Epoch 90/200\n",
            "464/465 [============================>.] - ETA: 0s - loss: 0.2449 - accuracy: 0.9141"
          ]
        },
        {
          "name": "stderr",
          "output_type": "stream",
          "text": [
            "WARNING:tensorflow:Learning rate reduction is conditioned on metric `val_acc` which is not available. Available metrics are: loss,accuracy,val_loss,val_accuracy,lr\n"
          ]
        },
        {
          "name": "stdout",
          "output_type": "stream",
          "text": [
            "\b\b\b\b\b\b\b\b\b\b\b\b\b\b\b\b\b\b\b\b\b\b\b\b\b\b\b\b\b\b\b\b\b\b\b\b\b\b\b\b\b\b\b\b\b\b\b\b\b\b\b\b\b\b\b\b\b\b\b\b\b\b\b\b\b\b\b\b\b\b\b\b\b\b\b\b\b\b\b\b\b\b\b\b\r465/465 [==============================] - 26s 56ms/step - loss: 0.2459 - accuracy: 0.9141 - val_loss: 0.7643 - val_accuracy: 0.7835 - lr: 0.0010\n",
            "Epoch 91/200\n",
            "464/465 [============================>.] - ETA: 0s - loss: 0.2415 - accuracy: 0.9155"
          ]
        },
        {
          "name": "stderr",
          "output_type": "stream",
          "text": [
            "WARNING:tensorflow:Learning rate reduction is conditioned on metric `val_acc` which is not available. Available metrics are: loss,accuracy,val_loss,val_accuracy,lr\n"
          ]
        },
        {
          "name": "stdout",
          "output_type": "stream",
          "text": [
            "\b\b\b\b\b\b\b\b\b\b\b\b\b\b\b\b\b\b\b\b\b\b\b\b\b\b\b\b\b\b\b\b\b\b\b\b\b\b\b\b\b\b\b\b\b\b\b\b\b\b\b\b\b\b\b\b\b\b\b\b\b\b\b\b\b\b\b\b\b\b\b\b\b\b\b\b\b\b\b\b\b\b\b\b\r465/465 [==============================] - 27s 57ms/step - loss: 0.2417 - accuracy: 0.9155 - val_loss: 0.8135 - val_accuracy: 0.8018 - lr: 0.0010\n",
            "Epoch 92/200\n",
            "464/465 [============================>.] - ETA: 0s - loss: 0.2465 - accuracy: 0.9119"
          ]
        },
        {
          "name": "stderr",
          "output_type": "stream",
          "text": [
            "WARNING:tensorflow:Learning rate reduction is conditioned on metric `val_acc` which is not available. Available metrics are: loss,accuracy,val_loss,val_accuracy,lr\n"
          ]
        },
        {
          "name": "stdout",
          "output_type": "stream",
          "text": [
            "\b\b\b\b\b\b\b\b\b\b\b\b\b\b\b\b\b\b\b\b\b\b\b\b\b\b\b\b\b\b\b\b\b\b\b\b\b\b\b\b\b\b\b\b\b\b\b\b\b\b\b\b\b\b\b\b\b\b\b\b\b\b\b\b\b\b\b\b\b\b\b\b\b\b\b\b\b\b\b\b\b\b\b\b\r465/465 [==============================] - 27s 57ms/step - loss: 0.2469 - accuracy: 0.9118 - val_loss: 0.7993 - val_accuracy: 0.7820 - lr: 0.0010\n",
            "Epoch 93/200\n",
            "464/465 [============================>.] - ETA: 0s - loss: 0.2417 - accuracy: 0.9154"
          ]
        },
        {
          "name": "stderr",
          "output_type": "stream",
          "text": [
            "WARNING:tensorflow:Learning rate reduction is conditioned on metric `val_acc` which is not available. Available metrics are: loss,accuracy,val_loss,val_accuracy,lr\n"
          ]
        },
        {
          "name": "stdout",
          "output_type": "stream",
          "text": [
            "\b\b\b\b\b\b\b\b\b\b\b\b\b\b\b\b\b\b\b\b\b\b\b\b\b\b\b\b\b\b\b\b\b\b\b\b\b\b\b\b\b\b\b\b\b\b\b\b\b\b\b\b\b\b\b\b\b\b\b\b\b\b\b\b\b\b\b\b\b\b\b\b\b\b\b\b\b\b\b\b\b\b\b\b\r465/465 [==============================] - 26s 57ms/step - loss: 0.2416 - accuracy: 0.9154 - val_loss: 0.8265 - val_accuracy: 0.7851 - lr: 0.0010\n",
            "Epoch 94/200\n",
            "464/465 [============================>.] - ETA: 0s - loss: 0.2476 - accuracy: 0.9120"
          ]
        },
        {
          "name": "stderr",
          "output_type": "stream",
          "text": [
            "WARNING:tensorflow:Learning rate reduction is conditioned on metric `val_acc` which is not available. Available metrics are: loss,accuracy,val_loss,val_accuracy,lr\n"
          ]
        },
        {
          "name": "stdout",
          "output_type": "stream",
          "text": [
            "\b\b\b\b\b\b\b\b\b\b\b\b\b\b\b\b\b\b\b\b\b\b\b\b\b\b\b\b\b\b\b\b\b\b\b\b\b\b\b\b\b\b\b\b\b\b\b\b\b\b\b\b\b\b\b\b\b\b\b\b\b\b\b\b\b\b\b\b\b\b\b\b\b\b\b\b\b\b\b\b\b\b\b\b\r465/465 [==============================] - 27s 57ms/step - loss: 0.2478 - accuracy: 0.9120 - val_loss: 0.8211 - val_accuracy: 0.7942 - lr: 0.0010\n",
            "Epoch 95/200\n",
            "464/465 [============================>.] - ETA: 0s - loss: 0.2377 - accuracy: 0.9166"
          ]
        },
        {
          "name": "stderr",
          "output_type": "stream",
          "text": [
            "WARNING:tensorflow:Learning rate reduction is conditioned on metric `val_acc` which is not available. Available metrics are: loss,accuracy,val_loss,val_accuracy,lr\n"
          ]
        },
        {
          "name": "stdout",
          "output_type": "stream",
          "text": [
            "\b\b\b\b\b\b\b\b\b\b\b\b\b\b\b\b\b\b\b\b\b\b\b\b\b\b\b\b\b\b\b\b\b\b\b\b\b\b\b\b\b\b\b\b\b\b\b\b\b\b\b\b\b\b\b\b\b\b\b\b\b\b\b\b\b\b\b\b\b\b\b\b\b\b\b\b\b\b\b\b\b\b\b\b\r465/465 [==============================] - 26s 57ms/step - loss: 0.2377 - accuracy: 0.9166 - val_loss: 0.8044 - val_accuracy: 0.7942 - lr: 0.0010\n",
            "Epoch 96/200\n",
            "464/465 [============================>.] - ETA: 0s - loss: 0.2508 - accuracy: 0.9112"
          ]
        },
        {
          "name": "stderr",
          "output_type": "stream",
          "text": [
            "WARNING:tensorflow:Learning rate reduction is conditioned on metric `val_acc` which is not available. Available metrics are: loss,accuracy,val_loss,val_accuracy,lr\n"
          ]
        },
        {
          "name": "stdout",
          "output_type": "stream",
          "text": [
            "\b\b\b\b\b\b\b\b\b\b\b\b\b\b\b\b\b\b\b\b\b\b\b\b\b\b\b\b\b\b\b\b\b\b\b\b\b\b\b\b\b\b\b\b\b\b\b\b\b\b\b\b\b\b\b\b\b\b\b\b\b\b\b\b\b\b\b\b\b\b\b\b\b\b\b\b\b\b\b\b\b\b\b\b\r465/465 [==============================] - 27s 57ms/step - loss: 0.2510 - accuracy: 0.9111 - val_loss: 0.8752 - val_accuracy: 0.7805 - lr: 0.0010\n",
            "Epoch 97/200\n",
            "464/465 [============================>.] - ETA: 0s - loss: 0.2355 - accuracy: 0.9159"
          ]
        },
        {
          "name": "stderr",
          "output_type": "stream",
          "text": [
            "WARNING:tensorflow:Learning rate reduction is conditioned on metric `val_acc` which is not available. Available metrics are: loss,accuracy,val_loss,val_accuracy,lr\n"
          ]
        },
        {
          "name": "stdout",
          "output_type": "stream",
          "text": [
            "\b\b\b\b\b\b\b\b\b\b\b\b\b\b\b\b\b\b\b\b\b\b\b\b\b\b\b\b\b\b\b\b\b\b\b\b\b\b\b\b\b\b\b\b\b\b\b\b\b\b\b\b\b\b\b\b\b\b\b\b\b\b\b\b\b\b\b\b\b\b\b\b\b\b\b\b\b\b\b\b\b\b\b\b\r465/465 [==============================] - 26s 56ms/step - loss: 0.2354 - accuracy: 0.9160 - val_loss: 0.8589 - val_accuracy: 0.7881 - lr: 0.0010\n",
            "Epoch 98/200\n",
            "464/465 [============================>.] - ETA: 0s - loss: 0.2305 - accuracy: 0.9209"
          ]
        },
        {
          "name": "stderr",
          "output_type": "stream",
          "text": [
            "WARNING:tensorflow:Learning rate reduction is conditioned on metric `val_acc` which is not available. Available metrics are: loss,accuracy,val_loss,val_accuracy,lr\n"
          ]
        },
        {
          "name": "stdout",
          "output_type": "stream",
          "text": [
            "\b\b\b\b\b\b\b\b\b\b\b\b\b\b\b\b\b\b\b\b\b\b\b\b\b\b\b\b\b\b\b\b\b\b\b\b\b\b\b\b\b\b\b\b\b\b\b\b\b\b\b\b\b\b\b\b\b\b\b\b\b\b\b\b\b\b\b\b\b\b\b\b\b\b\b\b\b\b\b\b\b\b\b\b\r465/465 [==============================] - 26s 57ms/step - loss: 0.2308 - accuracy: 0.9208 - val_loss: 0.8223 - val_accuracy: 0.7973 - lr: 0.0010\n",
            "Epoch 99/200\n",
            "464/465 [============================>.] - ETA: 0s - loss: 0.2360 - accuracy: 0.9164"
          ]
        },
        {
          "name": "stderr",
          "output_type": "stream",
          "text": [
            "WARNING:tensorflow:Learning rate reduction is conditioned on metric `val_acc` which is not available. Available metrics are: loss,accuracy,val_loss,val_accuracy,lr\n"
          ]
        },
        {
          "name": "stdout",
          "output_type": "stream",
          "text": [
            "\b\b\b\b\b\b\b\b\b\b\b\b\b\b\b\b\b\b\b\b\b\b\b\b\b\b\b\b\b\b\b\b\b\b\b\b\b\b\b\b\b\b\b\b\b\b\b\b\b\b\b\b\b\b\b\b\b\b\b\b\b\b\b\b\b\b\b\b\b\b\b\b\b\b\b\b\b\b\b\b\b\b\b\b\r465/465 [==============================] - 27s 57ms/step - loss: 0.2362 - accuracy: 0.9163 - val_loss: 0.8074 - val_accuracy: 0.7912 - lr: 0.0010\n",
            "Epoch 100/200\n",
            "464/465 [============================>.] - ETA: 0s - loss: 0.2317 - accuracy: 0.9189"
          ]
        },
        {
          "name": "stderr",
          "output_type": "stream",
          "text": [
            "WARNING:tensorflow:Learning rate reduction is conditioned on metric `val_acc` which is not available. Available metrics are: loss,accuracy,val_loss,val_accuracy,lr\n"
          ]
        },
        {
          "name": "stdout",
          "output_type": "stream",
          "text": [
            "\b\b\b\b\b\b\b\b\b\b\b\b\b\b\b\b\b\b\b\b\b\b\b\b\b\b\b\b\b\b\b\b\b\b\b\b\b\b\b\b\b\b\b\b\b\b\b\b\b\b\b\b\b\b\b\b\b\b\b\b\b\b\b\b\b\b\b\b\b\b\b\b\b\b\b\b\b\b\b\b\b\b\b\b\r465/465 [==============================] - 26s 56ms/step - loss: 0.2320 - accuracy: 0.9188 - val_loss: 0.8322 - val_accuracy: 0.7973 - lr: 0.0010\n",
            "Epoch 101/200\n",
            "464/465 [============================>.] - ETA: 0s - loss: 0.2279 - accuracy: 0.9172"
          ]
        },
        {
          "name": "stderr",
          "output_type": "stream",
          "text": [
            "WARNING:tensorflow:Learning rate reduction is conditioned on metric `val_acc` which is not available. Available metrics are: loss,accuracy,val_loss,val_accuracy,lr\n"
          ]
        },
        {
          "name": "stdout",
          "output_type": "stream",
          "text": [
            "\b\b\b\b\b\b\b\b\b\b\b\b\b\b\b\b\b\b\b\b\b\b\b\b\b\b\b\b\b\b\b\b\b\b\b\b\b\b\b\b\b\b\b\b\b\b\b\b\b\b\b\b\b\b\b\b\b\b\b\b\b\b\b\b\b\b\b\b\b\b\b\b\b\b\b\b\b\b\b\b\b\b\b\b\r465/465 [==============================] - 27s 57ms/step - loss: 0.2278 - accuracy: 0.9172 - val_loss: 0.7933 - val_accuracy: 0.7957 - lr: 0.0010\n",
            "Epoch 102/200\n",
            "464/465 [============================>.] - ETA: 0s - loss: 0.2208 - accuracy: 0.9221"
          ]
        },
        {
          "name": "stderr",
          "output_type": "stream",
          "text": [
            "WARNING:tensorflow:Learning rate reduction is conditioned on metric `val_acc` which is not available. Available metrics are: loss,accuracy,val_loss,val_accuracy,lr\n"
          ]
        },
        {
          "name": "stdout",
          "output_type": "stream",
          "text": [
            "\b\b\b\b\b\b\b\b\b\b\b\b\b\b\b\b\b\b\b\b\b\b\b\b\b\b\b\b\b\b\b\b\b\b\b\b\b\b\b\b\b\b\b\b\b\b\b\b\b\b\b\b\b\b\b\b\b\b\b\b\b\b\b\b\b\b\b\b\b\b\b\b\b\b\b\b\b\b\b\b\b\b\b\b\r465/465 [==============================] - 26s 57ms/step - loss: 0.2207 - accuracy: 0.9221 - val_loss: 0.8075 - val_accuracy: 0.7988 - lr: 0.0010\n",
            "Epoch 103/200\n",
            "464/465 [============================>.] - ETA: 0s - loss: 0.2112 - accuracy: 0.9271"
          ]
        },
        {
          "name": "stderr",
          "output_type": "stream",
          "text": [
            "WARNING:tensorflow:Learning rate reduction is conditioned on metric `val_acc` which is not available. Available metrics are: loss,accuracy,val_loss,val_accuracy,lr\n"
          ]
        },
        {
          "name": "stdout",
          "output_type": "stream",
          "text": [
            "\b\b\b\b\b\b\b\b\b\b\b\b\b\b\b\b\b\b\b\b\b\b\b\b\b\b\b\b\b\b\b\b\b\b\b\b\b\b\b\b\b\b\b\b\b\b\b\b\b\b\b\b\b\b\b\b\b\b\b\b\b\b\b\b\b\b\b\b\b\b\b\b\b\b\b\b\b\b\b\b\b\b\b\b\r465/465 [==============================] - 27s 57ms/step - loss: 0.2115 - accuracy: 0.9270 - val_loss: 0.8626 - val_accuracy: 0.7927 - lr: 0.0010\n",
            "Epoch 104/200\n",
            "464/465 [============================>.] - ETA: 0s - loss: 0.2247 - accuracy: 0.9208"
          ]
        },
        {
          "name": "stderr",
          "output_type": "stream",
          "text": [
            "WARNING:tensorflow:Learning rate reduction is conditioned on metric `val_acc` which is not available. Available metrics are: loss,accuracy,val_loss,val_accuracy,lr\n"
          ]
        },
        {
          "name": "stdout",
          "output_type": "stream",
          "text": [
            "\b\b\b\b\b\b\b\b\b\b\b\b\b\b\b\b\b\b\b\b\b\b\b\b\b\b\b\b\b\b\b\b\b\b\b\b\b\b\b\b\b\b\b\b\b\b\b\b\b\b\b\b\b\b\b\b\b\b\b\b\b\b\b\b\b\b\b\b\b\b\b\b\b\b\b\b\b\b\b\b\b\b\b\b\r465/465 [==============================] - 26s 57ms/step - loss: 0.2248 - accuracy: 0.9207 - val_loss: 0.8039 - val_accuracy: 0.7927 - lr: 0.0010\n",
            "Epoch 105/200\n",
            "464/465 [============================>.] - ETA: 0s - loss: 0.2504 - accuracy: 0.9129"
          ]
        },
        {
          "name": "stderr",
          "output_type": "stream",
          "text": [
            "WARNING:tensorflow:Learning rate reduction is conditioned on metric `val_acc` which is not available. Available metrics are: loss,accuracy,val_loss,val_accuracy,lr\n"
          ]
        },
        {
          "name": "stdout",
          "output_type": "stream",
          "text": [
            "\b\b\b\b\b\b\b\b\b\b\b\b\b\b\b\b\b\b\b\b\b\b\b\b\b\b\b\b\b\b\b\b\b\b\b\b\b\b\b\b\b\b\b\b\b\b\b\b\b\b\b\b\b\b\b\b\b\b\b\b\b\b\b\b\b\b\b\b\b\b\b\b\b\b\b\b\b\b\b\b\b\b\b\b\r465/465 [==============================] - 27s 57ms/step - loss: 0.2505 - accuracy: 0.9129 - val_loss: 0.8154 - val_accuracy: 0.7881 - lr: 0.0010\n",
            "Epoch 106/200\n",
            "464/465 [============================>.] - ETA: 0s - loss: 0.2263 - accuracy: 0.9199"
          ]
        },
        {
          "name": "stderr",
          "output_type": "stream",
          "text": [
            "WARNING:tensorflow:Learning rate reduction is conditioned on metric `val_acc` which is not available. Available metrics are: loss,accuracy,val_loss,val_accuracy,lr\n"
          ]
        },
        {
          "name": "stdout",
          "output_type": "stream",
          "text": [
            "\b\b\b\b\b\b\b\b\b\b\b\b\b\b\b\b\b\b\b\b\b\b\b\b\b\b\b\b\b\b\b\b\b\b\b\b\b\b\b\b\b\b\b\b\b\b\b\b\b\b\b\b\b\b\b\b\b\b\b\b\b\b\b\b\b\b\b\b\b\b\b\b\b\b\b\b\b\b\b\b\b\b\b\b\r465/465 [==============================] - 27s 58ms/step - loss: 0.2262 - accuracy: 0.9199 - val_loss: 0.8065 - val_accuracy: 0.7927 - lr: 0.0010\n",
            "Epoch 107/200\n",
            "464/465 [============================>.] - ETA: 0s - loss: 0.2235 - accuracy: 0.9235"
          ]
        },
        {
          "name": "stderr",
          "output_type": "stream",
          "text": [
            "WARNING:tensorflow:Learning rate reduction is conditioned on metric `val_acc` which is not available. Available metrics are: loss,accuracy,val_loss,val_accuracy,lr\n"
          ]
        },
        {
          "name": "stdout",
          "output_type": "stream",
          "text": [
            "\b\b\b\b\b\b\b\b\b\b\b\b\b\b\b\b\b\b\b\b\b\b\b\b\b\b\b\b\b\b\b\b\b\b\b\b\b\b\b\b\b\b\b\b\b\b\b\b\b\b\b\b\b\b\b\b\b\b\b\b\b\b\b\b\b\b\b\b\b\b\b\b\b\b\b\b\b\b\b\b\b\b\b\b\r465/465 [==============================] - 27s 57ms/step - loss: 0.2235 - accuracy: 0.9235 - val_loss: 0.8090 - val_accuracy: 0.8079 - lr: 0.0010\n",
            "Epoch 108/200\n",
            "464/465 [============================>.] - ETA: 0s - loss: 0.2158 - accuracy: 0.9261"
          ]
        },
        {
          "name": "stderr",
          "output_type": "stream",
          "text": [
            "WARNING:tensorflow:Learning rate reduction is conditioned on metric `val_acc` which is not available. Available metrics are: loss,accuracy,val_loss,val_accuracy,lr\n"
          ]
        },
        {
          "name": "stdout",
          "output_type": "stream",
          "text": [
            "\b\b\b\b\b\b\b\b\b\b\b\b\b\b\b\b\b\b\b\b\b\b\b\b\b\b\b\b\b\b\b\b\b\b\b\b\b\b\b\b\b\b\b\b\b\b\b\b\b\b\b\b\b\b\b\b\b\b\b\b\b\b\b\b\b\b\b\b\b\b\b\b\b\b\b\b\b\b\b\b\b\b\b\b\r465/465 [==============================] - 27s 58ms/step - loss: 0.2159 - accuracy: 0.9261 - val_loss: 0.8228 - val_accuracy: 0.7957 - lr: 0.0010\n",
            "Epoch 109/200\n",
            "464/465 [============================>.] - ETA: 0s - loss: 0.2106 - accuracy: 0.9270"
          ]
        },
        {
          "name": "stderr",
          "output_type": "stream",
          "text": [
            "WARNING:tensorflow:Learning rate reduction is conditioned on metric `val_acc` which is not available. Available metrics are: loss,accuracy,val_loss,val_accuracy,lr\n"
          ]
        },
        {
          "name": "stdout",
          "output_type": "stream",
          "text": [
            "\b\b\b\b\b\b\b\b\b\b\b\b\b\b\b\b\b\b\b\b\b\b\b\b\b\b\b\b\b\b\b\b\b\b\b\b\b\b\b\b\b\b\b\b\b\b\b\b\b\b\b\b\b\b\b\b\b\b\b\b\b\b\b\b\b\b\b\b\b\b\b\b\b\b\b\b\b\b\b\b\b\b\b\b\r465/465 [==============================] - 26s 57ms/step - loss: 0.2112 - accuracy: 0.9270 - val_loss: 0.7745 - val_accuracy: 0.8034 - lr: 0.0010\n",
            "Epoch 110/200\n",
            "464/465 [============================>.] - ETA: 0s - loss: 0.2083 - accuracy: 0.9248"
          ]
        },
        {
          "name": "stderr",
          "output_type": "stream",
          "text": [
            "WARNING:tensorflow:Learning rate reduction is conditioned on metric `val_acc` which is not available. Available metrics are: loss,accuracy,val_loss,val_accuracy,lr\n"
          ]
        },
        {
          "name": "stdout",
          "output_type": "stream",
          "text": [
            "\b\b\b\b\b\b\b\b\b\b\b\b\b\b\b\b\b\b\b\b\b\b\b\b\b\b\b\b\b\b\b\b\b\b\b\b\b\b\b\b\b\b\b\b\b\b\b\b\b\b\b\b\b\b\b\b\b\b\b\b\b\b\b\b\b\b\b\b\b\b\b\b\b\b\b\b\b\b\b\b\b\b\b\b\r465/465 [==============================] - 27s 57ms/step - loss: 0.2088 - accuracy: 0.9247 - val_loss: 0.8213 - val_accuracy: 0.8034 - lr: 0.0010\n",
            "Epoch 111/200\n",
            "464/465 [============================>.] - ETA: 0s - loss: 0.2111 - accuracy: 0.9244"
          ]
        },
        {
          "name": "stderr",
          "output_type": "stream",
          "text": [
            "WARNING:tensorflow:Learning rate reduction is conditioned on metric `val_acc` which is not available. Available metrics are: loss,accuracy,val_loss,val_accuracy,lr\n"
          ]
        },
        {
          "name": "stdout",
          "output_type": "stream",
          "text": [
            "\b\b\b\b\b\b\b\b\b\b\b\b\b\b\b\b\b\b\b\b\b\b\b\b\b\b\b\b\b\b\b\b\b\b\b\b\b\b\b\b\b\b\b\b\b\b\b\b\b\b\b\b\b\b\b\b\b\b\b\b\b\b\b\b\b\b\b\b\b\b\b\b\b\b\b\b\b\b\b\b\b\b\b\b\r465/465 [==============================] - 26s 57ms/step - loss: 0.2112 - accuracy: 0.9243 - val_loss: 0.7915 - val_accuracy: 0.7927 - lr: 0.0010\n",
            "Epoch 112/200\n",
            "464/465 [============================>.] - ETA: 0s - loss: 0.2030 - accuracy: 0.9274"
          ]
        },
        {
          "name": "stderr",
          "output_type": "stream",
          "text": [
            "WARNING:tensorflow:Learning rate reduction is conditioned on metric `val_acc` which is not available. Available metrics are: loss,accuracy,val_loss,val_accuracy,lr\n"
          ]
        },
        {
          "name": "stdout",
          "output_type": "stream",
          "text": [
            "\b\b\b\b\b\b\b\b\b\b\b\b\b\b\b\b\b\b\b\b\b\b\b\b\b\b\b\b\b\b\b\b\b\b\b\b\b\b\b\b\b\b\b\b\b\b\b\b\b\b\b\b\b\b\b\b\b\b\b\b\b\b\b\b\b\b\b\b\b\b\b\b\b\b\b\b\b\b\b\b\b\b\b\b\r465/465 [==============================] - 27s 57ms/step - loss: 0.2039 - accuracy: 0.9272 - val_loss: 0.8044 - val_accuracy: 0.8125 - lr: 0.0010\n",
            "Epoch 113/200\n",
            "464/465 [============================>.] - ETA: 0s - loss: 0.2132 - accuracy: 0.9255"
          ]
        },
        {
          "name": "stderr",
          "output_type": "stream",
          "text": [
            "WARNING:tensorflow:Learning rate reduction is conditioned on metric `val_acc` which is not available. Available metrics are: loss,accuracy,val_loss,val_accuracy,lr\n"
          ]
        },
        {
          "name": "stdout",
          "output_type": "stream",
          "text": [
            "\b\b\b\b\b\b\b\b\b\b\b\b\b\b\b\b\b\b\b\b\b\b\b\b\b\b\b\b\b\b\b\b\b\b\b\b\b\b\b\b\b\b\b\b\b\b\b\b\b\b\b\b\b\b\b\b\b\b\b\b\b\b\b\b\b\b\b\b\b\b\b\b\b\b\b\b\b\b\b\b\b\b\b\b\r465/465 [==============================] - 26s 57ms/step - loss: 0.2132 - accuracy: 0.9255 - val_loss: 0.8233 - val_accuracy: 0.8003 - lr: 0.0010\n",
            "Epoch 114/200\n",
            "464/465 [============================>.] - ETA: 0s - loss: 0.2112 - accuracy: 0.9247"
          ]
        },
        {
          "name": "stderr",
          "output_type": "stream",
          "text": [
            "WARNING:tensorflow:Learning rate reduction is conditioned on metric `val_acc` which is not available. Available metrics are: loss,accuracy,val_loss,val_accuracy,lr\n"
          ]
        },
        {
          "name": "stdout",
          "output_type": "stream",
          "text": [
            "\b\b\b\b\b\b\b\b\b\b\b\b\b\b\b\b\b\b\b\b\b\b\b\b\b\b\b\b\b\b\b\b\b\b\b\b\b\b\b\b\b\b\b\b\b\b\b\b\b\b\b\b\b\b\b\b\b\b\b\b\b\b\b\b\b\b\b\b\b\b\b\b\b\b\b\b\b\b\b\b\b\b\b\b\r465/465 [==============================] - 26s 56ms/step - loss: 0.2111 - accuracy: 0.9247 - val_loss: 0.8095 - val_accuracy: 0.7942 - lr: 0.0010\n",
            "Epoch 115/200\n",
            "464/465 [============================>.] - ETA: 0s - loss: 0.2099 - accuracy: 0.9256"
          ]
        },
        {
          "name": "stderr",
          "output_type": "stream",
          "text": [
            "WARNING:tensorflow:Learning rate reduction is conditioned on metric `val_acc` which is not available. Available metrics are: loss,accuracy,val_loss,val_accuracy,lr\n"
          ]
        },
        {
          "name": "stdout",
          "output_type": "stream",
          "text": [
            "\b\b\b\b\b\b\b\b\b\b\b\b\b\b\b\b\b\b\b\b\b\b\b\b\b\b\b\b\b\b\b\b\b\b\b\b\b\b\b\b\b\b\b\b\b\b\b\b\b\b\b\b\b\b\b\b\b\b\b\b\b\b\b\b\b\b\b\b\b\b\b\b\b\b\b\b\b\b\b\b\b\b\b\b\r465/465 [==============================] - 27s 57ms/step - loss: 0.2100 - accuracy: 0.9256 - val_loss: 0.7994 - val_accuracy: 0.8018 - lr: 0.0010\n",
            "Epoch 116/200\n",
            "464/465 [============================>.] - ETA: 0s - loss: 0.2140 - accuracy: 0.9260"
          ]
        },
        {
          "name": "stderr",
          "output_type": "stream",
          "text": [
            "WARNING:tensorflow:Learning rate reduction is conditioned on metric `val_acc` which is not available. Available metrics are: loss,accuracy,val_loss,val_accuracy,lr\n"
          ]
        },
        {
          "name": "stdout",
          "output_type": "stream",
          "text": [
            "\b\b\b\b\b\b\b\b\b\b\b\b\b\b\b\b\b\b\b\b\b\b\b\b\b\b\b\b\b\b\b\b\b\b\b\b\b\b\b\b\b\b\b\b\b\b\b\b\b\b\b\b\b\b\b\b\b\b\b\b\b\b\b\b\b\b\b\b\b\b\b\b\b\b\b\b\b\b\b\b\b\b\b\b\r465/465 [==============================] - 26s 56ms/step - loss: 0.2140 - accuracy: 0.9259 - val_loss: 0.8079 - val_accuracy: 0.7988 - lr: 0.0010\n",
            "Epoch 117/200\n",
            "464/465 [============================>.] - ETA: 0s - loss: 0.2062 - accuracy: 0.9281"
          ]
        },
        {
          "name": "stderr",
          "output_type": "stream",
          "text": [
            "WARNING:tensorflow:Learning rate reduction is conditioned on metric `val_acc` which is not available. Available metrics are: loss,accuracy,val_loss,val_accuracy,lr\n"
          ]
        },
        {
          "name": "stdout",
          "output_type": "stream",
          "text": [
            "\b\b\b\b\b\b\b\b\b\b\b\b\b\b\b\b\b\b\b\b\b\b\b\b\b\b\b\b\b\b\b\b\b\b\b\b\b\b\b\b\b\b\b\b\b\b\b\b\b\b\b\b\b\b\b\b\b\b\b\b\b\b\b\b\b\b\b\b\b\b\b\b\b\b\b\b\b\b\b\b\b\b\b\b\r465/465 [==============================] - 27s 58ms/step - loss: 0.2063 - accuracy: 0.9281 - val_loss: 0.7957 - val_accuracy: 0.7988 - lr: 0.0010\n",
            "Epoch 118/200\n",
            "464/465 [============================>.] - ETA: 0s - loss: 0.2002 - accuracy: 0.9301"
          ]
        },
        {
          "name": "stderr",
          "output_type": "stream",
          "text": [
            "WARNING:tensorflow:Learning rate reduction is conditioned on metric `val_acc` which is not available. Available metrics are: loss,accuracy,val_loss,val_accuracy,lr\n"
          ]
        },
        {
          "name": "stdout",
          "output_type": "stream",
          "text": [
            "\b\b\b\b\b\b\b\b\b\b\b\b\b\b\b\b\b\b\b\b\b\b\b\b\b\b\b\b\b\b\b\b\b\b\b\b\b\b\b\b\b\b\b\b\b\b\b\b\b\b\b\b\b\b\b\b\b\b\b\b\b\b\b\b\b\b\b\b\b\b\b\b\b\b\b\b\b\b\b\b\b\b\b\b\r465/465 [==============================] - 26s 56ms/step - loss: 0.2002 - accuracy: 0.9301 - val_loss: 0.7772 - val_accuracy: 0.8018 - lr: 0.0010\n",
            "Epoch 119/200\n",
            "464/465 [============================>.] - ETA: 0s - loss: 0.2009 - accuracy: 0.9302"
          ]
        },
        {
          "name": "stderr",
          "output_type": "stream",
          "text": [
            "WARNING:tensorflow:Learning rate reduction is conditioned on metric `val_acc` which is not available. Available metrics are: loss,accuracy,val_loss,val_accuracy,lr\n"
          ]
        },
        {
          "name": "stdout",
          "output_type": "stream",
          "text": [
            "\b\b\b\b\b\b\b\b\b\b\b\b\b\b\b\b\b\b\b\b\b\b\b\b\b\b\b\b\b\b\b\b\b\b\b\b\b\b\b\b\b\b\b\b\b\b\b\b\b\b\b\b\b\b\b\b\b\b\b\b\b\b\b\b\b\b\b\b\b\b\b\b\b\b\b\b\b\b\b\b\b\b\b\b\r465/465 [==============================] - 27s 57ms/step - loss: 0.2014 - accuracy: 0.9301 - val_loss: 0.7872 - val_accuracy: 0.8110 - lr: 0.0010\n",
            "Epoch 120/200\n",
            "464/465 [============================>.] - ETA: 0s - loss: 0.1932 - accuracy: 0.9307"
          ]
        },
        {
          "name": "stderr",
          "output_type": "stream",
          "text": [
            "WARNING:tensorflow:Learning rate reduction is conditioned on metric `val_acc` which is not available. Available metrics are: loss,accuracy,val_loss,val_accuracy,lr\n"
          ]
        },
        {
          "name": "stdout",
          "output_type": "stream",
          "text": [
            "\b\b\b\b\b\b\b\b\b\b\b\b\b\b\b\b\b\b\b\b\b\b\b\b\b\b\b\b\b\b\b\b\b\b\b\b\b\b\b\b\b\b\b\b\b\b\b\b\b\b\b\b\b\b\b\b\b\b\b\b\b\b\b\b\b\b\b\b\b\b\b\b\b\b\b\b\b\b\b\b\b\b\b\b\r465/465 [==============================] - 27s 58ms/step - loss: 0.1933 - accuracy: 0.9306 - val_loss: 0.7787 - val_accuracy: 0.8110 - lr: 0.0010\n",
            "Epoch 121/200\n",
            "464/465 [============================>.] - ETA: 0s - loss: 0.2116 - accuracy: 0.9275"
          ]
        },
        {
          "name": "stderr",
          "output_type": "stream",
          "text": [
            "WARNING:tensorflow:Learning rate reduction is conditioned on metric `val_acc` which is not available. Available metrics are: loss,accuracy,val_loss,val_accuracy,lr\n"
          ]
        },
        {
          "name": "stdout",
          "output_type": "stream",
          "text": [
            "\b\b\b\b\b\b\b\b\b\b\b\b\b\b\b\b\b\b\b\b\b\b\b\b\b\b\b\b\b\b\b\b\b\b\b\b\b\b\b\b\b\b\b\b\b\b\b\b\b\b\b\b\b\b\b\b\b\b\b\b\b\b\b\b\b\b\b\b\b\b\b\b\b\b\b\b\b\b\b\b\b\b\b\b\r465/465 [==============================] - 26s 56ms/step - loss: 0.2116 - accuracy: 0.9275 - val_loss: 0.7781 - val_accuracy: 0.8034 - lr: 0.0010\n",
            "Epoch 122/200\n",
            "464/465 [============================>.] - ETA: 0s - loss: 0.2101 - accuracy: 0.9273"
          ]
        },
        {
          "name": "stderr",
          "output_type": "stream",
          "text": [
            "WARNING:tensorflow:Learning rate reduction is conditioned on metric `val_acc` which is not available. Available metrics are: loss,accuracy,val_loss,val_accuracy,lr\n"
          ]
        },
        {
          "name": "stdout",
          "output_type": "stream",
          "text": [
            "\b\b\b\b\b\b\b\b\b\b\b\b\b\b\b\b\b\b\b\b\b\b\b\b\b\b\b\b\b\b\b\b\b\b\b\b\b\b\b\b\b\b\b\b\b\b\b\b\b\b\b\b\b\b\b\b\b\b\b\b\b\b\b\b\b\b\b\b\b\b\b\b\b\b\b\b\b\b\b\b\b\b\b\b\r465/465 [==============================] - 27s 58ms/step - loss: 0.2101 - accuracy: 0.9273 - val_loss: 0.7679 - val_accuracy: 0.8049 - lr: 0.0010\n",
            "Epoch 123/200\n",
            "464/465 [============================>.] - ETA: 0s - loss: 0.1970 - accuracy: 0.9320"
          ]
        },
        {
          "name": "stderr",
          "output_type": "stream",
          "text": [
            "WARNING:tensorflow:Learning rate reduction is conditioned on metric `val_acc` which is not available. Available metrics are: loss,accuracy,val_loss,val_accuracy,lr\n"
          ]
        },
        {
          "name": "stdout",
          "output_type": "stream",
          "text": [
            "\b\b\b\b\b\b\b\b\b\b\b\b\b\b\b\b\b\b\b\b\b\b\b\b\b\b\b\b\b\b\b\b\b\b\b\b\b\b\b\b\b\b\b\b\b\b\b\b\b\b\b\b\b\b\b\b\b\b\b\b\b\b\b\b\b\b\b\b\b\b\b\b\b\b\b\b\b\b\b\b\b\b\b\b\r465/465 [==============================] - 26s 57ms/step - loss: 0.1970 - accuracy: 0.9319 - val_loss: 0.7738 - val_accuracy: 0.8095 - lr: 0.0010\n",
            "Epoch 124/200\n",
            "464/465 [============================>.] - ETA: 0s - loss: 0.1958 - accuracy: 0.9312"
          ]
        },
        {
          "name": "stderr",
          "output_type": "stream",
          "text": [
            "WARNING:tensorflow:Learning rate reduction is conditioned on metric `val_acc` which is not available. Available metrics are: loss,accuracy,val_loss,val_accuracy,lr\n"
          ]
        },
        {
          "name": "stdout",
          "output_type": "stream",
          "text": [
            "\b\b\b\b\b\b\b\b\b\b\b\b\b\b\b\b\b\b\b\b\b\b\b\b\b\b\b\b\b\b\b\b\b\b\b\b\b\b\b\b\b\b\b\b\b\b\b\b\b\b\b\b\b\b\b\b\b\b\b\b\b\b\b\b\b\b\b\b\b\b\b\b\b\b\b\b\b\b\b\b\b\b\b\b\r465/465 [==============================] - 27s 57ms/step - loss: 0.1962 - accuracy: 0.9311 - val_loss: 0.7382 - val_accuracy: 0.8125 - lr: 0.0010\n",
            "Epoch 125/200\n",
            "464/465 [============================>.] - ETA: 0s - loss: 0.1896 - accuracy: 0.9329"
          ]
        },
        {
          "name": "stderr",
          "output_type": "stream",
          "text": [
            "WARNING:tensorflow:Learning rate reduction is conditioned on metric `val_acc` which is not available. Available metrics are: loss,accuracy,val_loss,val_accuracy,lr\n"
          ]
        },
        {
          "name": "stdout",
          "output_type": "stream",
          "text": [
            "\b\b\b\b\b\b\b\b\b\b\b\b\b\b\b\b\b\b\b\b\b\b\b\b\b\b\b\b\b\b\b\b\b\b\b\b\b\b\b\b\b\b\b\b\b\b\b\b\b\b\b\b\b\b\b\b\b\b\b\b\b\b\b\b\b\b\b\b\b\b\b\b\b\b\b\b\b\b\b\b\b\b\b\b\r465/465 [==============================] - 26s 57ms/step - loss: 0.1901 - accuracy: 0.9329 - val_loss: 0.7518 - val_accuracy: 0.8110 - lr: 0.0010\n",
            "Epoch 126/200\n",
            "464/465 [============================>.] - ETA: 0s - loss: 0.1974 - accuracy: 0.9335"
          ]
        },
        {
          "name": "stderr",
          "output_type": "stream",
          "text": [
            "WARNING:tensorflow:Learning rate reduction is conditioned on metric `val_acc` which is not available. Available metrics are: loss,accuracy,val_loss,val_accuracy,lr\n"
          ]
        },
        {
          "name": "stdout",
          "output_type": "stream",
          "text": [
            "\b\b\b\b\b\b\b\b\b\b\b\b\b\b\b\b\b\b\b\b\b\b\b\b\b\b\b\b\b\b\b\b\b\b\b\b\b\b\b\b\b\b\b\b\b\b\b\b\b\b\b\b\b\b\b\b\b\b\b\b\b\b\b\b\b\b\b\b\b\b\b\b\b\b\b\b\b\b\b\b\b\b\b\b\r465/465 [==============================] - 27s 57ms/step - loss: 0.1977 - accuracy: 0.9335 - val_loss: 0.7729 - val_accuracy: 0.8140 - lr: 0.0010\n",
            "Epoch 127/200\n",
            "464/465 [============================>.] - ETA: 0s - loss: 0.2055 - accuracy: 0.9285"
          ]
        },
        {
          "name": "stderr",
          "output_type": "stream",
          "text": [
            "WARNING:tensorflow:Learning rate reduction is conditioned on metric `val_acc` which is not available. Available metrics are: loss,accuracy,val_loss,val_accuracy,lr\n"
          ]
        },
        {
          "name": "stdout",
          "output_type": "stream",
          "text": [
            "\b\b\b\b\b\b\b\b\b\b\b\b\b\b\b\b\b\b\b\b\b\b\b\b\b\b\b\b\b\b\b\b\b\b\b\b\b\b\b\b\b\b\b\b\b\b\b\b\b\b\b\b\b\b\b\b\b\b\b\b\b\b\b\b\b\b\b\b\b\b\b\b\b\b\b\b\b\b\b\b\b\b\b\b\r465/465 [==============================] - 27s 58ms/step - loss: 0.2055 - accuracy: 0.9285 - val_loss: 0.7491 - val_accuracy: 0.8079 - lr: 0.0010\n",
            "Epoch 128/200\n",
            "464/465 [============================>.] - ETA: 0s - loss: 0.1946 - accuracy: 0.9306"
          ]
        },
        {
          "name": "stderr",
          "output_type": "stream",
          "text": [
            "WARNING:tensorflow:Learning rate reduction is conditioned on metric `val_acc` which is not available. Available metrics are: loss,accuracy,val_loss,val_accuracy,lr\n"
          ]
        },
        {
          "name": "stdout",
          "output_type": "stream",
          "text": [
            "\b\b\b\b\b\b\b\b\b\b\b\b\b\b\b\b\b\b\b\b\b\b\b\b\b\b\b\b\b\b\b\b\b\b\b\b\b\b\b\b\b\b\b\b\b\b\b\b\b\b\b\b\b\b\b\b\b\b\b\b\b\b\b\b\b\b\b\b\b\b\b\b\b\b\b\b\b\b\b\b\b\b\b\b\r465/465 [==============================] - 26s 57ms/step - loss: 0.1946 - accuracy: 0.9305 - val_loss: 0.7661 - val_accuracy: 0.8323 - lr: 0.0010\n",
            "Epoch 129/200\n",
            "464/465 [============================>.] - ETA: 0s - loss: 0.1875 - accuracy: 0.9316"
          ]
        },
        {
          "name": "stderr",
          "output_type": "stream",
          "text": [
            "WARNING:tensorflow:Learning rate reduction is conditioned on metric `val_acc` which is not available. Available metrics are: loss,accuracy,val_loss,val_accuracy,lr\n"
          ]
        },
        {
          "name": "stdout",
          "output_type": "stream",
          "text": [
            "\b\b\b\b\b\b\b\b\b\b\b\b\b\b\b\b\b\b\b\b\b\b\b\b\b\b\b\b\b\b\b\b\b\b\b\b\b\b\b\b\b\b\b\b\b\b\b\b\b\b\b\b\b\b\b\b\b\b\b\b\b\b\b\b\b\b\b\b\b\b\b\b\b\b\b\b\b\b\b\b\b\b\b\b\r465/465 [==============================] - 27s 58ms/step - loss: 0.1879 - accuracy: 0.9316 - val_loss: 0.7885 - val_accuracy: 0.8155 - lr: 0.0010\n",
            "Epoch 130/200\n",
            "464/465 [============================>.] - ETA: 0s - loss: 0.2053 - accuracy: 0.9261"
          ]
        },
        {
          "name": "stderr",
          "output_type": "stream",
          "text": [
            "WARNING:tensorflow:Learning rate reduction is conditioned on metric `val_acc` which is not available. Available metrics are: loss,accuracy,val_loss,val_accuracy,lr\n"
          ]
        },
        {
          "name": "stdout",
          "output_type": "stream",
          "text": [
            "\b\b\b\b\b\b\b\b\b\b\b\b\b\b\b\b\b\b\b\b\b\b\b\b\b\b\b\b\b\b\b\b\b\b\b\b\b\b\b\b\b\b\b\b\b\b\b\b\b\b\b\b\b\b\b\b\b\b\b\b\b\b\b\b\b\b\b\b\b\b\b\b\b\b\b\b\b\b\b\b\b\b\b\b\r465/465 [==============================] - 27s 57ms/step - loss: 0.2054 - accuracy: 0.9260 - val_loss: 0.7618 - val_accuracy: 0.8171 - lr: 0.0010\n",
            "Epoch 131/200\n",
            "464/465 [============================>.] - ETA: 0s - loss: 0.1853 - accuracy: 0.9361"
          ]
        },
        {
          "name": "stderr",
          "output_type": "stream",
          "text": [
            "WARNING:tensorflow:Learning rate reduction is conditioned on metric `val_acc` which is not available. Available metrics are: loss,accuracy,val_loss,val_accuracy,lr\n"
          ]
        },
        {
          "name": "stdout",
          "output_type": "stream",
          "text": [
            "\b\b\b\b\b\b\b\b\b\b\b\b\b\b\b\b\b\b\b\b\b\b\b\b\b\b\b\b\b\b\b\b\b\b\b\b\b\b\b\b\b\b\b\b\b\b\b\b\b\b\b\b\b\b\b\b\b\b\b\b\b\b\b\b\b\b\b\b\b\b\b\b\b\b\b\b\b\b\b\b\b\b\b\b\r465/465 [==============================] - 27s 58ms/step - loss: 0.1853 - accuracy: 0.9361 - val_loss: 0.8394 - val_accuracy: 0.8064 - lr: 0.0010\n",
            "Epoch 132/200\n",
            "464/465 [============================>.] - ETA: 0s - loss: 0.1856 - accuracy: 0.9331"
          ]
        },
        {
          "name": "stderr",
          "output_type": "stream",
          "text": [
            "WARNING:tensorflow:Learning rate reduction is conditioned on metric `val_acc` which is not available. Available metrics are: loss,accuracy,val_loss,val_accuracy,lr\n"
          ]
        },
        {
          "name": "stdout",
          "output_type": "stream",
          "text": [
            "\b\b\b\b\b\b\b\b\b\b\b\b\b\b\b\b\b\b\b\b\b\b\b\b\b\b\b\b\b\b\b\b\b\b\b\b\b\b\b\b\b\b\b\b\b\b\b\b\b\b\b\b\b\b\b\b\b\b\b\b\b\b\b\b\b\b\b\b\b\b\b\b\b\b\b\b\b\b\b\b\b\b\b\b\r465/465 [==============================] - 26s 56ms/step - loss: 0.1856 - accuracy: 0.9331 - val_loss: 0.8254 - val_accuracy: 0.8155 - lr: 0.0010\n",
            "Epoch 133/200\n",
            "464/465 [============================>.] - ETA: 0s - loss: 0.1885 - accuracy: 0.9319"
          ]
        },
        {
          "name": "stderr",
          "output_type": "stream",
          "text": [
            "WARNING:tensorflow:Learning rate reduction is conditioned on metric `val_acc` which is not available. Available metrics are: loss,accuracy,val_loss,val_accuracy,lr\n"
          ]
        },
        {
          "name": "stdout",
          "output_type": "stream",
          "text": [
            "\b\b\b\b\b\b\b\b\b\b\b\b\b\b\b\b\b\b\b\b\b\b\b\b\b\b\b\b\b\b\b\b\b\b\b\b\b\b\b\b\b\b\b\b\b\b\b\b\b\b\b\b\b\b\b\b\b\b\b\b\b\b\b\b\b\b\b\b\b\b\b\b\b\b\b\b\b\b\b\b\b\b\b\b\r465/465 [==============================] - 27s 57ms/step - loss: 0.1886 - accuracy: 0.9319 - val_loss: 0.7837 - val_accuracy: 0.8277 - lr: 0.0010\n",
            "Epoch 134/200\n",
            "464/465 [============================>.] - ETA: 0s - loss: 0.1991 - accuracy: 0.9329"
          ]
        },
        {
          "name": "stderr",
          "output_type": "stream",
          "text": [
            "WARNING:tensorflow:Learning rate reduction is conditioned on metric `val_acc` which is not available. Available metrics are: loss,accuracy,val_loss,val_accuracy,lr\n"
          ]
        },
        {
          "name": "stdout",
          "output_type": "stream",
          "text": [
            "\b\b\b\b\b\b\b\b\b\b\b\b\b\b\b\b\b\b\b\b\b\b\b\b\b\b\b\b\b\b\b\b\b\b\b\b\b\b\b\b\b\b\b\b\b\b\b\b\b\b\b\b\b\b\b\b\b\b\b\b\b\b\b\b\b\b\b\b\b\b\b\b\b\b\b\b\b\b\b\b\b\b\b\b\r465/465 [==============================] - 27s 58ms/step - loss: 0.1991 - accuracy: 0.9329 - val_loss: 0.8004 - val_accuracy: 0.8095 - lr: 0.0010\n",
            "Epoch 135/200\n",
            "464/465 [============================>.] - ETA: 0s - loss: 0.1848 - accuracy: 0.9365"
          ]
        },
        {
          "name": "stderr",
          "output_type": "stream",
          "text": [
            "WARNING:tensorflow:Learning rate reduction is conditioned on metric `val_acc` which is not available. Available metrics are: loss,accuracy,val_loss,val_accuracy,lr\n"
          ]
        },
        {
          "name": "stdout",
          "output_type": "stream",
          "text": [
            "\b\b\b\b\b\b\b\b\b\b\b\b\b\b\b\b\b\b\b\b\b\b\b\b\b\b\b\b\b\b\b\b\b\b\b\b\b\b\b\b\b\b\b\b\b\b\b\b\b\b\b\b\b\b\b\b\b\b\b\b\b\b\b\b\b\b\b\b\b\b\b\b\b\b\b\b\b\b\b\b\b\b\b\b\r465/465 [==============================] - 26s 56ms/step - loss: 0.1847 - accuracy: 0.9365 - val_loss: 0.7697 - val_accuracy: 0.8171 - lr: 0.0010\n",
            "Epoch 136/200\n",
            "464/465 [============================>.] - ETA: 0s - loss: 0.1805 - accuracy: 0.9369"
          ]
        },
        {
          "name": "stderr",
          "output_type": "stream",
          "text": [
            "WARNING:tensorflow:Learning rate reduction is conditioned on metric `val_acc` which is not available. Available metrics are: loss,accuracy,val_loss,val_accuracy,lr\n"
          ]
        },
        {
          "name": "stdout",
          "output_type": "stream",
          "text": [
            "\b\b\b\b\b\b\b\b\b\b\b\b\b\b\b\b\b\b\b\b\b\b\b\b\b\b\b\b\b\b\b\b\b\b\b\b\b\b\b\b\b\b\b\b\b\b\b\b\b\b\b\b\b\b\b\b\b\b\b\b\b\b\b\b\b\b\b\b\b\b\b\b\b\b\b\b\b\b\b\b\b\b\b\b\r465/465 [==============================] - 26s 57ms/step - loss: 0.1805 - accuracy: 0.9369 - val_loss: 0.7452 - val_accuracy: 0.8262 - lr: 0.0010\n",
            "Epoch 137/200\n",
            "464/465 [============================>.] - ETA: 0s - loss: 0.1741 - accuracy: 0.9411"
          ]
        },
        {
          "name": "stderr",
          "output_type": "stream",
          "text": [
            "WARNING:tensorflow:Learning rate reduction is conditioned on metric `val_acc` which is not available. Available metrics are: loss,accuracy,val_loss,val_accuracy,lr\n"
          ]
        },
        {
          "name": "stdout",
          "output_type": "stream",
          "text": [
            "\b\b\b\b\b\b\b\b\b\b\b\b\b\b\b\b\b\b\b\b\b\b\b\b\b\b\b\b\b\b\b\b\b\b\b\b\b\b\b\b\b\b\b\b\b\b\b\b\b\b\b\b\b\b\b\b\b\b\b\b\b\b\b\b\b\b\b\b\b\b\b\b\b\b\b\b\b\b\b\b\b\b\b\b\r465/465 [==============================] - 26s 57ms/step - loss: 0.1744 - accuracy: 0.9410 - val_loss: 0.8031 - val_accuracy: 0.7942 - lr: 0.0010\n",
            "Epoch 138/200\n",
            "464/465 [============================>.] - ETA: 0s - loss: 0.1916 - accuracy: 0.9355"
          ]
        },
        {
          "name": "stderr",
          "output_type": "stream",
          "text": [
            "WARNING:tensorflow:Learning rate reduction is conditioned on metric `val_acc` which is not available. Available metrics are: loss,accuracy,val_loss,val_accuracy,lr\n"
          ]
        },
        {
          "name": "stdout",
          "output_type": "stream",
          "text": [
            "\b\b\b\b\b\b\b\b\b\b\b\b\b\b\b\b\b\b\b\b\b\b\b\b\b\b\b\b\b\b\b\b\b\b\b\b\b\b\b\b\b\b\b\b\b\b\b\b\b\b\b\b\b\b\b\b\b\b\b\b\b\b\b\b\b\b\b\b\b\b\b\b\b\b\b\b\b\b\b\b\b\b\b\b\r465/465 [==============================] - 26s 57ms/step - loss: 0.1916 - accuracy: 0.9356 - val_loss: 0.7939 - val_accuracy: 0.8125 - lr: 0.0010\n",
            "Epoch 139/200\n",
            "464/465 [============================>.] - ETA: 0s - loss: 0.1862 - accuracy: 0.9348"
          ]
        },
        {
          "name": "stderr",
          "output_type": "stream",
          "text": [
            "WARNING:tensorflow:Learning rate reduction is conditioned on metric `val_acc` which is not available. Available metrics are: loss,accuracy,val_loss,val_accuracy,lr\n"
          ]
        },
        {
          "name": "stdout",
          "output_type": "stream",
          "text": [
            "\b\b\b\b\b\b\b\b\b\b\b\b\b\b\b\b\b\b\b\b\b\b\b\b\b\b\b\b\b\b\b\b\b\b\b\b\b\b\b\b\b\b\b\b\b\b\b\b\b\b\b\b\b\b\b\b\b\b\b\b\b\b\b\b\b\b\b\b\b\b\b\b\b\b\b\b\b\b\b\b\b\b\b\b\r465/465 [==============================] - 26s 57ms/step - loss: 0.1862 - accuracy: 0.9348 - val_loss: 0.8279 - val_accuracy: 0.8140 - lr: 0.0010\n",
            "Epoch 140/200\n",
            "464/465 [============================>.] - ETA: 0s - loss: 0.1928 - accuracy: 0.9315"
          ]
        },
        {
          "name": "stderr",
          "output_type": "stream",
          "text": [
            "WARNING:tensorflow:Learning rate reduction is conditioned on metric `val_acc` which is not available. Available metrics are: loss,accuracy,val_loss,val_accuracy,lr\n"
          ]
        },
        {
          "name": "stdout",
          "output_type": "stream",
          "text": [
            "\b\b\b\b\b\b\b\b\b\b\b\b\b\b\b\b\b\b\b\b\b\b\b\b\b\b\b\b\b\b\b\b\b\b\b\b\b\b\b\b\b\b\b\b\b\b\b\b\b\b\b\b\b\b\b\b\b\b\b\b\b\b\b\b\b\b\b\b\b\b\b\b\b\b\b\b\b\b\b\b\b\b\b\b\r465/465 [==============================] - 27s 57ms/step - loss: 0.1928 - accuracy: 0.9315 - val_loss: 0.8062 - val_accuracy: 0.8201 - lr: 0.0010\n",
            "Epoch 141/200\n",
            "464/465 [============================>.] - ETA: 0s - loss: 0.1778 - accuracy: 0.9397"
          ]
        },
        {
          "name": "stderr",
          "output_type": "stream",
          "text": [
            "WARNING:tensorflow:Learning rate reduction is conditioned on metric `val_acc` which is not available. Available metrics are: loss,accuracy,val_loss,val_accuracy,lr\n"
          ]
        },
        {
          "name": "stdout",
          "output_type": "stream",
          "text": [
            "\b\b\b\b\b\b\b\b\b\b\b\b\b\b\b\b\b\b\b\b\b\b\b\b\b\b\b\b\b\b\b\b\b\b\b\b\b\b\b\b\b\b\b\b\b\b\b\b\b\b\b\b\b\b\b\b\b\b\b\b\b\b\b\b\b\b\b\b\b\b\b\b\b\b\b\b\b\b\b\b\b\b\b\b\r465/465 [==============================] - 27s 58ms/step - loss: 0.1777 - accuracy: 0.9397 - val_loss: 0.7924 - val_accuracy: 0.8247 - lr: 0.0010\n",
            "Epoch 142/200\n",
            "464/465 [============================>.] - ETA: 0s - loss: 0.1839 - accuracy: 0.9334"
          ]
        },
        {
          "name": "stderr",
          "output_type": "stream",
          "text": [
            "WARNING:tensorflow:Learning rate reduction is conditioned on metric `val_acc` which is not available. Available metrics are: loss,accuracy,val_loss,val_accuracy,lr\n"
          ]
        },
        {
          "name": "stdout",
          "output_type": "stream",
          "text": [
            "\b\b\b\b\b\b\b\b\b\b\b\b\b\b\b\b\b\b\b\b\b\b\b\b\b\b\b\b\b\b\b\b\b\b\b\b\b\b\b\b\b\b\b\b\b\b\b\b\b\b\b\b\b\b\b\b\b\b\b\b\b\b\b\b\b\b\b\b\b\b\b\b\b\b\b\b\b\b\b\b\b\b\b\b\r465/465 [==============================] - 27s 58ms/step - loss: 0.1839 - accuracy: 0.9334 - val_loss: 0.8058 - val_accuracy: 0.8079 - lr: 0.0010\n",
            "Epoch 143/200\n",
            "464/465 [============================>.] - ETA: 0s - loss: 0.1890 - accuracy: 0.9339"
          ]
        },
        {
          "name": "stderr",
          "output_type": "stream",
          "text": [
            "WARNING:tensorflow:Learning rate reduction is conditioned on metric `val_acc` which is not available. Available metrics are: loss,accuracy,val_loss,val_accuracy,lr\n"
          ]
        },
        {
          "name": "stdout",
          "output_type": "stream",
          "text": [
            "\b\b\b\b\b\b\b\b\b\b\b\b\b\b\b\b\b\b\b\b\b\b\b\b\b\b\b\b\b\b\b\b\b\b\b\b\b\b\b\b\b\b\b\b\b\b\b\b\b\b\b\b\b\b\b\b\b\b\b\b\b\b\b\b\b\b\b\b\b\b\b\b\b\b\b\b\b\b\b\b\b\b\b\b\r465/465 [==============================] - 26s 56ms/step - loss: 0.1892 - accuracy: 0.9338 - val_loss: 0.7653 - val_accuracy: 0.8232 - lr: 0.0010\n",
            "Epoch 144/200\n",
            "464/465 [============================>.] - ETA: 0s - loss: 0.1821 - accuracy: 0.9362"
          ]
        },
        {
          "name": "stderr",
          "output_type": "stream",
          "text": [
            "WARNING:tensorflow:Learning rate reduction is conditioned on metric `val_acc` which is not available. Available metrics are: loss,accuracy,val_loss,val_accuracy,lr\n"
          ]
        },
        {
          "name": "stdout",
          "output_type": "stream",
          "text": [
            "\b\b\b\b\b\b\b\b\b\b\b\b\b\b\b\b\b\b\b\b\b\b\b\b\b\b\b\b\b\b\b\b\b\b\b\b\b\b\b\b\b\b\b\b\b\b\b\b\b\b\b\b\b\b\b\b\b\b\b\b\b\b\b\b\b\b\b\b\b\b\b\b\b\b\b\b\b\b\b\b\b\b\b\b\r465/465 [==============================] - 27s 57ms/step - loss: 0.1825 - accuracy: 0.9360 - val_loss: 0.8059 - val_accuracy: 0.8232 - lr: 0.0010\n",
            "Epoch 145/200\n",
            "464/465 [============================>.] - ETA: 0s - loss: 0.1852 - accuracy: 0.9362"
          ]
        },
        {
          "name": "stderr",
          "output_type": "stream",
          "text": [
            "WARNING:tensorflow:Learning rate reduction is conditioned on metric `val_acc` which is not available. Available metrics are: loss,accuracy,val_loss,val_accuracy,lr\n"
          ]
        },
        {
          "name": "stdout",
          "output_type": "stream",
          "text": [
            "\b\b\b\b\b\b\b\b\b\b\b\b\b\b\b\b\b\b\b\b\b\b\b\b\b\b\b\b\b\b\b\b\b\b\b\b\b\b\b\b\b\b\b\b\b\b\b\b\b\b\b\b\b\b\b\b\b\b\b\b\b\b\b\b\b\b\b\b\b\b\b\b\b\b\b\b\b\b\b\b\b\b\b\b\r465/465 [==============================] - 26s 57ms/step - loss: 0.1852 - accuracy: 0.9362 - val_loss: 0.7630 - val_accuracy: 0.8171 - lr: 0.0010\n",
            "Epoch 146/200\n",
            "464/465 [============================>.] - ETA: 0s - loss: 0.1856 - accuracy: 0.9354"
          ]
        },
        {
          "name": "stderr",
          "output_type": "stream",
          "text": [
            "WARNING:tensorflow:Learning rate reduction is conditioned on metric `val_acc` which is not available. Available metrics are: loss,accuracy,val_loss,val_accuracy,lr\n"
          ]
        },
        {
          "name": "stdout",
          "output_type": "stream",
          "text": [
            "\b\b\b\b\b\b\b\b\b\b\b\b\b\b\b\b\b\b\b\b\b\b\b\b\b\b\b\b\b\b\b\b\b\b\b\b\b\b\b\b\b\b\b\b\b\b\b\b\b\b\b\b\b\b\b\b\b\b\b\b\b\b\b\b\b\b\b\b\b\b\b\b\b\b\b\b\b\b\b\b\b\b\b\b\r465/465 [==============================] - 27s 57ms/step - loss: 0.1859 - accuracy: 0.9353 - val_loss: 0.8206 - val_accuracy: 0.8095 - lr: 0.0010\n",
            "Epoch 147/200\n",
            "464/465 [============================>.] - ETA: 0s - loss: 0.2029 - accuracy: 0.9290"
          ]
        },
        {
          "name": "stderr",
          "output_type": "stream",
          "text": [
            "WARNING:tensorflow:Learning rate reduction is conditioned on metric `val_acc` which is not available. Available metrics are: loss,accuracy,val_loss,val_accuracy,lr\n"
          ]
        },
        {
          "name": "stdout",
          "output_type": "stream",
          "text": [
            "\b\b\b\b\b\b\b\b\b\b\b\b\b\b\b\b\b\b\b\b\b\b\b\b\b\b\b\b\b\b\b\b\b\b\b\b\b\b\b\b\b\b\b\b\b\b\b\b\b\b\b\b\b\b\b\b\b\b\b\b\b\b\b\b\b\b\b\b\b\b\b\b\b\b\b\b\b\b\b\b\b\b\b\b\r465/465 [==============================] - 26s 56ms/step - loss: 0.2033 - accuracy: 0.9289 - val_loss: 0.7636 - val_accuracy: 0.7973 - lr: 0.0010\n",
            "Epoch 148/200\n",
            "464/465 [============================>.] - ETA: 0s - loss: 0.1746 - accuracy: 0.9391"
          ]
        },
        {
          "name": "stderr",
          "output_type": "stream",
          "text": [
            "WARNING:tensorflow:Learning rate reduction is conditioned on metric `val_acc` which is not available. Available metrics are: loss,accuracy,val_loss,val_accuracy,lr\n"
          ]
        },
        {
          "name": "stdout",
          "output_type": "stream",
          "text": [
            "\b\b\b\b\b\b\b\b\b\b\b\b\b\b\b\b\b\b\b\b\b\b\b\b\b\b\b\b\b\b\b\b\b\b\b\b\b\b\b\b\b\b\b\b\b\b\b\b\b\b\b\b\b\b\b\b\b\b\b\b\b\b\b\b\b\b\b\b\b\b\b\b\b\b\b\b\b\b\b\b\b\b\b\b\r465/465 [==============================] - 27s 58ms/step - loss: 0.1748 - accuracy: 0.9391 - val_loss: 0.7435 - val_accuracy: 0.8125 - lr: 0.0010\n",
            "Epoch 149/200\n",
            "464/465 [============================>.] - ETA: 0s - loss: 0.1680 - accuracy: 0.9395"
          ]
        },
        {
          "name": "stderr",
          "output_type": "stream",
          "text": [
            "WARNING:tensorflow:Learning rate reduction is conditioned on metric `val_acc` which is not available. Available metrics are: loss,accuracy,val_loss,val_accuracy,lr\n"
          ]
        },
        {
          "name": "stdout",
          "output_type": "stream",
          "text": [
            "\b\b\b\b\b\b\b\b\b\b\b\b\b\b\b\b\b\b\b\b\b\b\b\b\b\b\b\b\b\b\b\b\b\b\b\b\b\b\b\b\b\b\b\b\b\b\b\b\b\b\b\b\b\b\b\b\b\b\b\b\b\b\b\b\b\b\b\b\b\b\b\b\b\b\b\b\b\b\b\b\b\b\b\b\r465/465 [==============================] - 27s 57ms/step - loss: 0.1679 - accuracy: 0.9395 - val_loss: 0.7534 - val_accuracy: 0.8277 - lr: 0.0010\n",
            "Epoch 150/200\n",
            "464/465 [============================>.] - ETA: 0s - loss: 0.1711 - accuracy: 0.9394"
          ]
        },
        {
          "name": "stderr",
          "output_type": "stream",
          "text": [
            "WARNING:tensorflow:Learning rate reduction is conditioned on metric `val_acc` which is not available. Available metrics are: loss,accuracy,val_loss,val_accuracy,lr\n"
          ]
        },
        {
          "name": "stdout",
          "output_type": "stream",
          "text": [
            "\b\b\b\b\b\b\b\b\b\b\b\b\b\b\b\b\b\b\b\b\b\b\b\b\b\b\b\b\b\b\b\b\b\b\b\b\b\b\b\b\b\b\b\b\b\b\b\b\b\b\b\b\b\b\b\b\b\b\b\b\b\b\b\b\b\b\b\b\b\b\b\b\b\b\b\b\b\b\b\b\b\b\b\b\r465/465 [==============================] - 26s 57ms/step - loss: 0.1712 - accuracy: 0.9393 - val_loss: 0.7596 - val_accuracy: 0.8262 - lr: 0.0010\n",
            "Epoch 151/200\n",
            "464/465 [============================>.] - ETA: 0s - loss: 0.1714 - accuracy: 0.9409"
          ]
        },
        {
          "name": "stderr",
          "output_type": "stream",
          "text": [
            "WARNING:tensorflow:Learning rate reduction is conditioned on metric `val_acc` which is not available. Available metrics are: loss,accuracy,val_loss,val_accuracy,lr\n"
          ]
        },
        {
          "name": "stdout",
          "output_type": "stream",
          "text": [
            "\b\b\b\b\b\b\b\b\b\b\b\b\b\b\b\b\b\b\b\b\b\b\b\b\b\b\b\b\b\b\b\b\b\b\b\b\b\b\b\b\b\b\b\b\b\b\b\b\b\b\b\b\b\b\b\b\b\b\b\b\b\b\b\b\b\b\b\b\b\b\b\b\b\b\b\b\b\b\b\b\b\b\b\b\r465/465 [==============================] - 26s 57ms/step - loss: 0.1719 - accuracy: 0.9408 - val_loss: 0.8047 - val_accuracy: 0.8323 - lr: 0.0010\n",
            "Epoch 152/200\n",
            "464/465 [============================>.] - ETA: 0s - loss: 0.1865 - accuracy: 0.9345"
          ]
        },
        {
          "name": "stderr",
          "output_type": "stream",
          "text": [
            "WARNING:tensorflow:Learning rate reduction is conditioned on metric `val_acc` which is not available. Available metrics are: loss,accuracy,val_loss,val_accuracy,lr\n"
          ]
        },
        {
          "name": "stdout",
          "output_type": "stream",
          "text": [
            "\b\b\b\b\b\b\b\b\b\b\b\b\b\b\b\b\b\b\b\b\b\b\b\b\b\b\b\b\b\b\b\b\b\b\b\b\b\b\b\b\b\b\b\b\b\b\b\b\b\b\b\b\b\b\b\b\b\b\b\b\b\b\b\b\b\b\b\b\b\b\b\b\b\b\b\b\b\b\b\b\b\b\b\b\r465/465 [==============================] - 26s 57ms/step - loss: 0.1869 - accuracy: 0.9344 - val_loss: 0.7917 - val_accuracy: 0.8277 - lr: 0.0010\n",
            "Epoch 153/200\n",
            "464/465 [============================>.] - ETA: 0s - loss: 0.1660 - accuracy: 0.9414"
          ]
        },
        {
          "name": "stderr",
          "output_type": "stream",
          "text": [
            "WARNING:tensorflow:Learning rate reduction is conditioned on metric `val_acc` which is not available. Available metrics are: loss,accuracy,val_loss,val_accuracy,lr\n"
          ]
        },
        {
          "name": "stdout",
          "output_type": "stream",
          "text": [
            "\b\b\b\b\b\b\b\b\b\b\b\b\b\b\b\b\b\b\b\b\b\b\b\b\b\b\b\b\b\b\b\b\b\b\b\b\b\b\b\b\b\b\b\b\b\b\b\b\b\b\b\b\b\b\b\b\b\b\b\b\b\b\b\b\b\b\b\b\b\b\b\b\b\b\b\b\b\b\b\b\b\b\b\b\r465/465 [==============================] - 27s 57ms/step - loss: 0.1659 - accuracy: 0.9414 - val_loss: 0.7885 - val_accuracy: 0.8018 - lr: 0.0010\n",
            "Epoch 154/200\n",
            "464/465 [============================>.] - ETA: 0s - loss: 0.1786 - accuracy: 0.9378"
          ]
        },
        {
          "name": "stderr",
          "output_type": "stream",
          "text": [
            "WARNING:tensorflow:Learning rate reduction is conditioned on metric `val_acc` which is not available. Available metrics are: loss,accuracy,val_loss,val_accuracy,lr\n"
          ]
        },
        {
          "name": "stdout",
          "output_type": "stream",
          "text": [
            "\b\b\b\b\b\b\b\b\b\b\b\b\b\b\b\b\b\b\b\b\b\b\b\b\b\b\b\b\b\b\b\b\b\b\b\b\b\b\b\b\b\b\b\b\b\b\b\b\b\b\b\b\b\b\b\b\b\b\b\b\b\b\b\b\b\b\b\b\b\b\b\b\b\b\b\b\b\b\b\b\b\b\b\b\r465/465 [==============================] - 27s 57ms/step - loss: 0.1786 - accuracy: 0.9378 - val_loss: 0.8406 - val_accuracy: 0.8171 - lr: 0.0010\n",
            "Epoch 155/200\n",
            "464/465 [============================>.] - ETA: 0s - loss: 0.1723 - accuracy: 0.9393"
          ]
        },
        {
          "name": "stderr",
          "output_type": "stream",
          "text": [
            "WARNING:tensorflow:Learning rate reduction is conditioned on metric `val_acc` which is not available. Available metrics are: loss,accuracy,val_loss,val_accuracy,lr\n"
          ]
        },
        {
          "name": "stdout",
          "output_type": "stream",
          "text": [
            "\b\b\b\b\b\b\b\b\b\b\b\b\b\b\b\b\b\b\b\b\b\b\b\b\b\b\b\b\b\b\b\b\b\b\b\b\b\b\b\b\b\b\b\b\b\b\b\b\b\b\b\b\b\b\b\b\b\b\b\b\b\b\b\b\b\b\b\b\b\b\b\b\b\b\b\b\b\b\b\b\b\b\b\b\r465/465 [==============================] - 27s 59ms/step - loss: 0.1728 - accuracy: 0.9392 - val_loss: 0.8140 - val_accuracy: 0.8110 - lr: 0.0010\n",
            "Epoch 156/200\n",
            "464/465 [============================>.] - ETA: 0s - loss: 0.1608 - accuracy: 0.9434"
          ]
        },
        {
          "name": "stderr",
          "output_type": "stream",
          "text": [
            "WARNING:tensorflow:Learning rate reduction is conditioned on metric `val_acc` which is not available. Available metrics are: loss,accuracy,val_loss,val_accuracy,lr\n"
          ]
        },
        {
          "name": "stdout",
          "output_type": "stream",
          "text": [
            "\b\b\b\b\b\b\b\b\b\b\b\b\b\b\b\b\b\b\b\b\b\b\b\b\b\b\b\b\b\b\b\b\b\b\b\b\b\b\b\b\b\b\b\b\b\b\b\b\b\b\b\b\b\b\b\b\b\b\b\b\b\b\b\b\b\b\b\b\b\b\b\b\b\b\b\b\b\b\b\b\b\b\b\b\r465/465 [==============================] - 26s 56ms/step - loss: 0.1618 - accuracy: 0.9432 - val_loss: 0.8129 - val_accuracy: 0.8034 - lr: 0.0010\n",
            "Epoch 157/200\n",
            "464/465 [============================>.] - ETA: 0s - loss: 0.1802 - accuracy: 0.9359"
          ]
        },
        {
          "name": "stderr",
          "output_type": "stream",
          "text": [
            "WARNING:tensorflow:Learning rate reduction is conditioned on metric `val_acc` which is not available. Available metrics are: loss,accuracy,val_loss,val_accuracy,lr\n"
          ]
        },
        {
          "name": "stdout",
          "output_type": "stream",
          "text": [
            "\b\b\b\b\b\b\b\b\b\b\b\b\b\b\b\b\b\b\b\b\b\b\b\b\b\b\b\b\b\b\b\b\b\b\b\b\b\b\b\b\b\b\b\b\b\b\b\b\b\b\b\b\b\b\b\b\b\b\b\b\b\b\b\b\b\b\b\b\b\b\b\b\b\b\b\b\b\b\b\b\b\b\b\b\r465/465 [==============================] - 27s 57ms/step - loss: 0.1802 - accuracy: 0.9358 - val_loss: 0.7928 - val_accuracy: 0.8095 - lr: 0.0010\n",
            "Epoch 158/200\n",
            "464/465 [============================>.] - ETA: 0s - loss: 0.1683 - accuracy: 0.9413"
          ]
        },
        {
          "name": "stderr",
          "output_type": "stream",
          "text": [
            "WARNING:tensorflow:Learning rate reduction is conditioned on metric `val_acc` which is not available. Available metrics are: loss,accuracy,val_loss,val_accuracy,lr\n"
          ]
        },
        {
          "name": "stdout",
          "output_type": "stream",
          "text": [
            "\b\b\b\b\b\b\b\b\b\b\b\b\b\b\b\b\b\b\b\b\b\b\b\b\b\b\b\b\b\b\b\b\b\b\b\b\b\b\b\b\b\b\b\b\b\b\b\b\b\b\b\b\b\b\b\b\b\b\b\b\b\b\b\b\b\b\b\b\b\b\b\b\b\b\b\b\b\b\b\b\b\b\b\b\r465/465 [==============================] - 26s 56ms/step - loss: 0.1683 - accuracy: 0.9414 - val_loss: 0.8090 - val_accuracy: 0.8277 - lr: 0.0010\n",
            "Epoch 159/200\n",
            "464/465 [============================>.] - ETA: 0s - loss: 0.1724 - accuracy: 0.9395"
          ]
        },
        {
          "name": "stderr",
          "output_type": "stream",
          "text": [
            "WARNING:tensorflow:Learning rate reduction is conditioned on metric `val_acc` which is not available. Available metrics are: loss,accuracy,val_loss,val_accuracy,lr\n"
          ]
        },
        {
          "name": "stdout",
          "output_type": "stream",
          "text": [
            "\b\b\b\b\b\b\b\b\b\b\b\b\b\b\b\b\b\b\b\b\b\b\b\b\b\b\b\b\b\b\b\b\b\b\b\b\b\b\b\b\b\b\b\b\b\b\b\b\b\b\b\b\b\b\b\b\b\b\b\b\b\b\b\b\b\b\b\b\b\b\b\b\b\b\b\b\b\b\b\b\b\b\b\b\r465/465 [==============================] - 27s 57ms/step - loss: 0.1723 - accuracy: 0.9395 - val_loss: 0.8197 - val_accuracy: 0.8140 - lr: 0.0010\n",
            "Epoch 160/200\n",
            "464/465 [============================>.] - ETA: 0s - loss: 0.1670 - accuracy: 0.9426"
          ]
        },
        {
          "name": "stderr",
          "output_type": "stream",
          "text": [
            "WARNING:tensorflow:Learning rate reduction is conditioned on metric `val_acc` which is not available. Available metrics are: loss,accuracy,val_loss,val_accuracy,lr\n"
          ]
        },
        {
          "name": "stdout",
          "output_type": "stream",
          "text": [
            "\b\b\b\b\b\b\b\b\b\b\b\b\b\b\b\b\b\b\b\b\b\b\b\b\b\b\b\b\b\b\b\b\b\b\b\b\b\b\b\b\b\b\b\b\b\b\b\b\b\b\b\b\b\b\b\b\b\b\b\b\b\b\b\b\b\b\b\b\b\b\b\b\b\b\b\b\b\b\b\b\b\b\b\b\r465/465 [==============================] - 26s 56ms/step - loss: 0.1669 - accuracy: 0.9426 - val_loss: 0.8404 - val_accuracy: 0.8140 - lr: 0.0010\n",
            "Epoch 161/200\n",
            "464/465 [============================>.] - ETA: 0s - loss: 0.1667 - accuracy: 0.9435"
          ]
        },
        {
          "name": "stderr",
          "output_type": "stream",
          "text": [
            "WARNING:tensorflow:Learning rate reduction is conditioned on metric `val_acc` which is not available. Available metrics are: loss,accuracy,val_loss,val_accuracy,lr\n"
          ]
        },
        {
          "name": "stdout",
          "output_type": "stream",
          "text": [
            "\b\b\b\b\b\b\b\b\b\b\b\b\b\b\b\b\b\b\b\b\b\b\b\b\b\b\b\b\b\b\b\b\b\b\b\b\b\b\b\b\b\b\b\b\b\b\b\b\b\b\b\b\b\b\b\b\b\b\b\b\b\b\b\b\b\b\b\b\b\b\b\b\b\b\b\b\b\b\b\b\b\b\b\b\r465/465 [==============================] - 27s 57ms/step - loss: 0.1666 - accuracy: 0.9435 - val_loss: 0.8355 - val_accuracy: 0.8140 - lr: 0.0010\n",
            "Epoch 162/200\n",
            "464/465 [============================>.] - ETA: 0s - loss: 0.1600 - accuracy: 0.9449"
          ]
        },
        {
          "name": "stderr",
          "output_type": "stream",
          "text": [
            "WARNING:tensorflow:Learning rate reduction is conditioned on metric `val_acc` which is not available. Available metrics are: loss,accuracy,val_loss,val_accuracy,lr\n"
          ]
        },
        {
          "name": "stdout",
          "output_type": "stream",
          "text": [
            "\b\b\b\b\b\b\b\b\b\b\b\b\b\b\b\b\b\b\b\b\b\b\b\b\b\b\b\b\b\b\b\b\b\b\b\b\b\b\b\b\b\b\b\b\b\b\b\b\b\b\b\b\b\b\b\b\b\b\b\b\b\b\b\b\b\b\b\b\b\b\b\b\b\b\b\b\b\b\b\b\b\b\b\b\r465/465 [==============================] - 27s 57ms/step - loss: 0.1600 - accuracy: 0.9449 - val_loss: 0.7923 - val_accuracy: 0.8018 - lr: 0.0010\n",
            "Epoch 163/200\n",
            "464/465 [============================>.] - ETA: 0s - loss: 0.1657 - accuracy: 0.9437"
          ]
        },
        {
          "name": "stderr",
          "output_type": "stream",
          "text": [
            "WARNING:tensorflow:Learning rate reduction is conditioned on metric `val_acc` which is not available. Available metrics are: loss,accuracy,val_loss,val_accuracy,lr\n"
          ]
        },
        {
          "name": "stdout",
          "output_type": "stream",
          "text": [
            "\b\b\b\b\b\b\b\b\b\b\b\b\b\b\b\b\b\b\b\b\b\b\b\b\b\b\b\b\b\b\b\b\b\b\b\b\b\b\b\b\b\b\b\b\b\b\b\b\b\b\b\b\b\b\b\b\b\b\b\b\b\b\b\b\b\b\b\b\b\b\b\b\b\b\b\b\b\b\b\b\b\b\b\b\r465/465 [==============================] - 26s 56ms/step - loss: 0.1666 - accuracy: 0.9434 - val_loss: 0.8245 - val_accuracy: 0.8232 - lr: 0.0010\n",
            "Epoch 164/200\n",
            "464/465 [============================>.] - ETA: 0s - loss: 0.1694 - accuracy: 0.9401"
          ]
        },
        {
          "name": "stderr",
          "output_type": "stream",
          "text": [
            "WARNING:tensorflow:Learning rate reduction is conditioned on metric `val_acc` which is not available. Available metrics are: loss,accuracy,val_loss,val_accuracy,lr\n"
          ]
        },
        {
          "name": "stdout",
          "output_type": "stream",
          "text": [
            "\b\b\b\b\b\b\b\b\b\b\b\b\b\b\b\b\b\b\b\b\b\b\b\b\b\b\b\b\b\b\b\b\b\b\b\b\b\b\b\b\b\b\b\b\b\b\b\b\b\b\b\b\b\b\b\b\b\b\b\b\b\b\b\b\b\b\b\b\b\b\b\b\b\b\b\b\b\b\b\b\b\b\b\b\r465/465 [==============================] - 27s 57ms/step - loss: 0.1704 - accuracy: 0.9399 - val_loss: 0.8145 - val_accuracy: 0.8277 - lr: 0.0010\n",
            "Epoch 165/200\n",
            "464/465 [============================>.] - ETA: 0s - loss: 0.1581 - accuracy: 0.9446"
          ]
        },
        {
          "name": "stderr",
          "output_type": "stream",
          "text": [
            "WARNING:tensorflow:Learning rate reduction is conditioned on metric `val_acc` which is not available. Available metrics are: loss,accuracy,val_loss,val_accuracy,lr\n"
          ]
        },
        {
          "name": "stdout",
          "output_type": "stream",
          "text": [
            "\b\b\b\b\b\b\b\b\b\b\b\b\b\b\b\b\b\b\b\b\b\b\b\b\b\b\b\b\b\b\b\b\b\b\b\b\b\b\b\b\b\b\b\b\b\b\b\b\b\b\b\b\b\b\b\b\b\b\b\b\b\b\b\b\b\b\b\b\b\b\b\b\b\b\b\b\b\b\b\b\b\b\b\b\r465/465 [==============================] - 26s 57ms/step - loss: 0.1581 - accuracy: 0.9446 - val_loss: 0.8285 - val_accuracy: 0.8110 - lr: 0.0010\n",
            "Epoch 166/200\n",
            "464/465 [============================>.] - ETA: 0s - loss: 0.1596 - accuracy: 0.9459"
          ]
        },
        {
          "name": "stderr",
          "output_type": "stream",
          "text": [
            "WARNING:tensorflow:Learning rate reduction is conditioned on metric `val_acc` which is not available. Available metrics are: loss,accuracy,val_loss,val_accuracy,lr\n"
          ]
        },
        {
          "name": "stdout",
          "output_type": "stream",
          "text": [
            "\b\b\b\b\b\b\b\b\b\b\b\b\b\b\b\b\b\b\b\b\b\b\b\b\b\b\b\b\b\b\b\b\b\b\b\b\b\b\b\b\b\b\b\b\b\b\b\b\b\b\b\b\b\b\b\b\b\b\b\b\b\b\b\b\b\b\b\b\b\b\b\b\b\b\b\b\b\b\b\b\b\b\b\b\r465/465 [==============================] - 26s 57ms/step - loss: 0.1600 - accuracy: 0.9458 - val_loss: 0.7974 - val_accuracy: 0.8171 - lr: 0.0010\n",
            "Epoch 167/200\n",
            "464/465 [============================>.] - ETA: 0s - loss: 0.1628 - accuracy: 0.9429"
          ]
        },
        {
          "name": "stderr",
          "output_type": "stream",
          "text": [
            "WARNING:tensorflow:Learning rate reduction is conditioned on metric `val_acc` which is not available. Available metrics are: loss,accuracy,val_loss,val_accuracy,lr\n"
          ]
        },
        {
          "name": "stdout",
          "output_type": "stream",
          "text": [
            "\b\b\b\b\b\b\b\b\b\b\b\b\b\b\b\b\b\b\b\b\b\b\b\b\b\b\b\b\b\b\b\b\b\b\b\b\b\b\b\b\b\b\b\b\b\b\b\b\b\b\b\b\b\b\b\b\b\b\b\b\b\b\b\b\b\b\b\b\b\b\b\b\b\b\b\b\b\b\b\b\b\b\b\b\r465/465 [==============================] - 26s 56ms/step - loss: 0.1631 - accuracy: 0.9428 - val_loss: 0.8258 - val_accuracy: 0.8110 - lr: 0.0010\n",
            "Epoch 168/200\n",
            "464/465 [============================>.] - ETA: 0s - loss: 0.1583 - accuracy: 0.9445"
          ]
        },
        {
          "name": "stderr",
          "output_type": "stream",
          "text": [
            "WARNING:tensorflow:Learning rate reduction is conditioned on metric `val_acc` which is not available. Available metrics are: loss,accuracy,val_loss,val_accuracy,lr\n"
          ]
        },
        {
          "name": "stdout",
          "output_type": "stream",
          "text": [
            "\b\b\b\b\b\b\b\b\b\b\b\b\b\b\b\b\b\b\b\b\b\b\b\b\b\b\b\b\b\b\b\b\b\b\b\b\b\b\b\b\b\b\b\b\b\b\b\b\b\b\b\b\b\b\b\b\b\b\b\b\b\b\b\b\b\b\b\b\b\b\b\b\b\b\b\b\b\b\b\b\b\b\b\b\r465/465 [==============================] - 27s 57ms/step - loss: 0.1582 - accuracy: 0.9445 - val_loss: 0.8573 - val_accuracy: 0.8018 - lr: 0.0010\n",
            "Epoch 169/200\n",
            "464/465 [============================>.] - ETA: 0s - loss: 0.1625 - accuracy: 0.9443"
          ]
        },
        {
          "name": "stderr",
          "output_type": "stream",
          "text": [
            "WARNING:tensorflow:Learning rate reduction is conditioned on metric `val_acc` which is not available. Available metrics are: loss,accuracy,val_loss,val_accuracy,lr\n"
          ]
        },
        {
          "name": "stdout",
          "output_type": "stream",
          "text": [
            "\b\b\b\b\b\b\b\b\b\b\b\b\b\b\b\b\b\b\b\b\b\b\b\b\b\b\b\b\b\b\b\b\b\b\b\b\b\b\b\b\b\b\b\b\b\b\b\b\b\b\b\b\b\b\b\b\b\b\b\b\b\b\b\b\b\b\b\b\b\b\b\b\b\b\b\b\b\b\b\b\b\b\b\b\r465/465 [==============================] - 26s 57ms/step - loss: 0.1625 - accuracy: 0.9443 - val_loss: 0.8473 - val_accuracy: 0.8003 - lr: 0.0010\n",
            "Epoch 170/200\n",
            "464/465 [============================>.] - ETA: 0s - loss: 0.1679 - accuracy: 0.9428"
          ]
        },
        {
          "name": "stderr",
          "output_type": "stream",
          "text": [
            "WARNING:tensorflow:Learning rate reduction is conditioned on metric `val_acc` which is not available. Available metrics are: loss,accuracy,val_loss,val_accuracy,lr\n"
          ]
        },
        {
          "name": "stdout",
          "output_type": "stream",
          "text": [
            "\b\b\b\b\b\b\b\b\b\b\b\b\b\b\b\b\b\b\b\b\b\b\b\b\b\b\b\b\b\b\b\b\b\b\b\b\b\b\b\b\b\b\b\b\b\b\b\b\b\b\b\b\b\b\b\b\b\b\b\b\b\b\b\b\b\b\b\b\b\b\b\b\b\b\b\b\b\b\b\b\b\b\b\b\r465/465 [==============================] - 27s 57ms/step - loss: 0.1679 - accuracy: 0.9428 - val_loss: 0.8280 - val_accuracy: 0.8079 - lr: 0.0010\n",
            "Epoch 171/200\n",
            "464/465 [============================>.] - ETA: 0s - loss: 0.1618 - accuracy: 0.9442"
          ]
        },
        {
          "name": "stderr",
          "output_type": "stream",
          "text": [
            "WARNING:tensorflow:Learning rate reduction is conditioned on metric `val_acc` which is not available. Available metrics are: loss,accuracy,val_loss,val_accuracy,lr\n"
          ]
        },
        {
          "name": "stdout",
          "output_type": "stream",
          "text": [
            "\b\b\b\b\b\b\b\b\b\b\b\b\b\b\b\b\b\b\b\b\b\b\b\b\b\b\b\b\b\b\b\b\b\b\b\b\b\b\b\b\b\b\b\b\b\b\b\b\b\b\b\b\b\b\b\b\b\b\b\b\b\b\b\b\b\b\b\b\b\b\b\b\b\b\b\b\b\b\b\b\b\b\b\b\r465/465 [==============================] - 27s 57ms/step - loss: 0.1628 - accuracy: 0.9441 - val_loss: 0.8253 - val_accuracy: 0.8095 - lr: 0.0010\n",
            "Epoch 172/200\n",
            "464/465 [============================>.] - ETA: 0s - loss: 0.1667 - accuracy: 0.9415"
          ]
        },
        {
          "name": "stderr",
          "output_type": "stream",
          "text": [
            "WARNING:tensorflow:Learning rate reduction is conditioned on metric `val_acc` which is not available. Available metrics are: loss,accuracy,val_loss,val_accuracy,lr\n"
          ]
        },
        {
          "name": "stdout",
          "output_type": "stream",
          "text": [
            "\b\b\b\b\b\b\b\b\b\b\b\b\b\b\b\b\b\b\b\b\b\b\b\b\b\b\b\b\b\b\b\b\b\b\b\b\b\b\b\b\b\b\b\b\b\b\b\b\b\b\b\b\b\b\b\b\b\b\b\b\b\b\b\b\b\b\b\b\b\b\b\b\b\b\b\b\b\b\b\b\b\b\b\b\r465/465 [==============================] - 27s 57ms/step - loss: 0.1667 - accuracy: 0.9415 - val_loss: 0.8291 - val_accuracy: 0.8155 - lr: 0.0010\n",
            "Epoch 173/200\n",
            "464/465 [============================>.] - ETA: 0s - loss: 0.1545 - accuracy: 0.9469"
          ]
        },
        {
          "name": "stderr",
          "output_type": "stream",
          "text": [
            "WARNING:tensorflow:Learning rate reduction is conditioned on metric `val_acc` which is not available. Available metrics are: loss,accuracy,val_loss,val_accuracy,lr\n"
          ]
        },
        {
          "name": "stdout",
          "output_type": "stream",
          "text": [
            "\b\b\b\b\b\b\b\b\b\b\b\b\b\b\b\b\b\b\b\b\b\b\b\b\b\b\b\b\b\b\b\b\b\b\b\b\b\b\b\b\b\b\b\b\b\b\b\b\b\b\b\b\b\b\b\b\b\b\b\b\b\b\b\b\b\b\b\b\b\b\b\b\b\b\b\b\b\b\b\b\b\b\b\b\r465/465 [==============================] - 26s 57ms/step - loss: 0.1550 - accuracy: 0.9468 - val_loss: 0.7863 - val_accuracy: 0.8171 - lr: 0.0010\n",
            "Epoch 174/200\n",
            "464/465 [============================>.] - ETA: 0s - loss: 0.1633 - accuracy: 0.9447"
          ]
        },
        {
          "name": "stderr",
          "output_type": "stream",
          "text": [
            "WARNING:tensorflow:Learning rate reduction is conditioned on metric `val_acc` which is not available. Available metrics are: loss,accuracy,val_loss,val_accuracy,lr\n"
          ]
        },
        {
          "name": "stdout",
          "output_type": "stream",
          "text": [
            "\b\b\b\b\b\b\b\b\b\b\b\b\b\b\b\b\b\b\b\b\b\b\b\b\b\b\b\b\b\b\b\b\b\b\b\b\b\b\b\b\b\b\b\b\b\b\b\b\b\b\b\b\b\b\b\b\b\b\b\b\b\b\b\b\b\b\b\b\b\b\b\b\b\b\b\b\b\b\b\b\b\b\b\b\r465/465 [==============================] - 26s 57ms/step - loss: 0.1641 - accuracy: 0.9446 - val_loss: 0.7825 - val_accuracy: 0.8277 - lr: 0.0010\n",
            "Epoch 175/200\n",
            "464/465 [============================>.] - ETA: 0s - loss: 0.1653 - accuracy: 0.9419"
          ]
        },
        {
          "name": "stderr",
          "output_type": "stream",
          "text": [
            "WARNING:tensorflow:Learning rate reduction is conditioned on metric `val_acc` which is not available. Available metrics are: loss,accuracy,val_loss,val_accuracy,lr\n"
          ]
        },
        {
          "name": "stdout",
          "output_type": "stream",
          "text": [
            "\b\b\b\b\b\b\b\b\b\b\b\b\b\b\b\b\b\b\b\b\b\b\b\b\b\b\b\b\b\b\b\b\b\b\b\b\b\b\b\b\b\b\b\b\b\b\b\b\b\b\b\b\b\b\b\b\b\b\b\b\b\b\b\b\b\b\b\b\b\b\b\b\b\b\b\b\b\b\b\b\b\b\b\b\r465/465 [==============================] - 26s 57ms/step - loss: 0.1652 - accuracy: 0.9420 - val_loss: 0.8130 - val_accuracy: 0.8125 - lr: 0.0010\n",
            "Epoch 176/200\n",
            "464/465 [============================>.] - ETA: 0s - loss: 0.1486 - accuracy: 0.9484"
          ]
        },
        {
          "name": "stderr",
          "output_type": "stream",
          "text": [
            "WARNING:tensorflow:Learning rate reduction is conditioned on metric `val_acc` which is not available. Available metrics are: loss,accuracy,val_loss,val_accuracy,lr\n"
          ]
        },
        {
          "name": "stdout",
          "output_type": "stream",
          "text": [
            "\b\b\b\b\b\b\b\b\b\b\b\b\b\b\b\b\b\b\b\b\b\b\b\b\b\b\b\b\b\b\b\b\b\b\b\b\b\b\b\b\b\b\b\b\b\b\b\b\b\b\b\b\b\b\b\b\b\b\b\b\b\b\b\b\b\b\b\b\b\b\b\b\b\b\b\b\b\b\b\b\b\b\b\b\r465/465 [==============================] - 26s 57ms/step - loss: 0.1486 - accuracy: 0.9484 - val_loss: 0.8285 - val_accuracy: 0.8140 - lr: 0.0010\n",
            "Epoch 177/200\n",
            "464/465 [============================>.] - ETA: 0s - loss: 0.1527 - accuracy: 0.9477"
          ]
        },
        {
          "name": "stderr",
          "output_type": "stream",
          "text": [
            "WARNING:tensorflow:Learning rate reduction is conditioned on metric `val_acc` which is not available. Available metrics are: loss,accuracy,val_loss,val_accuracy,lr\n"
          ]
        },
        {
          "name": "stdout",
          "output_type": "stream",
          "text": [
            "\b\b\b\b\b\b\b\b\b\b\b\b\b\b\b\b\b\b\b\b\b\b\b\b\b\b\b\b\b\b\b\b\b\b\b\b\b\b\b\b\b\b\b\b\b\b\b\b\b\b\b\b\b\b\b\b\b\b\b\b\b\b\b\b\b\b\b\b\b\b\b\b\b\b\b\b\b\b\b\b\b\b\b\b\r465/465 [==============================] - 26s 57ms/step - loss: 0.1529 - accuracy: 0.9477 - val_loss: 0.7956 - val_accuracy: 0.8262 - lr: 0.0010\n",
            "Epoch 178/200\n",
            "464/465 [============================>.] - ETA: 0s - loss: 0.1568 - accuracy: 0.9462"
          ]
        },
        {
          "name": "stderr",
          "output_type": "stream",
          "text": [
            "WARNING:tensorflow:Learning rate reduction is conditioned on metric `val_acc` which is not available. Available metrics are: loss,accuracy,val_loss,val_accuracy,lr\n"
          ]
        },
        {
          "name": "stdout",
          "output_type": "stream",
          "text": [
            "\b\b\b\b\b\b\b\b\b\b\b\b\b\b\b\b\b\b\b\b\b\b\b\b\b\b\b\b\b\b\b\b\b\b\b\b\b\b\b\b\b\b\b\b\b\b\b\b\b\b\b\b\b\b\b\b\b\b\b\b\b\b\b\b\b\b\b\b\b\b\b\b\b\b\b\b\b\b\b\b\b\b\b\b\r465/465 [==============================] - 27s 57ms/step - loss: 0.1568 - accuracy: 0.9462 - val_loss: 0.8078 - val_accuracy: 0.8201 - lr: 0.0010\n",
            "Epoch 179/200\n",
            "464/465 [============================>.] - ETA: 0s - loss: 0.1575 - accuracy: 0.9455"
          ]
        },
        {
          "name": "stderr",
          "output_type": "stream",
          "text": [
            "WARNING:tensorflow:Learning rate reduction is conditioned on metric `val_acc` which is not available. Available metrics are: loss,accuracy,val_loss,val_accuracy,lr\n"
          ]
        },
        {
          "name": "stdout",
          "output_type": "stream",
          "text": [
            "\b\b\b\b\b\b\b\b\b\b\b\b\b\b\b\b\b\b\b\b\b\b\b\b\b\b\b\b\b\b\b\b\b\b\b\b\b\b\b\b\b\b\b\b\b\b\b\b\b\b\b\b\b\b\b\b\b\b\b\b\b\b\b\b\b\b\b\b\b\b\b\b\b\b\b\b\b\b\b\b\b\b\b\b\r465/465 [==============================] - 27s 57ms/step - loss: 0.1575 - accuracy: 0.9455 - val_loss: 0.8626 - val_accuracy: 0.8079 - lr: 0.0010\n",
            "Epoch 180/200\n",
            "464/465 [============================>.] - ETA: 0s - loss: 0.1592 - accuracy: 0.9457"
          ]
        },
        {
          "name": "stderr",
          "output_type": "stream",
          "text": [
            "WARNING:tensorflow:Learning rate reduction is conditioned on metric `val_acc` which is not available. Available metrics are: loss,accuracy,val_loss,val_accuracy,lr\n"
          ]
        },
        {
          "name": "stdout",
          "output_type": "stream",
          "text": [
            "\b\b\b\b\b\b\b\b\b\b\b\b\b\b\b\b\b\b\b\b\b\b\b\b\b\b\b\b\b\b\b\b\b\b\b\b\b\b\b\b\b\b\b\b\b\b\b\b\b\b\b\b\b\b\b\b\b\b\b\b\b\b\b\b\b\b\b\b\b\b\b\b\b\b\b\b\b\b\b\b\b\b\b\b\r465/465 [==============================] - 26s 57ms/step - loss: 0.1594 - accuracy: 0.9457 - val_loss: 0.8446 - val_accuracy: 0.8155 - lr: 0.0010\n",
            "Epoch 181/200\n",
            "464/465 [============================>.] - ETA: 0s - loss: 0.1655 - accuracy: 0.9421"
          ]
        },
        {
          "name": "stderr",
          "output_type": "stream",
          "text": [
            "WARNING:tensorflow:Learning rate reduction is conditioned on metric `val_acc` which is not available. Available metrics are: loss,accuracy,val_loss,val_accuracy,lr\n"
          ]
        },
        {
          "name": "stdout",
          "output_type": "stream",
          "text": [
            "\b\b\b\b\b\b\b\b\b\b\b\b\b\b\b\b\b\b\b\b\b\b\b\b\b\b\b\b\b\b\b\b\b\b\b\b\b\b\b\b\b\b\b\b\b\b\b\b\b\b\b\b\b\b\b\b\b\b\b\b\b\b\b\b\b\b\b\b\b\b\b\b\b\b\b\b\b\b\b\b\b\b\b\b\r465/465 [==============================] - 26s 56ms/step - loss: 0.1656 - accuracy: 0.9420 - val_loss: 0.8673 - val_accuracy: 0.8186 - lr: 0.0010\n",
            "Epoch 182/200\n",
            "464/465 [============================>.] - ETA: 0s - loss: 0.1512 - accuracy: 0.9471"
          ]
        },
        {
          "name": "stderr",
          "output_type": "stream",
          "text": [
            "WARNING:tensorflow:Learning rate reduction is conditioned on metric `val_acc` which is not available. Available metrics are: loss,accuracy,val_loss,val_accuracy,lr\n"
          ]
        },
        {
          "name": "stdout",
          "output_type": "stream",
          "text": [
            "\b\b\b\b\b\b\b\b\b\b\b\b\b\b\b\b\b\b\b\b\b\b\b\b\b\b\b\b\b\b\b\b\b\b\b\b\b\b\b\b\b\b\b\b\b\b\b\b\b\b\b\b\b\b\b\b\b\b\b\b\b\b\b\b\b\b\b\b\b\b\b\b\b\b\b\b\b\b\b\b\b\b\b\b\r465/465 [==============================] - 27s 58ms/step - loss: 0.1512 - accuracy: 0.9471 - val_loss: 0.8536 - val_accuracy: 0.8064 - lr: 0.0010\n",
            "Epoch 183/200\n",
            "464/465 [============================>.] - ETA: 0s - loss: 0.1713 - accuracy: 0.9420"
          ]
        },
        {
          "name": "stderr",
          "output_type": "stream",
          "text": [
            "WARNING:tensorflow:Learning rate reduction is conditioned on metric `val_acc` which is not available. Available metrics are: loss,accuracy,val_loss,val_accuracy,lr\n"
          ]
        },
        {
          "name": "stdout",
          "output_type": "stream",
          "text": [
            "\b\b\b\b\b\b\b\b\b\b\b\b\b\b\b\b\b\b\b\b\b\b\b\b\b\b\b\b\b\b\b\b\b\b\b\b\b\b\b\b\b\b\b\b\b\b\b\b\b\b\b\b\b\b\b\b\b\b\b\b\b\b\b\b\b\b\b\b\b\b\b\b\b\b\b\b\b\b\b\b\b\b\b\b\r465/465 [==============================] - 26s 56ms/step - loss: 0.1712 - accuracy: 0.9420 - val_loss: 0.8455 - val_accuracy: 0.7973 - lr: 0.0010\n",
            "Epoch 184/200\n",
            "464/465 [============================>.] - ETA: 0s - loss: 0.1562 - accuracy: 0.9475"
          ]
        },
        {
          "name": "stderr",
          "output_type": "stream",
          "text": [
            "WARNING:tensorflow:Learning rate reduction is conditioned on metric `val_acc` which is not available. Available metrics are: loss,accuracy,val_loss,val_accuracy,lr\n"
          ]
        },
        {
          "name": "stdout",
          "output_type": "stream",
          "text": [
            "\b\b\b\b\b\b\b\b\b\b\b\b\b\b\b\b\b\b\b\b\b\b\b\b\b\b\b\b\b\b\b\b\b\b\b\b\b\b\b\b\b\b\b\b\b\b\b\b\b\b\b\b\b\b\b\b\b\b\b\b\b\b\b\b\b\b\b\b\b\b\b\b\b\b\b\b\b\b\b\b\b\b\b\b\r465/465 [==============================] - 26s 57ms/step - loss: 0.1564 - accuracy: 0.9474 - val_loss: 0.8592 - val_accuracy: 0.8201 - lr: 0.0010\n",
            "Epoch 185/200\n",
            "464/465 [============================>.] - ETA: 0s - loss: 0.1604 - accuracy: 0.9431"
          ]
        },
        {
          "name": "stderr",
          "output_type": "stream",
          "text": [
            "WARNING:tensorflow:Learning rate reduction is conditioned on metric `val_acc` which is not available. Available metrics are: loss,accuracy,val_loss,val_accuracy,lr\n"
          ]
        },
        {
          "name": "stdout",
          "output_type": "stream",
          "text": [
            "\b\b\b\b\b\b\b\b\b\b\b\b\b\b\b\b\b\b\b\b\b\b\b\b\b\b\b\b\b\b\b\b\b\b\b\b\b\b\b\b\b\b\b\b\b\b\b\b\b\b\b\b\b\b\b\b\b\b\b\b\b\b\b\b\b\b\b\b\b\b\b\b\b\b\b\b\b\b\b\b\b\b\b\b\r465/465 [==============================] - 26s 56ms/step - loss: 0.1605 - accuracy: 0.9430 - val_loss: 0.8074 - val_accuracy: 0.8277 - lr: 0.0010\n",
            "Epoch 186/200\n",
            "464/465 [============================>.] - ETA: 0s - loss: 0.1528 - accuracy: 0.9468"
          ]
        },
        {
          "name": "stderr",
          "output_type": "stream",
          "text": [
            "WARNING:tensorflow:Learning rate reduction is conditioned on metric `val_acc` which is not available. Available metrics are: loss,accuracy,val_loss,val_accuracy,lr\n"
          ]
        },
        {
          "name": "stdout",
          "output_type": "stream",
          "text": [
            "\b\b\b\b\b\b\b\b\b\b\b\b\b\b\b\b\b\b\b\b\b\b\b\b\b\b\b\b\b\b\b\b\b\b\b\b\b\b\b\b\b\b\b\b\b\b\b\b\b\b\b\b\b\b\b\b\b\b\b\b\b\b\b\b\b\b\b\b\b\b\b\b\b\b\b\b\b\b\b\b\b\b\b\b\r465/465 [==============================] - 26s 57ms/step - loss: 0.1528 - accuracy: 0.9468 - val_loss: 0.8187 - val_accuracy: 0.8201 - lr: 0.0010\n",
            "Epoch 187/200\n",
            "464/465 [============================>.] - ETA: 0s - loss: 0.1399 - accuracy: 0.9518"
          ]
        },
        {
          "name": "stderr",
          "output_type": "stream",
          "text": [
            "WARNING:tensorflow:Learning rate reduction is conditioned on metric `val_acc` which is not available. Available metrics are: loss,accuracy,val_loss,val_accuracy,lr\n"
          ]
        },
        {
          "name": "stdout",
          "output_type": "stream",
          "text": [
            "\b\b\b\b\b\b\b\b\b\b\b\b\b\b\b\b\b\b\b\b\b\b\b\b\b\b\b\b\b\b\b\b\b\b\b\b\b\b\b\b\b\b\b\b\b\b\b\b\b\b\b\b\b\b\b\b\b\b\b\b\b\b\b\b\b\b\b\b\b\b\b\b\b\b\b\b\b\b\b\b\b\b\b\b\r465/465 [==============================] - 26s 56ms/step - loss: 0.1399 - accuracy: 0.9519 - val_loss: 0.8421 - val_accuracy: 0.8232 - lr: 0.0010\n",
            "Epoch 188/200\n",
            "464/465 [============================>.] - ETA: 0s - loss: 0.1436 - accuracy: 0.9521"
          ]
        },
        {
          "name": "stderr",
          "output_type": "stream",
          "text": [
            "WARNING:tensorflow:Learning rate reduction is conditioned on metric `val_acc` which is not available. Available metrics are: loss,accuracy,val_loss,val_accuracy,lr\n"
          ]
        },
        {
          "name": "stdout",
          "output_type": "stream",
          "text": [
            "\b\b\b\b\b\b\b\b\b\b\b\b\b\b\b\b\b\b\b\b\b\b\b\b\b\b\b\b\b\b\b\b\b\b\b\b\b\b\b\b\b\b\b\b\b\b\b\b\b\b\b\b\b\b\b\b\b\b\b\b\b\b\b\b\b\b\b\b\b\b\b\b\b\b\b\b\b\b\b\b\b\b\b\b\r465/465 [==============================] - 26s 57ms/step - loss: 0.1435 - accuracy: 0.9521 - val_loss: 0.8083 - val_accuracy: 0.8293 - lr: 0.0010\n",
            "Epoch 189/200\n",
            "464/465 [============================>.] - ETA: 0s - loss: 0.1525 - accuracy: 0.9489"
          ]
        },
        {
          "name": "stderr",
          "output_type": "stream",
          "text": [
            "WARNING:tensorflow:Learning rate reduction is conditioned on metric `val_acc` which is not available. Available metrics are: loss,accuracy,val_loss,val_accuracy,lr\n"
          ]
        },
        {
          "name": "stdout",
          "output_type": "stream",
          "text": [
            "\b\b\b\b\b\b\b\b\b\b\b\b\b\b\b\b\b\b\b\b\b\b\b\b\b\b\b\b\b\b\b\b\b\b\b\b\b\b\b\b\b\b\b\b\b\b\b\b\b\b\b\b\b\b\b\b\b\b\b\b\b\b\b\b\b\b\b\b\b\b\b\b\b\b\b\b\b\b\b\b\b\b\b\b\r465/465 [==============================] - 27s 57ms/step - loss: 0.1535 - accuracy: 0.9488 - val_loss: 0.8105 - val_accuracy: 0.8323 - lr: 0.0010\n",
            "Epoch 190/200\n",
            "464/465 [============================>.] - ETA: 0s - loss: 0.1495 - accuracy: 0.9479"
          ]
        },
        {
          "name": "stderr",
          "output_type": "stream",
          "text": [
            "WARNING:tensorflow:Learning rate reduction is conditioned on metric `val_acc` which is not available. Available metrics are: loss,accuracy,val_loss,val_accuracy,lr\n"
          ]
        },
        {
          "name": "stdout",
          "output_type": "stream",
          "text": [
            "\b\b\b\b\b\b\b\b\b\b\b\b\b\b\b\b\b\b\b\b\b\b\b\b\b\b\b\b\b\b\b\b\b\b\b\b\b\b\b\b\b\b\b\b\b\b\b\b\b\b\b\b\b\b\b\b\b\b\b\b\b\b\b\b\b\b\b\b\b\b\b\b\b\b\b\b\b\b\b\b\b\b\b\b\r465/465 [==============================] - 26s 57ms/step - loss: 0.1499 - accuracy: 0.9478 - val_loss: 0.8088 - val_accuracy: 0.8262 - lr: 0.0010\n",
            "Epoch 191/200\n",
            "464/465 [============================>.] - ETA: 0s - loss: 0.1567 - accuracy: 0.9452"
          ]
        },
        {
          "name": "stderr",
          "output_type": "stream",
          "text": [
            "WARNING:tensorflow:Learning rate reduction is conditioned on metric `val_acc` which is not available. Available metrics are: loss,accuracy,val_loss,val_accuracy,lr\n"
          ]
        },
        {
          "name": "stdout",
          "output_type": "stream",
          "text": [
            "\b\b\b\b\b\b\b\b\b\b\b\b\b\b\b\b\b\b\b\b\b\b\b\b\b\b\b\b\b\b\b\b\b\b\b\b\b\b\b\b\b\b\b\b\b\b\b\b\b\b\b\b\b\b\b\b\b\b\b\b\b\b\b\b\b\b\b\b\b\b\b\b\b\b\b\b\b\b\b\b\b\b\b\b\r465/465 [==============================] - 27s 58ms/step - loss: 0.1566 - accuracy: 0.9452 - val_loss: 0.7961 - val_accuracy: 0.8216 - lr: 0.0010\n",
            "Epoch 192/200\n",
            "464/465 [============================>.] - ETA: 0s - loss: 0.1503 - accuracy: 0.9479"
          ]
        },
        {
          "name": "stderr",
          "output_type": "stream",
          "text": [
            "WARNING:tensorflow:Learning rate reduction is conditioned on metric `val_acc` which is not available. Available metrics are: loss,accuracy,val_loss,val_accuracy,lr\n"
          ]
        },
        {
          "name": "stdout",
          "output_type": "stream",
          "text": [
            "\b\b\b\b\b\b\b\b\b\b\b\b\b\b\b\b\b\b\b\b\b\b\b\b\b\b\b\b\b\b\b\b\b\b\b\b\b\b\b\b\b\b\b\b\b\b\b\b\b\b\b\b\b\b\b\b\b\b\b\b\b\b\b\b\b\b\b\b\b\b\b\b\b\b\b\b\b\b\b\b\b\b\b\b\r465/465 [==============================] - 26s 57ms/step - loss: 0.1503 - accuracy: 0.9479 - val_loss: 0.8098 - val_accuracy: 0.8079 - lr: 0.0010\n",
            "Epoch 193/200\n",
            "464/465 [============================>.] - ETA: 0s - loss: 0.1553 - accuracy: 0.9440"
          ]
        },
        {
          "name": "stderr",
          "output_type": "stream",
          "text": [
            "WARNING:tensorflow:Learning rate reduction is conditioned on metric `val_acc` which is not available. Available metrics are: loss,accuracy,val_loss,val_accuracy,lr\n"
          ]
        },
        {
          "name": "stdout",
          "output_type": "stream",
          "text": [
            "\b\b\b\b\b\b\b\b\b\b\b\b\b\b\b\b\b\b\b\b\b\b\b\b\b\b\b\b\b\b\b\b\b\b\b\b\b\b\b\b\b\b\b\b\b\b\b\b\b\b\b\b\b\b\b\b\b\b\b\b\b\b\b\b\b\b\b\b\b\b\b\b\b\b\b\b\b\b\b\b\b\b\b\b\r465/465 [==============================] - 27s 57ms/step - loss: 0.1553 - accuracy: 0.9440 - val_loss: 0.8415 - val_accuracy: 0.8338 - lr: 0.0010\n",
            "Epoch 194/200\n",
            "464/465 [============================>.] - ETA: 0s - loss: 0.1489 - accuracy: 0.9505"
          ]
        },
        {
          "name": "stderr",
          "output_type": "stream",
          "text": [
            "WARNING:tensorflow:Learning rate reduction is conditioned on metric `val_acc` which is not available. Available metrics are: loss,accuracy,val_loss,val_accuracy,lr\n"
          ]
        },
        {
          "name": "stdout",
          "output_type": "stream",
          "text": [
            "\b\b\b\b\b\b\b\b\b\b\b\b\b\b\b\b\b\b\b\b\b\b\b\b\b\b\b\b\b\b\b\b\b\b\b\b\b\b\b\b\b\b\b\b\b\b\b\b\b\b\b\b\b\b\b\b\b\b\b\b\b\b\b\b\b\b\b\b\b\b\b\b\b\b\b\b\b\b\b\b\b\b\b\b\r465/465 [==============================] - 26s 57ms/step - loss: 0.1489 - accuracy: 0.9505 - val_loss: 0.7904 - val_accuracy: 0.8308 - lr: 0.0010\n",
            "Epoch 195/200\n",
            "464/465 [============================>.] - ETA: 0s - loss: 0.1682 - accuracy: 0.9430"
          ]
        },
        {
          "name": "stderr",
          "output_type": "stream",
          "text": [
            "WARNING:tensorflow:Learning rate reduction is conditioned on metric `val_acc` which is not available. Available metrics are: loss,accuracy,val_loss,val_accuracy,lr\n"
          ]
        },
        {
          "name": "stdout",
          "output_type": "stream",
          "text": [
            "\b\b\b\b\b\b\b\b\b\b\b\b\b\b\b\b\b\b\b\b\b\b\b\b\b\b\b\b\b\b\b\b\b\b\b\b\b\b\b\b\b\b\b\b\b\b\b\b\b\b\b\b\b\b\b\b\b\b\b\b\b\b\b\b\b\b\b\b\b\b\b\b\b\b\b\b\b\b\b\b\b\b\b\b\r465/465 [==============================] - 26s 57ms/step - loss: 0.1688 - accuracy: 0.9430 - val_loss: 0.8402 - val_accuracy: 0.8171 - lr: 0.0010\n",
            "Epoch 196/200\n",
            "464/465 [============================>.] - ETA: 0s - loss: 0.1608 - accuracy: 0.9444"
          ]
        },
        {
          "name": "stderr",
          "output_type": "stream",
          "text": [
            "WARNING:tensorflow:Learning rate reduction is conditioned on metric `val_acc` which is not available. Available metrics are: loss,accuracy,val_loss,val_accuracy,lr\n"
          ]
        },
        {
          "name": "stdout",
          "output_type": "stream",
          "text": [
            "\b\b\b\b\b\b\b\b\b\b\b\b\b\b\b\b\b\b\b\b\b\b\b\b\b\b\b\b\b\b\b\b\b\b\b\b\b\b\b\b\b\b\b\b\b\b\b\b\b\b\b\b\b\b\b\b\b\b\b\b\b\b\b\b\b\b\b\b\b\b\b\b\b\b\b\b\b\b\b\b\b\b\b\b\r465/465 [==============================] - 27s 57ms/step - loss: 0.1610 - accuracy: 0.9443 - val_loss: 0.7884 - val_accuracy: 0.8216 - lr: 0.0010\n",
            "Epoch 197/200\n",
            "464/465 [============================>.] - ETA: 0s - loss: 0.1438 - accuracy: 0.9499"
          ]
        },
        {
          "name": "stderr",
          "output_type": "stream",
          "text": [
            "WARNING:tensorflow:Learning rate reduction is conditioned on metric `val_acc` which is not available. Available metrics are: loss,accuracy,val_loss,val_accuracy,lr\n"
          ]
        },
        {
          "name": "stdout",
          "output_type": "stream",
          "text": [
            "\b\b\b\b\b\b\b\b\b\b\b\b\b\b\b\b\b\b\b\b\b\b\b\b\b\b\b\b\b\b\b\b\b\b\b\b\b\b\b\b\b\b\b\b\b\b\b\b\b\b\b\b\b\b\b\b\b\b\b\b\b\b\b\b\b\b\b\b\b\b\b\b\b\b\b\b\b\b\b\b\b\b\b\b\r465/465 [==============================] - 26s 57ms/step - loss: 0.1438 - accuracy: 0.9499 - val_loss: 0.8005 - val_accuracy: 0.8247 - lr: 0.0010\n",
            "Epoch 198/200\n",
            "464/465 [============================>.] - ETA: 0s - loss: 0.1356 - accuracy: 0.9516"
          ]
        },
        {
          "name": "stderr",
          "output_type": "stream",
          "text": [
            "WARNING:tensorflow:Learning rate reduction is conditioned on metric `val_acc` which is not available. Available metrics are: loss,accuracy,val_loss,val_accuracy,lr\n"
          ]
        },
        {
          "name": "stdout",
          "output_type": "stream",
          "text": [
            "\b\b\b\b\b\b\b\b\b\b\b\b\b\b\b\b\b\b\b\b\b\b\b\b\b\b\b\b\b\b\b\b\b\b\b\b\b\b\b\b\b\b\b\b\b\b\b\b\b\b\b\b\b\b\b\b\b\b\b\b\b\b\b\b\b\b\b\b\b\b\b\b\b\b\b\b\b\b\b\b\b\b\b\b\r465/465 [==============================] - 26s 57ms/step - loss: 0.1356 - accuracy: 0.9516 - val_loss: 0.8465 - val_accuracy: 0.8201 - lr: 0.0010\n",
            "Epoch 199/200\n",
            "464/465 [============================>.] - ETA: 0s - loss: 0.1403 - accuracy: 0.9520"
          ]
        },
        {
          "name": "stderr",
          "output_type": "stream",
          "text": [
            "WARNING:tensorflow:Learning rate reduction is conditioned on metric `val_acc` which is not available. Available metrics are: loss,accuracy,val_loss,val_accuracy,lr\n"
          ]
        },
        {
          "name": "stdout",
          "output_type": "stream",
          "text": [
            "\b\b\b\b\b\b\b\b\b\b\b\b\b\b\b\b\b\b\b\b\b\b\b\b\b\b\b\b\b\b\b\b\b\b\b\b\b\b\b\b\b\b\b\b\b\b\b\b\b\b\b\b\b\b\b\b\b\b\b\b\b\b\b\b\b\b\b\b\b\b\b\b\b\b\b\b\b\b\b\b\b\b\b\b\r465/465 [==============================] - 26s 56ms/step - loss: 0.1403 - accuracy: 0.9519 - val_loss: 0.7934 - val_accuracy: 0.8232 - lr: 0.0010\n",
            "Epoch 200/200\n",
            "464/465 [============================>.] - ETA: 0s - loss: 0.1518 - accuracy: 0.9467"
          ]
        },
        {
          "name": "stderr",
          "output_type": "stream",
          "text": [
            "WARNING:tensorflow:Learning rate reduction is conditioned on metric `val_acc` which is not available. Available metrics are: loss,accuracy,val_loss,val_accuracy,lr\n"
          ]
        },
        {
          "name": "stdout",
          "output_type": "stream",
          "text": [
            "\b\b\b\b\b\b\b\b\b\b\b\b\b\b\b\b\b\b\b\b\b\b\b\b\b\b\b\b\b\b\b\b\b\b\b\b\b\b\b\b\b\b\b\b\b\b\b\b\b\b\b\b\b\b\b\b\b\b\b\b\b\b\b\b\b\b\b\b\b\b\b\b\b\b\b\b\b\b\b\b\b\b\b\b\r465/465 [==============================] - 26s 57ms/step - loss: 0.1518 - accuracy: 0.9467 - val_loss: 0.7889 - val_accuracy: 0.8232 - lr: 0.0010\n"
          ]
        }
      ],
      "source": [
        "history=model.fit(x_train, y_train, batch_size=32, epochs=200, validation_data=(x_val, y_val), callbacks=callbacks)"
      ]
    },
    {
      "cell_type": "code",
      "execution_count": 45,
      "metadata": {
        "colab": {
          "base_uri": "https://localhost:8080/"
        },
        "id": "hXWKqq3JnYmZ",
        "outputId": "861b61eb-9e9a-4fe2-ddaa-7d1330985378"
      },
      "outputs": [
        {
          "name": "stdout",
          "output_type": "stream",
          "text": [
            "62/62 [==============================] - 2s 27ms/step - loss: 0.7220 - accuracy: 0.8367\n",
            "Accuracy of our model on test data :  83.672434091568 %\n"
          ]
        }
      ],
      "source": [
        "print(\"Accuracy of our model on test data : \" , model.evaluate(x_test,y_test)[1]*100 , \"%\")"
      ]
    },
    {
      "cell_type": "code",
      "execution_count": 51,
      "metadata": {
        "colab": {
          "base_uri": "https://localhost:8080/",
          "height": 459
        },
        "id": "i2jxtYsOouOi",
        "outputId": "4890602c-6921-4cbd-f0af-15cc11138171"
      },
      "outputs": [
        {
          "data": {
            "image/png": "[encoded data removed]",
            "text/plain": [
              "<Figure size 1200x400 with 2 Axes>"
            ]
          },
          "metadata": {},
          "output_type": "display_data"
        },
        {
          "name": "stdout",
          "output_type": "stream",
          "text": [
            "31/31 [==============================] - 3s 56ms/step - loss: 0.7220 - accuracy: 0.8367\n",
            "Test Loss: 0.7220\n",
            "Test Accuracy: 0.8367\n"
          ]
        }
      ],
      "source": [
        "# Plotting training and validation loss and accuracy\n",
        "plt.figure(figsize=(12, 4))\n",
        "\n",
        "plt.subplot(1, 2, 1)\n",
        "plt.plot(history.history['loss'], label='Training Loss')\n",
        "plt.plot(history.history['val_loss'], label='Validation Loss')\n",
        "plt.xlabel('Epochs')\n",
        "plt.ylabel('Loss')\n",
        "plt.title('Training and Validation Loss')\n",
        "plt.legend()\n",
        "\n",
        "plt.subplot(1, 2, 2)\n",
        "plt.plot(history.history['accuracy'], label='Training Accuracy')\n",
        "plt.plot(history.history['val_accuracy'], label='Validation Accuracy')\n",
        "plt.xlabel('Epochs')\n",
        "plt.ylabel('Accuracy')\n",
        "plt.title('Training and Validation Accuracy')\n",
        "plt.legend()\n",
        "\n",
        "plt.tight_layout()\n",
        "plt.show()\n",
        "\n",
        "# Evaluate the model on the test data\n",
        "test_loss, test_accuracy = model.evaluate(x_test, y_test, batch_size=64)\n",
        "print(f\"Test Loss: {test_loss:.4f}\")\n",
        "print(f\"Test Accuracy: {test_accuracy:.4f}\")"
      ]
    },
    {
      "cell_type": "code",
      "execution_count": 55,
      "metadata": {
        "colab": {
          "base_uri": "https://localhost:8080/"
        },
        "execution": {
          "iopub.execute_input": "2022-08-07T17:40:29.252392Z",
          "iopub.status.busy": "2022-08-07T17:40:29.251763Z",
          "iopub.status.idle": "2022-08-07T17:40:29.257742Z",
          "shell.execute_reply": "2022-08-07T17:40:29.257301Z"
        },
        "id": "7xziQzRyRdMB",
        "outputId": "b652faa7-34c1-4b40-cdf3-45e97ef9a658",
        "papermill": {
          "duration": 13.403174,
          "end_time": "2022-08-07T17:40:29.257837",
          "exception": false,
          "start_time": "2022-08-07T17:40:15.854663",
          "status": "completed"
        },
        "tags": []
      },
      "outputs": [
        {
          "name": "stdout",
          "output_type": "stream",
          "text": [
            "31/31 [==============================] - 1s 34ms/step - loss: 0.7220 - accuracy: 0.8367\n",
            "Test Loss: 0.7220\n",
            "Test Accuracy: 0.8367\n"
          ]
        }
      ],
      "source": [
        "# Evaluate the model on the test data\n",
        "test_loss, test_accuracy = model.evaluate(x_test, y_test, batch_size=64)\n",
        "print(f\"Test Loss: {test_loss:.4f}\")\n",
        "print(f\"Test Accuracy: {test_accuracy:.4f}\")"
      ]
    },
    {
      "cell_type": "code",
      "execution_count": 56,
      "metadata": {
        "colab": {
          "base_uri": "https://localhost:8080/"
        },
        "id": "rMtyn_yysz3f",
        "outputId": "e0ea2e3d-83cc-449d-f2b0-f6067cedc050"
      },
      "outputs": [
        {
          "name": "stdout",
          "output_type": "stream",
          "text": [
            "62/62 [==============================] - 1s 16ms/step\n"
          ]
        }
      ],
      "source": [
        "# Predict on the test data\n",
        "y_pred = model.predict(x_test)\n"
      ]
    },
    {
      "cell_type": "code",
      "execution_count": 61,
      "metadata": {
        "id": "MdlSG3vPs3PS"
      },
      "outputs": [],
      "source": [
        "# Convert string labels to numerical values\n",
        "from sklearn.preprocessing import LabelEncoder\n",
        "\n",
        "label_encoder = LabelEncoder()\n",
        "df['Predicted Labels'] = label_encoder.fit_transform(df['Predicted Labels'])\n",
        "df['Actual Labels'] = label_encoder.transform(df['Actual Labels'])"
      ]
    },
    {
      "cell_type": "code",
      "execution_count": 59,
      "metadata": {
        "colab": {
          "base_uri": "https://localhost:8080/",
          "height": 885
        },
        "execution": {
          "iopub.execute_input": "2022-08-07T17:40:56.620583Z",
          "iopub.status.busy": "2022-08-07T17:40:56.619854Z",
          "iopub.status.idle": "2022-08-07T17:40:56.987400Z",
          "shell.execute_reply": "2022-08-07T17:40:56.987827Z"
        },
        "id": "XUf9DOP8RdMB",
        "outputId": "a26cd12a-fb27-4b1b-cd12-9e706ef5dcdf",
        "papermill": {
          "duration": 14.529912,
          "end_time": "2022-08-07T17:40:56.987957",
          "exception": false,
          "start_time": "2022-08-07T17:40:42.458045",
          "status": "completed"
        },
        "tags": []
      },
      "outputs": [
        {
          "data": {
            "image/png": "[encoded data removed]",
            "text/plain": [
              "<Figure size 1200x1000 with 2 Axes>"
            ]
          },
          "metadata": {},
          "output_type": "display_data"
        }
      ],
      "source": [
        "# Generate and display the confusion matrix\n",
        "from sklearn.metrics import confusion_matrix, classification_report\n",
        "import seaborn as sns\n",
        "\n",
        "cm = confusion_matrix(np.argmax(y_test, axis=1), np.argmax(y_pred, axis=1))\n",
        "plt.figure(figsize=(12, 10))\n",
        "cm = pd.DataFrame(cm, index=encoder.categories_[0], columns=encoder.categories_[0])\n",
        "sns.heatmap(cm, linecolor='white', cmap='Blues', linewidth=1, annot=True, fmt='')\n",
        "plt.title('Confusion Matrix', size=20)\n",
        "plt.xlabel('Predicted Labels', size=14)\n",
        "plt.ylabel('Actual Labels', size=14)\n",
        "plt.show()"
      ]
    },
    {
      "cell_type": "code",
      "execution_count": 60,
      "metadata": {
        "colab": {
          "base_uri": "https://localhost:8080/"
        },
        "execution": {
          "iopub.execute_input": "2022-08-07T17:41:23.727003Z",
          "iopub.status.busy": "2022-08-07T17:41:23.726110Z",
          "iopub.status.idle": "2022-08-07T17:41:23.808377Z",
          "shell.execute_reply": "2022-08-07T17:41:23.807656Z"
        },
        "id": "H8JHnf90RdMB",
        "outputId": "6ec27cac-0f5a-4e75-dac9-8f19b6c604a9",
        "papermill": {
          "duration": 13.416666,
          "end_time": "2022-08-07T17:41:23.808485",
          "exception": false,
          "start_time": "2022-08-07T17:41:10.391819",
          "status": "completed"
        },
        "tags": []
      },
      "outputs": [
        {
          "name": "stdout",
          "output_type": "stream",
          "text": [
            "              precision    recall  f1-score   support\n",
            "\n",
            "           0       0.88      0.87      0.87       325\n",
            "           1       0.85      0.80      0.82       327\n",
            "           2       0.80      0.82      0.81       326\n",
            "           3       0.78      0.83      0.81       333\n",
            "           4       0.87      0.87      0.87       322\n",
            "           5       0.85      0.83      0.84       333\n",
            "\n",
            "    accuracy                           0.84      1966\n",
            "   macro avg       0.84      0.84      0.84      1966\n",
            "weighted avg       0.84      0.84      0.84      1966\n",
            "\n"
          ]
        }
      ],
      "source": [
        "# Print classification report\n",
        "print(classification_report(np.argmax(y_test, axis=1), np.argmax(y_pred, axis=1)))"
      ]
    }
  ],
  "metadata": {
    "accelerator": "GPU",
    "colab": {
      "gpuType": "T4",
      "provenance": []
    },
    "kernelspec": {
      "display_name": "Python 3",
      "name": "python3"
    },
    "language_info": {
      "codemirror_mode": {
        "name": "ipython",
        "version": 3
      },
      "file_extension": ".py",
      "mimetype": "text/x-python",
      "name": "python",
      "nbconvert_exporter": "python",
      "pygments_lexer": "ipython3",
      "version": "3.7.6"
    },
    "papermill": {
      "duration": 6745.329716,
      "end_time": "2022-08-07T17:41:37.955432",
      "environment_variables": {},
      "exception": null,
      "input_path": "__notebook__.ipynb",
      "output_path": "__notebook__.ipynb",
      "parameters": {},
      "start_time": "2022-08-07T15:49:12.625716",
      "version": "2.1.0"
    }
  },
  "nbformat": 4,
  "nbformat_minor": 0
}
